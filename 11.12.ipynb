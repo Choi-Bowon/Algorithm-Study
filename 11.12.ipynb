{
 "cells": [
  {
   "cell_type": "markdown",
   "metadata": {},
   "source": [
    "##### 1. 직사각형에서 탈출"
   ]
  },
  {
   "cell_type": "code",
   "execution_count": 10,
   "metadata": {},
   "outputs": [
    {
     "name": "stdout",
     "output_type": "stream",
     "text": [
      "161\n"
     ]
    }
   ],
   "source": [
    "x, y, w, h = map(int,input().split())\n",
    "min_x=min(abs(x-w),abs(y-h))\n",
    "\n",
    "min_y=min(x,y,w,h)\n",
    "\n",
    "if min_x>=min_y:\n",
    "    print(min_y)\n",
    "else:\n",
    "    print(min_x)"
   ]
  },
  {
   "cell_type": "markdown",
   "metadata": {},
   "source": [
    "##### 2. 소수 찾기"
   ]
  },
  {
   "cell_type": "code",
   "execution_count": 16,
   "metadata": {},
   "outputs": [
    {
     "name": "stdout",
     "output_type": "stream",
     "text": [
      "5\n"
     ]
    }
   ],
   "source": [
    "\n",
    "n=int(input())\n",
    "nums=list(map(int,input().split()))\n",
    "result=0\n",
    "\n",
    "for num in nums:\n",
    "    answer=0\n",
    "    for i in range(1,num+1):\n",
    "        if num%i==0:\n",
    "            answer+=1\n",
    "        else:\n",
    "            pass\n",
    "    if answer==2:\n",
    "        result+=1\n",
    "\n",
    "print(result)\n",
    "#2 3 4 5 6 7 7 -> 5개"
   ]
  },
  {
   "cell_type": "markdown",
   "metadata": {},
   "source": [
    "##### 3. 설탕 배달"
   ]
  },
  {
   "cell_type": "code",
   "execution_count": 18,
   "metadata": {},
   "outputs": [
    {
     "ename": "AttributeError",
     "evalue": "'int' object has no attribute 'copy'",
     "output_type": "error",
     "traceback": [
      "\u001b[0;31m---------------------------------------------------------------------------\u001b[0m",
      "\u001b[0;31mAttributeError\u001b[0m                            Traceback (most recent call last)",
      "\u001b[1;32m/Users/choibowon/Desktop/Algorithm_Study/11.12.ipynb 셀 6\u001b[0m in \u001b[0;36m<cell line: 2>\u001b[0;34m()\u001b[0m\n\u001b[1;32m      <a href='vscode-notebook-cell:/Users/choibowon/Desktop/Algorithm_Study/11.12.ipynb#W5sZmlsZQ%3D%3D?line=0'>1</a>\u001b[0m n\u001b[39m=\u001b[39m\u001b[39mint\u001b[39m(\u001b[39minput\u001b[39m())\n\u001b[0;32m----> <a href='vscode-notebook-cell:/Users/choibowon/Desktop/Algorithm_Study/11.12.ipynb#W5sZmlsZQ%3D%3D?line=1'>2</a>\u001b[0m cnt\u001b[39m=\u001b[39mn\u001b[39m.\u001b[39;49mcopy()\n\u001b[1;32m      <a href='vscode-notebook-cell:/Users/choibowon/Desktop/Algorithm_Study/11.12.ipynb#W5sZmlsZQ%3D%3D?line=2'>3</a>\u001b[0m answer\u001b[39m=\u001b[39m\u001b[39m0\u001b[39m\n\u001b[1;32m      <a href='vscode-notebook-cell:/Users/choibowon/Desktop/Algorithm_Study/11.12.ipynb#W5sZmlsZQ%3D%3D?line=5'>6</a>\u001b[0m \u001b[39mwhile\u001b[39;00m n\u001b[39m>\u001b[39m\u001b[39m0\u001b[39m:\n",
      "\u001b[0;31mAttributeError\u001b[0m: 'int' object has no attribute 'copy'"
     ]
    }
   ],
   "source": [
    "n=int(input())\n",
    "answer=0\n",
    "\n",
    "# 18 - 3*5 =3\n",
    "# 3- 1*3\n",
    "\n",
    "while n != 0:\n",
    "    if n%5==0:\n",
    "        answer=n//5\n",
    "    else:\n",
    "        \n",
    "        3:\n",
    "        n-=(n//5)*5\n",
    "        answer+=n//3      \n",
    "\n",
    "print(answer)"
   ]
  },
  {
   "cell_type": "markdown",
   "metadata": {},
   "source": [
    "##### 4. 링"
   ]
  },
  {
   "cell_type": "code",
   "execution_count": 30,
   "metadata": {},
   "outputs": [
    {
     "name": "stdout",
     "output_type": "stream",
     "text": [
      "300/1\n",
      "300/1\n",
      "1/1\n"
     ]
    }
   ],
   "source": [
    "from fractions import Fraction\n",
    "\n",
    "n=int(input())\n",
    "ring=list(map(int, input().split()))\n",
    "\n",
    "for i in range(1,len(ring)):\n",
    "    if ring[0]%ring[i]==0:\n",
    "        print(f'{ring[0]//ring[i]}/1')\n",
    "    else:\n",
    "        print(Fraction(ring[0],ring[i]))"
   ]
  },
  {
   "cell_type": "markdown",
   "metadata": {},
   "source": [
    "##### 5. 성적 통계"
   ]
  },
  {
   "cell_type": "code",
   "execution_count": 35,
   "metadata": {},
   "outputs": [
    {
     "name": "stdout",
     "output_type": "stream",
     "text": [
      "Class 1\n",
      "Max 78, Min 23, Largest gap 46\n",
      "Class 2\n",
      "Max 99, Min 25, Largest gap 25\n"
     ]
    }
   ],
   "source": [
    "k=int(input())\n",
    "scores=[]\n",
    "for i in range(k):\n",
    "    scores.append(list(map(int,input().split())))\n",
    "    gap=sorted(scores[i][1:],reverse=True)\n",
    "    max_gap=0\n",
    "    for j in range(len(gap)+1):\n",
    "        try:\n",
    "            if gap[j]-gap[j+1]>max_gap:\n",
    "                max_gap=gap[j]-gap[j+1]\n",
    "        except:\n",
    "            pass\n",
    "    print(f'Class {i+1}')\n",
    "    print(f'Max {max(scores[i][1:])}, Min {min(scores[i][1:])}, Largest gap {max_gap}')"
   ]
  },
  {
   "cell_type": "markdown",
   "metadata": {},
   "source": [
    "##### 6. 좌표 압축 (백준 - 18870번)\n",
    "- https://www.acmicpc.net/problem/18870"
   ]
  },
  {
   "cell_type": "code",
   "execution_count": 45,
   "metadata": {},
   "outputs": [
    {
     "name": "stdout",
     "output_type": "stream",
     "text": [
      "1 0 1 0 1 0 "
     ]
    }
   ],
   "source": [
    "import sys\n",
    "input=sys.stdin.readline\n",
    "\n",
    "n=int(input())\n",
    "nums=list(map(int, input().split()))\n",
    "\n",
    "result=list(sorted(set(nums)))\n",
    "\n",
    "dic = {result[i]:i for i in range(len(result))}\n",
    "\n",
    "for i in nums:\n",
    "  print(dic[i],end=' ')"
   ]
  },
  {
   "cell_type": "markdown",
   "metadata": {},
   "source": [
    "##### 7. 용돈 관리"
   ]
  },
  {
   "cell_type": "code",
   "execution_count": null,
   "metadata": {},
   "outputs": [],
   "source": [
    "n, m = int(input().split())\n",
    "for i in range(n):\n",
    "    "
   ]
  }
 ],
 "metadata": {
  "kernelspec": {
   "display_name": "Python 3.8.9 64-bit",
   "language": "python",
   "name": "python3"
  },
  "language_info": {
   "codemirror_mode": {
    "name": "ipython",
    "version": 3
   },
   "file_extension": ".py",
   "mimetype": "text/x-python",
   "name": "python",
   "nbconvert_exporter": "python",
   "pygments_lexer": "ipython3",
   "version": "3.8.9"
  },
  "orig_nbformat": 4,
  "vscode": {
   "interpreter": {
    "hash": "31f2aee4e71d21fbe5cf8b01ff0e069b9275f58929596ceb00d14d90e3e16cd6"
   }
  }
 },
 "nbformat": 4,
 "nbformat_minor": 2
}
