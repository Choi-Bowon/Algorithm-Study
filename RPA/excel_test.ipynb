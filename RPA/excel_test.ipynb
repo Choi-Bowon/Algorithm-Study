{
 "cells": [
  {
   "cell_type": "code",
   "execution_count": 43,
   "metadata": {},
   "outputs": [],
   "source": [
    "import openpyxl"
   ]
  },
  {
   "cell_type": "code",
   "execution_count": 44,
   "metadata": {},
   "outputs": [],
   "source": [
    "new_excel=openpyxl.Workbook()"
   ]
  },
  {
   "cell_type": "code",
   "execution_count": 45,
   "metadata": {},
   "outputs": [
    {
     "data": {
      "text/plain": [
       "<Worksheet \"Sheet\">"
      ]
     },
     "execution_count": 45,
     "metadata": {},
     "output_type": "execute_result"
    }
   ],
   "source": [
    "new_excel.active"
   ]
  },
  {
   "cell_type": "code",
   "execution_count": 46,
   "metadata": {},
   "outputs": [
    {
     "data": {
      "text/plain": [
       "['Sheet']"
      ]
     },
     "execution_count": 46,
     "metadata": {},
     "output_type": "execute_result"
    }
   ],
   "source": [
    "new_excel.sheetnames"
   ]
  },
  {
   "cell_type": "code",
   "execution_count": 47,
   "metadata": {},
   "outputs": [
    {
     "data": {
      "text/plain": [
       "<Worksheet \"study_sheet\">"
      ]
     },
     "execution_count": 47,
     "metadata": {},
     "output_type": "execute_result"
    }
   ],
   "source": [
    "new_excel.create_sheet('study_sheet')"
   ]
  },
  {
   "cell_type": "code",
   "execution_count": 48,
   "metadata": {},
   "outputs": [],
   "source": [
    "study_sheet=new_excel['study_sheet']"
   ]
  },
  {
   "cell_type": "code",
   "execution_count": 49,
   "metadata": {},
   "outputs": [],
   "source": [
    "# 셀 가져오기\n",
    "a1_cell=study_sheet['a1']"
   ]
  },
  {
   "cell_type": "code",
   "execution_count": 50,
   "metadata": {},
   "outputs": [
    {
     "name": "stdout",
     "output_type": "stream",
     "text": [
      "테스트입니다.\n"
     ]
    }
   ],
   "source": [
    "a1_cell.value='테스트입니다.'\n",
    "print(a1_cell.value)"
   ]
  },
  {
   "cell_type": "code",
   "execution_count": 51,
   "metadata": {},
   "outputs": [],
   "source": [
    "a_columns=study_sheet['a']\n",
    "rows_1=study_sheet['1']"
   ]
  },
  {
   "cell_type": "code",
   "execution_count": 52,
   "metadata": {},
   "outputs": [
    {
     "name": "stdout",
     "output_type": "stream",
     "text": [
      "<Cell 'study_sheet'.A1>\n",
      "<Cell 'study_sheet'.A1>\n"
     ]
    }
   ],
   "source": [
    "for row in a_columns:\n",
    "    print(row)\n",
    "\n",
    "for column in rows_1:\n",
    "    print(column)\n"
   ]
  },
  {
   "cell_type": "code",
   "execution_count": 53,
   "metadata": {},
   "outputs": [],
   "source": [
    "# 1행부터 2행까지 (포함해서 가져옴)\n",
    "rows_12=study_sheet['1:2']"
   ]
  },
  {
   "cell_type": "code",
   "execution_count": 54,
   "metadata": {},
   "outputs": [
    {
     "name": "stdout",
     "output_type": "stream",
     "text": [
      "테스트입니다.\n",
      "None\n"
     ]
    }
   ],
   "source": [
    "# 행들을 하나씩 가져옴\n",
    "for row in rows_12:\n",
    "    for cell in row:\n",
    "        print(cell.value)\n",
    "    # print(row)\n",
    "    # print(type(row))"
   ]
  },
  {
   "cell_type": "code",
   "execution_count": 55,
   "metadata": {},
   "outputs": [],
   "source": [
    "ab_columns=study_sheet['a:b']"
   ]
  },
  {
   "cell_type": "code",
   "execution_count": 56,
   "metadata": {},
   "outputs": [
    {
     "name": "stdout",
     "output_type": "stream",
     "text": [
      "테스트입니다.\n",
      "None\n",
      "None\n",
      "None\n"
     ]
    }
   ],
   "source": [
    "for column in ab_columns:\n",
    "    for cell in column:\n",
    "        print(cell.value)"
   ]
  },
  {
   "cell_type": "code",
   "execution_count": 57,
   "metadata": {},
   "outputs": [],
   "source": [
    "my_datas=study_sheet['a1:b3']"
   ]
  },
  {
   "cell_type": "code",
   "execution_count": 58,
   "metadata": {},
   "outputs": [
    {
     "data": {
      "text/plain": [
       "((<Cell 'study_sheet'.A1>, <Cell 'study_sheet'.B1>),\n",
       " (<Cell 'study_sheet'.A2>, <Cell 'study_sheet'.B2>),\n",
       " (<Cell 'study_sheet'.A3>, <Cell 'study_sheet'.B3>))"
      ]
     },
     "execution_count": 58,
     "metadata": {},
     "output_type": "execute_result"
    }
   ],
   "source": [
    "my_datas"
   ]
  },
  {
   "cell_type": "code",
   "execution_count": 59,
   "metadata": {},
   "outputs": [],
   "source": [
    "count=0\n",
    "\n",
    "for row in my_datas:\n",
    "    for cell in row:\n",
    "        # print(cell)\n",
    "        cell.value=count\n",
    "        count+=1"
   ]
  },
  {
   "cell_type": "code",
   "execution_count": 60,
   "metadata": {},
   "outputs": [
    {
     "name": "stdout",
     "output_type": "stream",
     "text": [
      "<Cell 'study_sheet'.A1>\n",
      "0\n",
      "<Cell 'study_sheet'.B1>\n",
      "1\n",
      "<Cell 'study_sheet'.A2>\n",
      "2\n",
      "<Cell 'study_sheet'.B2>\n",
      "3\n",
      "<Cell 'study_sheet'.A3>\n",
      "4\n",
      "<Cell 'study_sheet'.B3>\n",
      "5\n"
     ]
    }
   ],
   "source": [
    "for row in study_sheet.iter_rows():\n",
    "    for cell in row:\n",
    "        # pass\n",
    "        print(cell)\n",
    "        print(cell.value)"
   ]
  },
  {
   "cell_type": "code",
   "execution_count": 62,
   "metadata": {},
   "outputs": [
    {
     "name": "stdout",
     "output_type": "stream",
     "text": [
      "<Cell 'study_sheet'.A1>\n",
      "<Cell 'study_sheet'.B1>\n",
      "<Cell 'study_sheet'.A2>\n",
      "<Cell 'study_sheet'.B2>\n",
      "<Cell 'study_sheet'.A3>\n",
      "<Cell 'study_sheet'.B3>\n"
     ]
    }
   ],
   "source": [
    "for row in study_sheet.iter_rows():\n",
    "    for cell in row:\n",
    "        print(cell)"
   ]
  },
  {
   "cell_type": "code",
   "execution_count": 63,
   "metadata": {},
   "outputs": [],
   "source": [
    "study_sheet=new_excel['study_sheet']"
   ]
  },
  {
   "cell_type": "code",
   "execution_count": null,
   "metadata": {},
   "outputs": [],
   "source": [
    "study_sheet.append(['aa','bb','cc'])"
   ]
  },
  {
   "cell_type": "code",
   "execution_count": 61,
   "metadata": {},
   "outputs": [],
   "source": [
    "new_excel.save('./test_excel.xlsx')"
   ]
  },
  {
   "cell_type": "code",
   "execution_count": null,
   "metadata": {},
   "outputs": [],
   "source": []
  },
  {
   "cell_type": "code",
   "execution_count": null,
   "metadata": {},
   "outputs": [],
   "source": []
  }
 ],
 "metadata": {
  "kernelspec": {
   "display_name": "Python 3.10.4 ('study')",
   "language": "python",
   "name": "python3"
  },
  "language_info": {
   "codemirror_mode": {
    "name": "ipython",
    "version": 3
   },
   "file_extension": ".py",
   "mimetype": "text/x-python",
   "name": "python",
   "nbconvert_exporter": "python",
   "pygments_lexer": "ipython3",
   "version": "3.10.4"
  },
  "orig_nbformat": 4,
  "vscode": {
   "interpreter": {
    "hash": "6d3adedfb80ee571769eb11502afa6f60a6eb52bcaed4a1ba6c74a4ec7405124"
   }
  }
 },
 "nbformat": 4,
 "nbformat_minor": 2
}
