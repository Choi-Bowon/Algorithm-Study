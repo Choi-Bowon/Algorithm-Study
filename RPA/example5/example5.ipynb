{
 "cells": [
  {
   "cell_type": "code",
   "execution_count": 1,
   "metadata": {},
   "outputs": [],
   "source": [
    "# 엑셀 파일을 활용해 결제완료한 수강생들에게\n",
    "# 결제 확인 및 수강 안내 커리큘럼 이메일 발송하기"
   ]
  },
  {
   "cell_type": "code",
   "execution_count": 2,
   "metadata": {},
   "outputs": [],
   "source": [
    "import openpyxl"
   ]
  },
  {
   "cell_type": "code",
   "execution_count": 4,
   "metadata": {},
   "outputs": [],
   "source": [
    "# 활성화된 시트 가져오기\n",
    "workbook=openpyxl.load_workbook('./수강생_결제정보.xlsx')\n",
    "sheet=workbook.active"
   ]
  },
  {
   "cell_type": "code",
   "execution_count": 8,
   "metadata": {},
   "outputs": [
    {
     "name": "stdout",
     "output_type": "stream",
     "text": [
      "svstar94@gmail.com\n",
      "결제완료\n"
     ]
    }
   ],
   "source": [
    "# sheet의 행들을 하나씩 가져온다. (헤더는 슬라이싱해서 제오한다.)\n",
    "from email_manager import send_mail\n",
    "\n",
    "target_users=[]\n",
    "for row in sheet.iter_rows(min_row=2):\n",
    "    print(row[1].value)\n",
    "    if print(row[3].value)=='결제완료':\n",
    "        email_address=row[1].value\n",
    "        target_users.append(email_address)\n",
    "\n",
    "is_send=send_email('cbw1999@naver.com',target_users,\n",
    "                    subject='결제완료 안내 메일입니다',\n",
    "                    content='결제 완료 되었습니다.',\n",
    "                    attachments=['./커리큘럼.xlsx'])        \n",
    "if is_send:\n",
    "    print('발송 완료')\n",
    "    \n"
   ]
  },
  {
   "cell_type": "code",
   "execution_count": null,
   "metadata": {},
   "outputs": [],
   "source": []
  }
 ],
 "metadata": {
  "kernelspec": {
   "display_name": "Python 3.10.4 ('study')",
   "language": "python",
   "name": "python3"
  },
  "language_info": {
   "codemirror_mode": {
    "name": "ipython",
    "version": 3
   },
   "file_extension": ".py",
   "mimetype": "text/x-python",
   "name": "python",
   "nbconvert_exporter": "python",
   "pygments_lexer": "ipython3",
   "version": "3.10.4"
  },
  "orig_nbformat": 4,
  "vscode": {
   "interpreter": {
    "hash": "6d3adedfb80ee571769eb11502afa6f60a6eb52bcaed4a1ba6c74a4ec7405124"
   }
  }
 },
 "nbformat": 4,
 "nbformat_minor": 2
}
