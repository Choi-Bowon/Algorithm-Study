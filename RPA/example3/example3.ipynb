{
 "cells": [
  {
   "cell_type": "code",
   "execution_count": 1,
   "metadata": {},
   "outputs": [],
   "source": [
    "import openpyxl"
   ]
  },
  {
   "cell_type": "code",
   "execution_count": 7,
   "metadata": {},
   "outputs": [],
   "source": [
    "# 취합할 파일 생성\n",
    "new_excel=openpyxl.Workbook('./xlsx_files/2017.12.1.xlsx')\n",
    "\n",
    "# 저장\n",
    "new_excel.save('./example3_excel.xlsx')"
   ]
  },
  {
   "cell_type": "code",
   "execution_count": 10,
   "metadata": {},
   "outputs": [
    {
     "data": {
      "text/plain": [
       "<Worksheet \"Sheet\">"
      ]
     },
     "execution_count": 10,
     "metadata": {},
     "output_type": "execute_result"
    }
   ],
   "source": [
    "excel_1=openpyxl.load_workbook('./2017.12.1.xlsx',read_only=False)\n",
    "\n",
    "excel_1.active"
   ]
  },
  {
   "cell_type": "code",
   "execution_count": 11,
   "metadata": {},
   "outputs": [],
   "source": [
    "data_sheet=excel_1['Sheet']"
   ]
  },
  {
   "cell_type": "code",
   "execution_count": 21,
   "metadata": {},
   "outputs": [
    {
     "name": "stdout",
     "output_type": "stream",
     "text": [
      "2017.12.1\n",
      " 0:00:00\n",
      "log-data at '2017-12-1  0:00:00'\n",
      "2017.12.1\n",
      " 1:00:00\n",
      "log-data at '2017-12-1  1:00:00'\n",
      "2017.12.1\n",
      " 2:00:00\n",
      "log-data at '2017-12-1  2:00:00'\n",
      "2017.12.1\n",
      " 3:00:00\n",
      "log-data at '2017-12-1  3:00:00'\n",
      "2017.12.1\n",
      " 4:00:00\n",
      "log-data at '2017-12-1  4:00:00'\n",
      "2017.12.1\n",
      " 5:00:00\n",
      "log-data at '2017-12-1  5:00:00'\n",
      "2017.12.1\n",
      " 6:00:00\n",
      "log-data at '2017-12-1  6:00:00'\n",
      "2017.12.1\n",
      " 7:00:00\n",
      "log-data at '2017-12-1  7:00:00'\n",
      "2017.12.1\n",
      " 8:00:00\n",
      "log-data at '2017-12-1  8:00:00'\n",
      "2017.12.1\n",
      " 9:00:00\n",
      "log-data at '2017-12-1  9:00:00'\n",
      "2017.12.1\n",
      "10:00:00\n",
      "log-data at '2017-12-1 10:00:00'\n",
      "2017.12.1\n",
      "11:00:00\n",
      "log-data at '2017-12-1 11:00:00'\n",
      "2017.12.1\n",
      "12:00:00\n",
      "log-data at '2017-12-1 12:00:00'\n",
      "2017.12.1\n",
      "13:00:00\n",
      "log-data at '2017-12-1 13:00:00'\n",
      "2017.12.1\n",
      "14:00:00\n",
      "log-data at '2017-12-1 14:00:00'\n",
      "2017.12.1\n",
      "15:00:00\n",
      "log-data at '2017-12-1 15:00:00'\n",
      "2017.12.1\n",
      "16:00:00\n",
      "log-data at '2017-12-1 16:00:00'\n",
      "2017.12.1\n",
      "17:00:00\n",
      "log-data at '2017-12-1 17:00:00'\n",
      "2017.12.1\n",
      "18:00:00\n",
      "log-data at '2017-12-1 18:00:00'\n",
      "2017.12.1\n",
      "19:00:00\n",
      "log-data at '2017-12-1 19:00:00'\n",
      "2017.12.1\n",
      "20:00:00\n",
      "log-data at '2017-12-1 20:00:00'\n",
      "2017.12.1\n",
      "21:00:00\n",
      "log-data at '2017-12-1 21:00:00'\n",
      "2017.12.1\n",
      "22:00:00\n",
      "log-data at '2017-12-1 22:00:00'\n",
      "2017.12.1\n",
      "23:00:00\n",
      "log-data at '2017-12-1 23:00:00'\n"
     ]
    }
   ],
   "source": [
    "my_datas=data_sheet['a1:c24']\n",
    "count=1\n",
    "for row in my_datas:\n",
    "    for column in range(len(row)):\n",
    "        print(row[column].value)\n"
   ]
  },
  {
   "cell_type": "code",
   "execution_count": null,
   "metadata": {},
   "outputs": [],
   "source": [
    "# load_workbook()\n",
    "\n",
    "# 값들 가져오는 거\n",
    "\n",
    "# 하나의 파일에 다 넣어주는 것"
   ]
  },
  {
   "cell_type": "code",
   "execution_count": null,
   "metadata": {},
   "outputs": [],
   "source": [
    "# for column in ab_columns:\n",
    "#     for cell in column:\n",
    "#         print(cell.value)"
   ]
  },
  {
   "cell_type": "code",
   "execution_count": 1,
   "metadata": {},
   "outputs": [],
   "source": [
    "# excel1=openpyxl.load_workbook(excel_dir,read_only=False)\n",
    "# excel1.active"
   ]
  },
  {
   "cell_type": "code",
   "execution_count": 25,
   "metadata": {},
   "outputs": [
    {
     "ename": "TypeError",
     "evalue": "string indices must be integers",
     "output_type": "error",
     "traceback": [
      "\u001b[0;31m---------------------------------------------------------------------------\u001b[0m",
      "\u001b[0;31mTypeError\u001b[0m                                 Traceback (most recent call last)",
      "\u001b[1;32m/Users/choibowon/Desktop/RPA/example3/example3.ipynb 셀 9\u001b[0m in \u001b[0;36m<cell line: 6>\u001b[0;34m()\u001b[0m\n\u001b[1;32m     <a href='vscode-notebook-cell:/Users/choibowon/Desktop/RPA/example3/example3.ipynb#X12sZmlsZQ%3D%3D?line=9'>10</a>\u001b[0m excel_\u001b[39m.\u001b[39mactive\n\u001b[1;32m     <a href='vscode-notebook-cell:/Users/choibowon/Desktop/RPA/example3/example3.ipynb#X12sZmlsZQ%3D%3D?line=10'>11</a>\u001b[0m \u001b[39m# print(excel_.sheetnames)\u001b[39;00m\n\u001b[0;32m---> <a href='vscode-notebook-cell:/Users/choibowon/Desktop/RPA/example3/example3.ipynb#X12sZmlsZQ%3D%3D?line=11'>12</a>\u001b[0m Sheet\u001b[39m=\u001b[39mexcel[\u001b[39m'\u001b[39;49m\u001b[39mSheet\u001b[39;49m\u001b[39m'\u001b[39;49m]\n\u001b[1;32m     <a href='vscode-notebook-cell:/Users/choibowon/Desktop/RPA/example3/example3.ipynb#X12sZmlsZQ%3D%3D?line=13'>14</a>\u001b[0m \u001b[39mfor\u001b[39;00m row \u001b[39min\u001b[39;00m Sheet\u001b[39m.\u001b[39miter_rows():\n\u001b[1;32m     <a href='vscode-notebook-cell:/Users/choibowon/Desktop/RPA/example3/example3.ipynb#X12sZmlsZQ%3D%3D?line=14'>15</a>\u001b[0m     \u001b[39mfor\u001b[39;00m cell \u001b[39min\u001b[39;00m row:\n",
      "\u001b[0;31mTypeError\u001b[0m: string indices must be integers"
     ]
    }
   ],
   "source": [
    "import os\n",
    "\n",
    "EXCEL_DIR='./'\n",
    "excel_list=os.listdir(EXCEL_DIR)\n",
    "\n",
    "for excel in excel_list:\n",
    "    excel_dir=EXCEL_DIR+excel\n",
    "\n",
    "    excel_=openpyxl.load_workbook(excel_dir,read_only=False)\n",
    "    excel_.active\n",
    "    # print(excel_.sheetnames)\n",
    "    Sheet=excel['Sheet']\n",
    "\n",
    "    for row in Sheet.iter_rows():\n",
    "        for cell in row:\n",
    "            excel.append(cell)\n",
    "\n",
    "excel.save('./excel.xlsx')\n",
    "    "
   ]
  },
  {
   "cell_type": "code",
   "execution_count": 32,
   "metadata": {},
   "outputs": [],
   "source": [
    "EXCEL_DIR='./xlsx_files/'"
   ]
  },
  {
   "cell_type": "code",
   "execution_count": 26,
   "metadata": {},
   "outputs": [
    {
     "data": {
      "text/plain": [
       "['2017.09.csv',\n",
       " '2017.08.csv',\n",
       " '2017.01.csv',\n",
       " '2017.03.csv',\n",
       " '2017.02.csv',\n",
       " '2017.06.csv',\n",
       " '2017.12.csv',\n",
       " '2017.07.csv',\n",
       " '2017.11.csv',\n",
       " '2017.05.csv',\n",
       " '2017.04.csv',\n",
       " '2017.10.csv']"
      ]
     },
     "execution_count": 26,
     "metadata": {},
     "output_type": "execute_result"
    }
   ],
   "source": [
    "import os\n",
    "# 상위폴더 = ..\n",
    "os.listdir('../example2/csv_files')"
   ]
  },
  {
   "cell_type": "code",
   "execution_count": 33,
   "metadata": {},
   "outputs": [
    {
     "data": {
      "text/plain": [
       "['2017.12.6.xlsx',\n",
       " '2017.12.7.xlsx',\n",
       " '2017.12.1.xlsx',\n",
       " '2017.12.2.xlsx',\n",
       " '2017.12.3.xlsx',\n",
       " '2017.12.8.xlsx',\n",
       " '2017.12.4.xlsx',\n",
       " '2017.12.5.xlsx',\n",
       " '2017.12.9.xlsx']"
      ]
     },
     "execution_count": 33,
     "metadata": {},
     "output_type": "execute_result"
    }
   ],
   "source": [
    "excel_list=os.listdir(EXCEL_DIR)\n",
    "excel_list"
   ]
  },
  {
   "cell_type": "code",
   "execution_count": 34,
   "metadata": {},
   "outputs": [],
   "source": [
    "# 3. 빈 엑셀 파일을 만든다. (sheet도 활성화 )\n",
    "import openpyxl\n",
    "new_excel=openpyxl.Workbook()\n",
    "new_sheet=new_excel.active # sheet"
   ]
  },
  {
   "cell_type": "code",
   "execution_count": null,
   "metadata": {},
   "outputs": [],
   "source": [
    "# 4. 반복문 시작 (파일들을 하나씩 가져오기)\n",
    "for excel in excel_list:\n",
    "#   1. 엑셀 파일을 openpyxl.load_workbook()으로 읽음\n",
    "    workbook=openpyxl.load_workbook(EXCEL_DIR+excel)\n",
    "#   2. 데이터가 있는 sheet 활성화해서 가져옴\n",
    "    data_sheet=workbook.active\n",
    "#   3. 해당 시트의 모든 row를 가져온다. (sheet.iter_rows())\n",
    "    data_sheet.iter_rows()\n",
    "#   4. 해당 row로 반복문 또 시작\n",
    "    for row in data_sheet.iter_rows():\n",
    "#       1. row마다 3개 칼럼의 값들을 저장해놓고\n",
    "        temp=[row[0].value,row[1].value,row[2].value]\n",
    "#       2. 활성화한 sheet에 append()로 값들을 넣어준다.\n",
    "        new_sheet.append(temp)\n"
   ]
  },
  {
   "cell_type": "code",
   "execution_count": 35,
   "metadata": {},
   "outputs": [],
   "source": [
    "new_excel.save('./result.xlsx')"
   ]
  },
  {
   "cell_type": "code",
   "execution_count": null,
   "metadata": {},
   "outputs": [],
   "source": []
  }
 ],
 "metadata": {
  "kernelspec": {
   "display_name": "Python 3.10.4 ('study')",
   "language": "python",
   "name": "python3"
  },
  "language_info": {
   "codemirror_mode": {
    "name": "ipython",
    "version": 3
   },
   "file_extension": ".py",
   "mimetype": "text/x-python",
   "name": "python",
   "nbconvert_exporter": "python",
   "pygments_lexer": "ipython3",
   "version": "3.10.4"
  },
  "orig_nbformat": 4,
  "vscode": {
   "interpreter": {
    "hash": "6d3adedfb80ee571769eb11502afa6f60a6eb52bcaed4a1ba6c74a4ec7405124"
   }
  }
 },
 "nbformat": 4,
 "nbformat_minor": 2
}
