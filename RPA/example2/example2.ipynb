{
 "cells": [
  {
   "cell_type": "code",
   "execution_count": 21,
   "metadata": {},
   "outputs": [],
   "source": [
    "# csv파일들이 있는 경로까지의 상대경로 \n",
    "# 내 위치는 example2 폴더이다.\n",
    "CSV_DIR='./csv_files/'"
   ]
  },
  {
   "cell_type": "code",
   "execution_count": 22,
   "metadata": {},
   "outputs": [
    {
     "name": "stdout",
     "output_type": "stream",
     "text": [
      "2017.09.csv\n"
     ]
    }
   ],
   "source": [
    "import os\n",
    "# CSV_DIR에 있는 모든 파일과, 폴더들을 가져와서\n",
    "# csv_list에 담아준다.\n",
    "csv_list=os.listdir(CSV_DIR)\n",
    "print(csv_list[0])"
   ]
  },
  {
   "cell_type": "code",
   "execution_count": 23,
   "metadata": {},
   "outputs": [],
   "source": [
    "# 반복문을 돌려서 파일명들을 하나씩 가져온다.\n",
    "for csv in csv_list:\n",
    "    # 파일명에 csv_files폴더 상대경로를 붙여서,\n",
    "    # 파일로 가는 상대경로를 잡아준다.\n",
    "    csv_dir=CSV_DIR+csv\n",
    "    with open(csv_dir,'r',encoding='cp949') as f:\n",
    "        # 한줄씩 읽어온다.\n",
    "        datas=f.readlines()\n",
    "        orders=[]\n",
    "        for data in datas:\n",
    "            # 끝에 있는 줄바꿈 기호(\\n) 삭제 후 ,로 문자열 분리\n",
    "            temp=data.rstrip().split(',')\n",
    "            # print(temp)\n",
    "            orders.append(temp)\n",
    "        # orders를 하나씩 보면서\n",
    "        # 수강 금액부분만 int형으로 바꾸고\n",
    "        # 다 더해주면 해당 연 월의 총 매출액이 나온다.\n",
    "        total_sale=0\n",
    "        for order in orders[1:]:\n",
    "            # 수강금액\n",
    "            total_sale+=int(order[1])\n",
    "        # print(csv)\n",
    "        # print(total_sale)\n",
    "\n",
    "        # 연, 월, 매출액\n",
    "        # a모드로 여는 이유는,\n",
    "        # 반복문 안에서 계속 이어서 써주기 위해\n",
    "        with open('./order.csv','a') as f :\n",
    "            year, month,ext=csv.split('.')\n",
    "            f.write('%s,%s,%s\\n'%(year,month,total_sale))\n",
    "            # f.write(year+','+month+','+str(total_sale))\n",
    "\n",
    "    # break"
   ]
  },
  {
   "cell_type": "code",
   "execution_count": 24,
   "metadata": {},
   "outputs": [],
   "source": [
    "with open('./order.csv','r') as f:\n",
    "    datas=f.readlines()"
   ]
  },
  {
   "cell_type": "code",
   "execution_count": 25,
   "metadata": {},
   "outputs": [
    {
     "data": {
      "text/plain": [
       "['2017,09,7940000\\n',\n",
       " '2017,08,7740000\\n',\n",
       " '2017,01,7240000\\n',\n",
       " '2017,03,7550000\\n',\n",
       " '2017,02,7410000\\n',\n",
       " '2017,06,7730000\\n',\n",
       " '2017,12,8040000\\n',\n",
       " '2017,07,8000000\\n',\n",
       " '2017,11,7320000\\n',\n",
       " '2017,05,7950000\\n',\n",
       " '2017,04,7720000\\n',\n",
       " '2017,10,7810000\\n',\n",
       " '2017,09,7940000\\n',\n",
       " '2017,08,7740000\\n',\n",
       " '2017,01,7240000\\n',\n",
       " '2017,03,7550000\\n',\n",
       " '2017,02,7410000\\n',\n",
       " '2017,06,7730000\\n',\n",
       " '2017,12,8040000\\n',\n",
       " '2017,07,8000000\\n',\n",
       " '2017,11,7320000\\n',\n",
       " '2017,05,7950000\\n',\n",
       " '2017,04,7720000\\n',\n",
       " '2017,10,7810000\\n',\n",
       " '2017,09,7940000\\n',\n",
       " '2017,08,7740000\\n',\n",
       " '2017,01,7240000\\n',\n",
       " '2017,03,7550000\\n',\n",
       " '2017,02,7410000\\n',\n",
       " '2017,06,7730000\\n',\n",
       " '2017,12,8040000\\n',\n",
       " '2017,07,8000000\\n',\n",
       " '2017,11,7320000\\n',\n",
       " '2017,05,7950000\\n',\n",
       " '2017,04,7720000\\n',\n",
       " '2017,10,7810000\\n',\n",
       " '2017,09,7940000\\n',\n",
       " '2017,08,7740000\\n',\n",
       " '2017,01,7240000\\n',\n",
       " '2017,03,7550000\\n',\n",
       " '2017,02,7410000\\n',\n",
       " '2017,06,7730000\\n',\n",
       " '2017,12,8040000\\n',\n",
       " '2017,07,8000000\\n',\n",
       " '2017,11,7320000\\n',\n",
       " '2017,05,7950000\\n',\n",
       " '2017,04,7720000\\n',\n",
       " '2017,10,7810000\\n']"
      ]
     },
     "execution_count": 25,
     "metadata": {},
     "output_type": "execute_result"
    }
   ],
   "source": [
    "datas"
   ]
  },
  {
   "cell_type": "code",
   "execution_count": null,
   "metadata": {},
   "outputs": [],
   "source": []
  }
 ],
 "metadata": {
  "kernelspec": {
   "display_name": "Python 3.10.4 ('study')",
   "language": "python",
   "name": "python3"
  },
  "language_info": {
   "codemirror_mode": {
    "name": "ipython",
    "version": 3
   },
   "file_extension": ".py",
   "mimetype": "text/x-python",
   "name": "python",
   "nbconvert_exporter": "python",
   "pygments_lexer": "ipython3",
   "version": "3.10.4"
  },
  "orig_nbformat": 4,
  "vscode": {
   "interpreter": {
    "hash": "6d3adedfb80ee571769eb11502afa6f60a6eb52bcaed4a1ba6c74a4ec7405124"
   }
  }
 },
 "nbformat": 4,
 "nbformat_minor": 2
}
