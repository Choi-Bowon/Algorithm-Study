{
 "cells": [
  {
   "cell_type": "code",
   "execution_count": 66,
   "metadata": {},
   "outputs": [
    {
     "data": {
      "text/plain": [
       "'A'"
      ]
     },
     "execution_count": 66,
     "metadata": {},
     "output_type": "execute_result"
    }
   ],
   "source": [
    "x=\"AN\"\n",
    "\n",
    "x[0]\n"
   ]
  },
  {
   "cell_type": "code",
   "execution_count": 67,
   "metadata": {},
   "outputs": [],
   "source": [
    "def solution(survey, choices):\n",
    "    answer = ''\n",
    "    cnt1, cnt2 =0, 0\n",
    "    result=[]\n",
    "    for i in range(len(choices)):\n",
    "        if choices[i]<4:\n",
    "            result.append(survey[i][0])\n",
    "            if choices[i]==3:\n",
    "                cnt1+=1\n",
    "            elif choices[i]==2:\n",
    "                cnt1+=2\n",
    "            else:\n",
    "                cnt1+=3\n",
    "            print('cnt1:',cnt1) \n",
    "\n",
    "        else:\n",
    "            result.append(survey[i][1])\n",
    "            if choices[i]==5:\n",
    "                cnt2+=1\n",
    "            elif choices[i]==6:\n",
    "                cnt2+=2\n",
    "            else:\n",
    "                cnt2+=3\n",
    "            print('cnt2:',cnt2)\n",
    "            \n",
    "    return result\n",
    "\n",
    "    "
   ]
  },
  {
   "cell_type": "code",
   "execution_count": 68,
   "metadata": {},
   "outputs": [
    {
     "name": "stdout",
     "output_type": "stream",
     "text": [
      "cnt2: 1\n",
      "cnt1: 1\n",
      "cnt1: 3\n",
      "cnt2: 4\n",
      "cnt2: 5\n"
     ]
    },
    {
     "data": {
      "text/plain": [
       "['N', 'C', 'M', 'T', 'A']"
      ]
     },
     "execution_count": 68,
     "metadata": {},
     "output_type": "execute_result"
    }
   ],
   "source": [
    "survey=[\"AN\", \"CF\", \"MJ\", \"RT\", \"NA\"]\n",
    "choices=[5, 3, 2, 7, 5]\n",
    "\n",
    "solution(survey, choices)"
   ]
  },
  {
   "cell_type": "code",
   "execution_count": 69,
   "metadata": {},
   "outputs": [
    {
     "data": {
      "text/plain": [
       "['a', 'b', 'c']"
      ]
     },
     "execution_count": 69,
     "metadata": {},
     "output_type": "execute_result"
    }
   ],
   "source": [
    "list=['a','c','b']\n",
    "\n",
    "list.sort()\n",
    "\n",
    "list"
   ]
  },
  {
   "cell_type": "code",
   "execution_count": 70,
   "metadata": {},
   "outputs": [
    {
     "data": {
      "text/plain": [
       "['ab', 'be', 'cz']"
      ]
     },
     "execution_count": 70,
     "metadata": {},
     "output_type": "execute_result"
    }
   ],
   "source": [
    "list=['ab','cz','be']\n",
    "list.sort()\n",
    "\n",
    "list"
   ]
  },
  {
   "cell_type": "code",
   "execution_count": 71,
   "metadata": {},
   "outputs": [
    {
     "data": {
      "text/plain": [
       "['12345']"
      ]
     },
     "execution_count": 71,
     "metadata": {},
     "output_type": "execute_result"
    }
   ],
   "source": [
    "a='12345'\n",
    "a.split()"
   ]
  },
  {
   "cell_type": "code",
   "execution_count": 72,
   "metadata": {},
   "outputs": [
    {
     "data": {
      "text/plain": [
       "['ba']"
      ]
     },
     "execution_count": 72,
     "metadata": {},
     "output_type": "execute_result"
    }
   ],
   "source": [
    "a=['ba']\n",
    "a[0].split()"
   ]
  },
  {
   "cell_type": "code",
   "execution_count": 73,
   "metadata": {},
   "outputs": [],
   "source": [
    "def solution(survey, choices):\n",
    "    answer = ''\n",
    "    cnt=0\n",
    "    for i in choices:\n",
    "        if i==7:\n",
    "            cnt+=3\n",
    "        elif i==6:\n",
    "            cnt+=2\n",
    "        elif i==5:\n",
    "            cnt+=1\n",
    "        elif i==4:\n",
    "            cnt+=0\n",
    "        elif i==3:\n",
    "            cnt+=(-1)\n",
    "        elif i==2:\n",
    "            cnt+=(-2)\n",
    "        else:\n",
    "            cnt+=(-3)\n",
    "\n",
    "\n",
    "            \n",
    "    return answer"
   ]
  },
  {
   "cell_type": "code",
   "execution_count": 74,
   "metadata": {},
   "outputs": [
    {
     "data": {
      "text/plain": [
       "''"
      ]
     },
     "execution_count": 74,
     "metadata": {},
     "output_type": "execute_result"
    }
   ],
   "source": [
    "survey=[\"AN\", \"CF\", \"MJ\", \"RT\", \"NA\"]\n",
    "choices=[5, 3, 2, 7, 5]\n",
    "\n",
    "solution(survey, choices)"
   ]
  },
  {
   "cell_type": "markdown",
   "metadata": {},
   "source": [
    "## 풀이"
   ]
  },
  {
   "cell_type": "code",
   "execution_count": 75,
   "metadata": {},
   "outputs": [],
   "source": [
    "def solution(survey, choices):\n",
    "    answer = ''\n",
    "\n",
    "    MBTI_dict={\n",
    "        'RT':0,\n",
    "        'CF':0,\n",
    "        'JM':0,\n",
    "        'AN':0\n",
    "    }\n",
    "\n",
    "    # 반복문\n",
    "    for i in range(len(survey)):\n",
    "        mbti=survey[i]\n",
    "        if mbti in MBTI_dict:\n",
    "            # 양수일 경우, 앞에 나오는 유형에 +\n",
    "            # 음수일 경우, 뒤에 나오는 유형에 +\n",
    "            score=4-choices[i]\n",
    "            # 계산된 점수를 데이터에 최신화\n",
    "            MBTI_dict[mbti]+=score\n",
    "        # 반대의 경우,\n",
    "        elif mbti[::-1] in MBTI_dict:\n",
    "            score=choices[i]-4\n",
    "            MBTI_dict[mbti[::-1]]+=score\n",
    "\n",
    "    for key in MBTI_dict:\n",
    "        # 0보다 크거나 같으면, 앞을 선택\n",
    "        if MBTI_dict[key]>=0:\n",
    "            answer+=key[0]\n",
    "        # 0보다 작으면 앞을 선택\n",
    "        else:\n",
    "            answer+=key[1]\n",
    "\n",
    "    return answer"
   ]
  },
  {
   "cell_type": "markdown",
   "metadata": {},
   "source": [
    "## 풀이 2"
   ]
  },
  {
   "cell_type": "code",
   "execution_count": null,
   "metadata": {},
   "outputs": [],
   "source": [
    "# 딕셔너리 형태 분리시켜 풀기"
   ]
  },
  {
   "cell_type": "markdown",
   "metadata": {},
   "source": [
    "## Lv.1 평균 구하기"
   ]
  },
  {
   "cell_type": "code",
   "execution_count": 76,
   "metadata": {},
   "outputs": [],
   "source": [
    "def solution(arr):\n",
    "    answer =0\n",
    "    cnt=0\n",
    "    sum=0\n",
    "    for i in arr:\n",
    "        cnt+=1\n",
    "        sum+=i\n",
    "    answer=sum/cnt\n",
    "    return answer"
   ]
  },
  {
   "cell_type": "code",
   "execution_count": null,
   "metadata": {},
   "outputs": [],
   "source": []
  }
 ],
 "metadata": {
  "kernelspec": {
   "display_name": "Python 3.8.9 64-bit",
   "language": "python",
   "name": "python3"
  },
  "language_info": {
   "codemirror_mode": {
    "name": "ipython",
    "version": 3
   },
   "file_extension": ".py",
   "mimetype": "text/x-python",
   "name": "python",
   "nbconvert_exporter": "python",
   "pygments_lexer": "ipython3",
   "version": "3.8.9"
  },
  "orig_nbformat": 4,
  "vscode": {
   "interpreter": {
    "hash": "31f2aee4e71d21fbe5cf8b01ff0e069b9275f58929596ceb00d14d90e3e16cd6"
   }
  }
 },
 "nbformat": 4,
 "nbformat_minor": 2
}
