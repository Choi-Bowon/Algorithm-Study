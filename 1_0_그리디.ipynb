{
 "cells": [
  {
   "cell_type": "markdown",
   "metadata": {},
   "source": [
    "# 그리디(탐욕법)\n",
    "- 현재 상황에서 좋은 것만 고르는 방법\n",
    "- 일반적인 그리디 알고리즘은 문제를 풀기 위한 최소한의 아이디어를 떠올릴 수 있는 능력을 요구\n",
    "- 정당성 분석이 가장 중요"
   ]
  },
  {
   "cell_type": "markdown",
   "metadata": {},
   "source": [
    "### 그리디 알고리즘\n",
    "- 일반적 상황에서 그리디 알고리즘은 최적의 해를 보장할 수 없을 때가 많다\n",
    "- 코딩 테스트의 그리디 문제는 탐욕법으로 얻은 해가 최적의 해가 되는 상황에서, 이를 추론할 수 있어야 풀리도록 출제됨\n"
   ]
  },
  {
   "cell_type": "markdown",
   "metadata": {},
   "source": [
    "### [문제] 거스름돈"
   ]
  },
  {
   "cell_type": "code",
   "execution_count": 2,
   "metadata": {},
   "outputs": [
    {
     "name": "stdout",
     "output_type": "stream",
     "text": [
      "6\n"
     ]
    }
   ],
   "source": [
    "n=1260\n",
    "count=0\n",
    "\n",
    "# 큰 단위의 화폐부터 차례로 확인하기\n",
    "array=[500,100,50,10]\n",
    "\n",
    "for i in array:\n",
    "    count+=n//i\n",
    "    n=n%i   #n%=i\n",
    "\n",
    "# 2+2+1+1=6\n",
    "print(count)\n",
    "\n"
   ]
  },
  {
   "cell_type": "markdown",
   "metadata": {},
   "source": [
    "### [문제] 1이 될 때까지 : 정당성 분석"
   ]
  },
  {
   "cell_type": "code",
   "execution_count": 22,
   "metadata": {},
   "outputs": [
    {
     "name": "stdout",
     "output_type": "stream",
     "text": [
      "2\n"
     ]
    }
   ],
   "source": [
    "\n",
    "\n",
    "result=0\n",
    "n,k=map(int,input().split())\n",
    "\n",
    "# (n k)\n",
    "for i in range(n):\n",
    "    if n==1:\n",
    "        break\n",
    "    elif n%k==0:\n",
    "        n//=k\n",
    "        result+=1\n",
    "    else:\n",
    "        n-=1\n",
    "        result+=1\n",
    "print(result)\n"
   ]
  },
  {
   "cell_type": "markdown",
   "metadata": {},
   "source": [
    "### [풀이] 1이 될 때까지 : 정당성 분석"
   ]
  },
  {
   "cell_type": "code",
   "execution_count": 24,
   "metadata": {},
   "outputs": [
    {
     "name": "stdout",
     "output_type": "stream",
     "text": [
      "2\n"
     ]
    }
   ],
   "source": [
    "# n, k를 공백을 기준으로 구분하여 입력 받기\n",
    "n, k= map(int,input().split())\n",
    "\n",
    "result=0\n",
    "\n",
    "while True:\n",
    "    # N이 K로 나누어 떨어지는 수가 될 때까지 빼기\n",
    "    target=(n//k)*k\n",
    "    result+=(n-target)\n",
    "    n=target \n",
    "    # N이 K보다 작을 때 (더 이상 나눌 수 없을 때) 반복문 탈출\n",
    "    if n<k:\n",
    "        break\n",
    "    # k로 나누기\n",
    "    result+=1\n",
    "    n//=k\n",
    "\n",
    "# 마지막으로 남은 수에 대하여 1씩 빼기\n",
    "result+=(n-1)\n",
    "print(result)"
   ]
  },
  {
   "cell_type": "markdown",
   "metadata": {},
   "source": [
    "### [문제] 곱하기 혹은 더하기: 문제 조건"
   ]
  },
  {
   "cell_type": "code",
   "execution_count": 87,
   "metadata": {},
   "outputs": [
    {
     "name": "stdout",
     "output_type": "stream",
     "text": [
      "294\n"
     ]
    }
   ],
   "source": [
    "s='567'\n",
    "s=list(map(int,list(s)))\n",
    "\n",
    "for i in range(len(s)-1):\n",
    "    if s[i]+s[i-1]<=s[i]*s[i-1]:\n",
    "        s.pop(i)\n",
    "        s.insert(i,s[i]*s[i-1])\n",
    "    else:\n",
    "        s.pop(i)\n",
    "        s.insert(i,s[i]+s[i-1])\n",
    "        \n",
    "        \n",
    "print(s[i])"
   ]
  },
  {
   "cell_type": "code",
   "execution_count": 5,
   "metadata": {},
   "outputs": [
    {
     "ename": "IndexError",
     "evalue": "string index out of range",
     "output_type": "error",
     "traceback": [
      "\u001b[0;31m---------------------------------------------------------------------------\u001b[0m",
      "\u001b[0;31mIndexError\u001b[0m                                Traceback (most recent call last)",
      "\u001b[1;32m/Users/choibowon/Desktop/Algorithm-Study/1_0_그리디.ipynb 셀 11\u001b[0m in \u001b[0;36m<cell line: 4>\u001b[0;34m()\u001b[0m\n\u001b[1;32m      <a href='vscode-notebook-cell:/Users/choibowon/Desktop/Algorithm-Study/1_0_%EA%B7%B8%EB%A6%AC%EB%94%94.ipynb#X24sZmlsZQ%3D%3D?line=0'>1</a>\u001b[0m data\u001b[39m=\u001b[39m\u001b[39minput\u001b[39m()\n\u001b[1;32m      <a href='vscode-notebook-cell:/Users/choibowon/Desktop/Algorithm-Study/1_0_%EA%B7%B8%EB%A6%AC%EB%94%94.ipynb#X24sZmlsZQ%3D%3D?line=2'>3</a>\u001b[0m \u001b[39m# 첫 번째 문자를 숫자로 변경하여 대입\u001b[39;00m\n\u001b[0;32m----> <a href='vscode-notebook-cell:/Users/choibowon/Desktop/Algorithm-Study/1_0_%EA%B7%B8%EB%A6%AC%EB%94%94.ipynb#X24sZmlsZQ%3D%3D?line=3'>4</a>\u001b[0m result\u001b[39m=\u001b[39m\u001b[39mint\u001b[39m(data[\u001b[39m0\u001b[39;49m])\n\u001b[1;32m      <a href='vscode-notebook-cell:/Users/choibowon/Desktop/Algorithm-Study/1_0_%EA%B7%B8%EB%A6%AC%EB%94%94.ipynb#X24sZmlsZQ%3D%3D?line=5'>6</a>\u001b[0m \u001b[39mfor\u001b[39;00m i \u001b[39min\u001b[39;00m \u001b[39mrange\u001b[39m(\u001b[39m1\u001b[39m,\u001b[39mlen\u001b[39m(data)):\n\u001b[1;32m      <a href='vscode-notebook-cell:/Users/choibowon/Desktop/Algorithm-Study/1_0_%EA%B7%B8%EB%A6%AC%EB%94%94.ipynb#X24sZmlsZQ%3D%3D?line=6'>7</a>\u001b[0m     \u001b[39m# 두 수 중에서 하나라도 '0' 혹은 '1'인 경우, 곱하기보다는 더하기 수행\u001b[39;00m\n\u001b[1;32m      <a href='vscode-notebook-cell:/Users/choibowon/Desktop/Algorithm-Study/1_0_%EA%B7%B8%EB%A6%AC%EB%94%94.ipynb#X24sZmlsZQ%3D%3D?line=7'>8</a>\u001b[0m     num\u001b[39m=\u001b[39m\u001b[39minput\u001b[39m(data[i])\n",
      "\u001b[0;31mIndexError\u001b[0m: string index out of range"
     ]
    }
   ],
   "source": [
    "data=input()\n",
    "\n",
    "# 첫 번째 문자를 숫자로 변경하여 대입\n",
    "result=int(data[0])\n",
    "\n",
    "for i in range(1,len(data)):\n",
    "    # 두 수 중에서 하나라도 '0' 혹은 '1'인 경우, 곱하기보다는 더하기 수행\n",
    "    num=input(data[i])\n",
    "    if num<=1 or result <=1:\n",
    "        result+=num\n",
    "    else:\n",
    "        result*=num\n",
    "print(result)"
   ]
  },
  {
   "cell_type": "code",
   "execution_count": 75,
   "metadata": {},
   "outputs": [
    {
     "name": "stdout",
     "output_type": "stream",
     "text": [
      "[0, 2, 9, 8, 4]\n"
     ]
    }
   ],
   "source": [
    "s='02984'\n",
    "s=list(map(int,list(s)))\n",
    "s.pop(0)\n",
    "s.insert(0,0)\n",
    "print(s)"
   ]
  },
  {
   "cell_type": "code",
   "execution_count": 66,
   "metadata": {},
   "outputs": [
    {
     "name": "stdout",
     "output_type": "stream",
     "text": [
      "0 0\n",
      "2 2\n"
     ]
    }
   ],
   "source": [
    "for i in range(10000):\n",
    "    for j in range(10000):\n",
    "        if i*j==i+j:\n",
    "            print(i,j)"
   ]
  },
  {
   "cell_type": "code",
   "execution_count": null,
   "metadata": {},
   "outputs": [],
   "source": []
  }
 ],
 "metadata": {
  "kernelspec": {
   "display_name": "Python 3.8.9 64-bit",
   "language": "python",
   "name": "python3"
  },
  "language_info": {
   "codemirror_mode": {
    "name": "ipython",
    "version": 3
   },
   "file_extension": ".py",
   "mimetype": "text/x-python",
   "name": "python",
   "nbconvert_exporter": "python",
   "pygments_lexer": "ipython3",
   "version": "3.8.9"
  },
  "orig_nbformat": 4,
  "vscode": {
   "interpreter": {
    "hash": "31f2aee4e71d21fbe5cf8b01ff0e069b9275f58929596ceb00d14d90e3e16cd6"
   }
  }
 },
 "nbformat": 4,
 "nbformat_minor": 2
}
