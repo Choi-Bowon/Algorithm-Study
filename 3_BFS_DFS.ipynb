{
 "cells": [
  {
   "cell_type": "markdown",
   "metadata": {},
   "source": [
    "# 그래프 탐색 알고리즘: DFS/BFS\n",
    "- 많은 양의 데이터 중에서 원하는 데이터를 찾는 과정\n",
    "- 대표적인 그래프 탐색 알고리즘 : DFS/BFS\n",
    "- DFS/BFS는 코딩 테스트에서 매우 자주 등장하는 유형"
   ]
  },
  {
   "cell_type": "markdown",
   "metadata": {},
   "source": [
    "## 스택 자료구조\n",
    "- 선입후출 자료구조\n",
    "- 입구와 출구가 동일한 형태"
   ]
  },
  {
   "cell_type": "code",
   "execution_count": null,
   "metadata": {},
   "outputs": [],
   "source": [
    "## 스택 구현 예제 (Python)\n",
    "stack=[]\n",
    "\n",
    "# 삽입(5) - 삽입(2) - 삽입(3) - 삽입(7) - 삭제() - 삽입(1) - 삽입(4) - 삭제()\n",
    "stack.append(5)\n",
    "stack.append(2)\n",
    "stack.append(3)\n",
    "stack.append(7)\n",
    "stack.pop()\n",
    "stack.append(1)\n",
    "stack.append(4)\n",
    "\n",
    "print(stack[::-1]) # 최상단 원소부터 출력\n",
    "print(stack) # 최하단 원소부터 출력"
   ]
  },
  {
   "cell_type": "markdown",
   "metadata": {},
   "source": [
    "## 큐 자료구조\n",
    "- 선입선출 자료구조\n",
    "- 입구와 출구가 모두 뚫려 있는 터널과 같은 형태"
   ]
  },
  {
   "cell_type": "code",
   "execution_count": null,
   "metadata": {},
   "outputs": [],
   "source": [
    "from collections import deque\n",
    "\n",
    "# 큐 (Queue) 구현을 위해 deque 라이브러리 사용\n",
    "queue=deque()\n",
    "\n",
    "# 삽입(5) - 삽입(2) - 삽입(3) - 삽입(7) - 삭제() - 삽입(1) - 삽입(4) - 삭제()\n",
    "queue.append(5)\n",
    "queue.append(2)\n",
    "queue.append(3)\n",
    "queue.append(7)\n",
    "queue.popleft()\n",
    "queue.append(1)\n",
    "queue.append(4)\n",
    "queue.popleft()\n",
    "\n",
    "print(queue) # 먼저 들어온 순서대로 출력\n",
    "queue.reverse() # 역순으로 바꾸기\n",
    "print(queue) # 나중에 들어온 원소부터 출력"
   ]
  },
  {
   "cell_type": "markdown",
   "metadata": {},
   "source": [
    "### 재귀 함수\n",
    "- 재귀 함수(Recursive Function)란 자기 자신을 다시 호출하는 함수"
   ]
  },
  {
   "cell_type": "code",
   "execution_count": null,
   "metadata": {},
   "outputs": [],
   "source": [
    "# 단순한 재귀 함수 예제\n",
    "\n",
    "def recursive_function():\n",
    "  print('재귀함수를 호출합니다.')\n",
    "  recursive_function()\n",
    "\n",
    "recursive_function()"
   ]
  },
  {
   "cell_type": "markdown",
   "metadata": {},
   "source": [
    "### 재귀 함수의 종료 조건\n",
    "- 재귀 함수를 문제 풀이에서 사용할 때는 재귀 함수의 종료 조건을 반드시 명시해야 함.\n",
    "- 종료 조건을 제대로 명시하지 않으면 함수가 무한히 호출될 수 있다."
   ]
  },
  {
   "cell_type": "code",
   "execution_count": null,
   "metadata": {},
   "outputs": [],
   "source": [
    "# 종료 조건을 포함한 재귀 함수 에제\n",
    "\n",
    "def recusive_function(i):\n",
    "  # 100번째 호출을 했을 때 종료되도록 종료 조건 명시\n",
    "  if i==100:\n",
    "    return\n",
    "  print(i,'번째 재귀함수에서',i+1,'번째 재귀함수를 호출합니다.')\n",
    "  recursive_function(i+1)\n",
    "  print(i,'번째 재귀함수를 종료합니다.')\n",
    "  \n",
    "recursive_function(1)"
   ]
  },
  {
   "cell_type": "code",
   "execution_count": null,
   "metadata": {},
   "outputs": [],
   "source": [
    "# 팩토리얼 구현 예제\n",
    "\n",
    "# 반복적으로 구현한 n!\n",
    "def factorial_iterative(n):\n",
    "  result=1\n",
    "  # 1부터 n까지의 수를 차례대로 곱하기\n",
    "  for i in range(1,n+1):\n",
    "    result*=i\n",
    "  return result\n",
    "\n",
    "# 재귀적으로 구현한 n!\n",
    "def factorial_recursive(n):\n",
    "  if n<=1: # n이 1이하인 경우 1을 반환\n",
    "    return 1\n",
    "  # n!=n*(n-1)!를 그대로 코드로 작성하기\n",
    "  return n*factorial_recursive(n-1)\n",
    "\n",
    "# 각각의 방식으로 구현한 n! 출력(n=5)\n",
    "print('반복적으로 구현:',factorial_iterative(5))\n",
    "print('재귀적으로 구현:',factorial_recursive(5))"
   ]
  },
  {
   "cell_type": "markdown",
   "metadata": {},
   "source": [
    "### 최대공약수 계산 (유클리드 호제법) 예제\n",
    "- 두 개의 자연수에 대한 최대공약수를 구하는 대표적인 알고리즘"
   ]
  },
  {
   "cell_type": "code",
   "execution_count": 2,
   "metadata": {},
   "outputs": [
    {
     "data": {
      "text/plain": [
       "0"
      ]
     },
     "execution_count": 2,
     "metadata": {},
     "output_type": "execute_result"
    }
   ],
   "source": [
    "def gcd(a,b):\n",
    "    if a%b==0:\n",
    "        return 0\n",
    "    else:\n",
    "        return gcd(b, a%b)\n",
    "\n",
    "print(gcd(192,162))"
   ]
  },
  {
   "cell_type": "markdown",
   "metadata": {},
   "source": [
    "### 재귀 함수 사용의 유의 사항\n",
    "- 재귀 함수를 잘 사용하면 복잡한 알고리즘을 간결하게 작성할 수 있다.\n",
    "    - 단, 다른 사람이 이해하기 어려운 코드가 될 수 있음.\n",
    "- 모든 재귀 함수는 반복문을 이용하여 동일한 기능 구현 가능\n",
    "- 유/불리 여부는 다양함.\n",
    "- 스택 자료구조를 사용할 때는 스택 라이브러리 대신에 재귀함수를 이용하는 경우가 많음"
   ]
  },
  {
   "cell_type": "markdown",
   "metadata": {},
   "source": [
    "## DFS (Depth-First-Search)\n",
    "- DFS는 깊이우선탐색, 깊은 부분을 우선적으로 탐색하는 알고리즘\n",
    "- 스택 자료구조(혹은 재귀함수)를 이용\n",
    "1. 탐색 시작 노드를 스택에 삽입하고 방문 처리한다.\n",
    "2. 스택의 최상단 노드에 방문하지 않은 인접한 노드가 하나라도 있으면 그 노드를 스택에 넣고 방문 처리합니다. 방문하지 않은 인접 노드가 없으면 스택에서 최상단 노드를 꺼냅니다.\n",
    "3. 더 이상 2번의 과정을 수행할 수 없을 때까지 반복합니다."
   ]
  },
  {
   "cell_type": "code",
   "execution_count": null,
   "metadata": {},
   "outputs": [],
   "source": [
    "# DFS 메서드 정의\n",
    "def dfs(graph,v,visited):\n",
    "    # 현재 노드를 방문 처리\n",
    "    visited[v]=True\n",
    "    print(v,end=' ')\n",
    "    # 현재 노드와 연결된 다른 노드를 재귀적으로 방문\n",
    "    for i in graph[v]:\n",
    "        if not visited[i]:\n",
    "            dfs(graph,i,visited)\n",
    "\n",
    "# 각 노드가 연결된 정보를 표현 (2차원 리스트)\n",
    "graph=[\n",
    "    [],\n",
    "    [2,3,8],\n",
    "    [1,7],\n",
    "    [1,4,5],\n",
    "    [3,5],\n",
    "    [3,4],\n",
    "    [7],\n",
    "    [2,6,8],\n",
    "    [1,7]\n",
    "]\n",
    "\n",
    "# 각 노드가 방문된 정보를 표현 (1차원 리스트)\n",
    "visited=[False]*9\n",
    "\n",
    "# 정의된 DFS 함수 호출\n",
    "dfs(graph,1,visited)"
   ]
  },
  {
   "cell_type": "markdown",
   "metadata": {},
   "source": [
    "### BFS (Breadth-First Search)\n",
    "- BFS는 너비우선탐색, 가까운 노드부터 우선적으로 탐색하는 알고리즘\n",
    "- 큐 자료구조를 이용\n",
    "1. 탐색 시작 노드를 큐에 삽입하고 방문 처리한다.\n",
    "2. 큐에서 노드를 꺼낸 뒤에 해당 노드의 인접 노드 중에서 방문하지 않은 노드를 모두 큐에 삽입하고 방문 처리합니다.\n",
    "3. 더 이상 2번의 과정을 수행할 수 없을 때까지 반복합니다."
   ]
  },
  {
   "cell_type": "code",
   "execution_count": 2,
   "metadata": {},
   "outputs": [
    {
     "name": "stdout",
     "output_type": "stream",
     "text": [
      "1 2 3 8 7 4 5 6 "
     ]
    }
   ],
   "source": [
    "from collections import deque\n",
    "\n",
    "# BFS 메서드 정의\n",
    "def bfs(graph,start,visited):\n",
    "    # 큐(Queue) 구현을 위해 deque 라이브러리 사용\n",
    "    queue=deque([start])\n",
    "    # 현재 노드를 방문 처리\n",
    "    visited[start]=True\n",
    "    # 큐가 빌 때까지 반복\n",
    "    while queue:\n",
    "        # 큐에서 하나의 원소를 뽑아 출력하기\n",
    "        v=queue.popleft()\n",
    "        print(v,end=' ')\n",
    "        # 아직 방문하지 않은 인접한 원소들을 큐에 삽입\n",
    "        for i in graph[v]:\n",
    "            if not visited[i]:\n",
    "                queue.append(i)\n",
    "                visited[i]=True\n",
    "\n",
    "\n",
    "# 각 노드가 연결된 정보를 표현 (2차원 리스트)\n",
    "graph=[\n",
    "    [],\n",
    "    [2,3,8],\n",
    "    [1,7],\n",
    "    [1,4,5],\n",
    "    [3,5],\n",
    "    [3,4],\n",
    "    [7],\n",
    "    [2,6,8],\n",
    "    [1,7]\n",
    "]\n",
    "\n",
    "# 각 노드가 방문된 정보를 표현 (1차원 리스트)\n",
    "visited=[False]*9\n",
    "\n",
    "# 정의된 DFS 함수 호출\n",
    "bfs(graph,1,visited)"
   ]
  },
  {
   "cell_type": "code",
   "execution_count": null,
   "metadata": {},
   "outputs": [],
   "source": []
  },
  {
   "cell_type": "code",
   "execution_count": null,
   "metadata": {},
   "outputs": [],
   "source": []
  }
 ],
 "metadata": {
  "kernelspec": {
   "display_name": "Python 3.10.4 ('study')",
   "language": "python",
   "name": "python3"
  },
  "language_info": {
   "codemirror_mode": {
    "name": "ipython",
    "version": 3
   },
   "file_extension": ".py",
   "mimetype": "text/x-python",
   "name": "python",
   "nbconvert_exporter": "python",
   "pygments_lexer": "ipython3",
   "version": "3.10.4"
  },
  "orig_nbformat": 4,
  "vscode": {
   "interpreter": {
    "hash": "6d3adedfb80ee571769eb11502afa6f60a6eb52bcaed4a1ba6c74a4ec7405124"
   }
  }
 },
 "nbformat": 4,
 "nbformat_minor": 2
}
