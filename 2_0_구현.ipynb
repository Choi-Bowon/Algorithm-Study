{
 "cells": [
  {
   "cell_type": "markdown",
   "metadata": {},
   "source": [
    "# 구현(Implementation)\n",
    ": 시뮬레이션과 완전탐색\n",
    "- 머릿속에 있는 알고리즘을 소스코드로 바꾸는 과정\n",
    "- 풀이를 떠올리는 것은 쉽지만 소스코드로 옮기기 어려운 문제를 지칭"
   ]
  },
  {
   "cell_type": "markdown",
   "metadata": {},
   "source": [
    "### 구현 유형 예시\n",
    "- 알고리즘은 간단한데 코드가 지나칠 만큼 길어지는 문제\n",
    "- 실수 연산을 다루고, 특정 소수점 자리까지 출력해야 하는 문제\n",
    "- 문자열을 특정한 기준에 따라서 끊어 처리해야 하는 문제\n",
    "- 적절한 라이브러리를 찾아서 사용해야 하는 문제"
   ]
  },
  {
   "cell_type": "markdown",
   "metadata": {},
   "source": [
    "- 일반적으로 알고리즘 문제에서의 2차원 공간은 행렬(Matrix)의 의미로 사용됩니다.\n",
    "- 시뮬레이션 및 완전 탐색 문제에서는 2차원 공간에서의 방향 벡터가 자주 활용됩니다."
   ]
  },
  {
   "cell_type": "markdown",
   "metadata": {},
   "source": [
    "### [문제] 상하좌우 - 시뮬레이션 유형"
   ]
  },
  {
   "cell_type": "code",
   "execution_count": 2,
   "metadata": {},
   "outputs": [
    {
     "ename": "ValueError",
     "evalue": "invalid literal for int() with base 10: '1 2 3 4'",
     "output_type": "error",
     "traceback": [
      "\u001b[0;31m---------------------------------------------------------------------------\u001b[0m",
      "\u001b[0;31mValueError\u001b[0m                                Traceback (most recent call last)",
      "\u001b[1;32m/Users/choibowon/Desktop/Algorithm-Study/2_0_구현.ipynb 셀 5\u001b[0m in \u001b[0;36m<cell line: 2>\u001b[0;34m()\u001b[0m\n\u001b[1;32m      <a href='vscode-notebook-cell:/Users/choibowon/Desktop/Algorithm-Study/2_0_%EA%B5%AC%ED%98%84.ipynb#X12sZmlsZQ%3D%3D?line=0'>1</a>\u001b[0m \u001b[39m# N 입력 받기\u001b[39;00m\n\u001b[0;32m----> <a href='vscode-notebook-cell:/Users/choibowon/Desktop/Algorithm-Study/2_0_%EA%B5%AC%ED%98%84.ipynb#X12sZmlsZQ%3D%3D?line=1'>2</a>\u001b[0m n\u001b[39m=\u001b[39m\u001b[39mint\u001b[39;49m(\u001b[39minput\u001b[39;49m())\n\u001b[1;32m      <a href='vscode-notebook-cell:/Users/choibowon/Desktop/Algorithm-Study/2_0_%EA%B5%AC%ED%98%84.ipynb#X12sZmlsZQ%3D%3D?line=2'>3</a>\u001b[0m x, y\u001b[39m=\u001b[39m\u001b[39m1\u001b[39m,\u001b[39m1\u001b[39m\n\u001b[1;32m      <a href='vscode-notebook-cell:/Users/choibowon/Desktop/Algorithm-Study/2_0_%EA%B5%AC%ED%98%84.ipynb#X12sZmlsZQ%3D%3D?line=3'>4</a>\u001b[0m plans \u001b[39m=\u001b[39m \u001b[39minput\u001b[39m()\u001b[39m.\u001b[39msplit()\n",
      "\u001b[0;31mValueError\u001b[0m: invalid literal for int() with base 10: '1 2 3 4'"
     ]
    }
   ],
   "source": [
    "# N 입력 받기\n",
    "n=int(input())\n",
    "x, y=1,1\n",
    "plans = input().split()\n",
    "\n",
    "# L, R, U, D에 따른 이동 방향\n",
    "dx=[0,0,-1,1]\n",
    "dy=[-1,1,0,0]\n",
    "move_types=['L','R','U','D']\n",
    "\n",
    "# 이동 계획을 하나씩 확인하기\n",
    "for plan in plans:\n",
    "    # 이동 후 좌표 구하기\n",
    "    for i in range(len(move_types)):\n",
    "        if plan==move_types[i]:\n",
    "            nx=x+dx[i]\n",
    "            ny=y+dy[i]\n",
    "    # 공간을 벗어나는 경우 무시\n",
    "    if nx<1 or ny<1 or nx>n or ny>n:\n",
    "        continue\n",
    "    # 이동 수행\n",
    "    x,y=nx,ny\n",
    "\n",
    "print(x,y)"
   ]
  },
  {
   "cell_type": "markdown",
   "metadata": {},
   "source": [
    "### [문제] 시각 - 완전 탐색"
   ]
  },
  {
   "cell_type": "code",
   "execution_count": 4,
   "metadata": {},
   "outputs": [
    {
     "name": "stdout",
     "output_type": "stream",
     "text": [
      "674325\n"
     ]
    }
   ],
   "source": [
    "h=int(input())\n",
    "\n",
    "count=0\n",
    "for i in range(h+1):\n",
    "    for j in range(60):\n",
    "        for k in range(60):\n",
    "            # 매 시각 안에 '3'이 포함되어 있다면 카운트 증가\n",
    "            if '3' in str(i)+str(j)+str(k):\n",
    "                count+=1\n",
    "\n",
    "print(count)"
   ]
  },
  {
   "cell_type": "markdown",
   "metadata": {},
   "source": [
    "### [문제] 왕실의 나이트 - 시뮬레이션, 완전탐색 (구현)"
   ]
  },
  {
   "cell_type": "code",
   "execution_count": null,
   "metadata": {},
   "outputs": [],
   "source": [
    "# 현재 나이트의 위치 입력받기\n",
    "input_data=input()\n",
    "row=int(input_data[1])\n",
    "column= input(ord(input_data[0])-int(ord('a'))+1)\n",
    "\n",
    "# 나이트가 이동할 ㅜㅅ 잇는 8가지 방향 정의\n",
    "steps=[(-2,-1),(-1,-2),(1,-2),(2,-1),(2,1),(1,2),(-1,2),(-2,1)]\n",
    "\n",
    "# 8가지 방향에 대하여 각 위치로 이동이 가능한지 확인\n",
    "result=0\n",
    "for step in steps:\n",
    "    # 이동하고자 하는 위치 확인\n",
    "    next_row=row+step[0]\n",
    "    next_column=column+step[1]\n",
    "    # 해당 위치로 이동이 가능하다면 카운트 증가\n",
    "    if next_row >=1 and next_row <= 8 next_column >= 1 and next_column <= 8:\n",
    "        result+=1\n",
    "\n",
    "print(result)"
   ]
  }
 ],
 "metadata": {
  "kernelspec": {
   "display_name": "Python 3.8.9 64-bit",
   "language": "python",
   "name": "python3"
  },
  "language_info": {
   "codemirror_mode": {
    "name": "ipython",
    "version": 3
   },
   "file_extension": ".py",
   "mimetype": "text/x-python",
   "name": "python",
   "nbconvert_exporter": "python",
   "pygments_lexer": "ipython3",
   "version": "3.8.9"
  },
  "orig_nbformat": 4,
  "vscode": {
   "interpreter": {
    "hash": "31f2aee4e71d21fbe5cf8b01ff0e069b9275f58929596ceb00d14d90e3e16cd6"
   }
  }
 },
 "nbformat": 4,
 "nbformat_minor": 2
}
