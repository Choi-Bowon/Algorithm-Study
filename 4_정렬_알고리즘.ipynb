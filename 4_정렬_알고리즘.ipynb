{
 "cells": [
  {
   "cell_type": "markdown",
   "metadata": {},
   "source": [
    "# 정렬 알고리즘\n",
    "- 정렬(sorting) :  데이터를 특정한 기준에 따라 순서대로 나열\n",
    "- 일반적으로 문제 상황에 따라서 적절한 정렬 알고리즘이 공식처럼 사용됨"
   ]
  },
  {
   "cell_type": "markdown",
   "metadata": {},
   "source": [
    "## 선택 정렬\n",
    "- 처리되지 않은 데이터 중에서 가장 작은 데이터를 선택해 맨 앞에 있는 데이터와 바꾸는 것을 반복"
   ]
  },
  {
   "cell_type": "code",
   "execution_count": 1,
   "metadata": {},
   "outputs": [
    {
     "name": "stdout",
     "output_type": "stream",
     "text": [
      "[0, 1, 2, 3, 4, 5, 6, 7, 8, 9]\n"
     ]
    }
   ],
   "source": [
    "# 선택 정렬 소스코드\n",
    "array=[7,5,9,0,3,1,6,2,4,8]\n",
    "\n",
    "for i in range(len(array)):\n",
    "    min_index=i # 가장 작은 원소의 인덱스\n",
    "    for j in range(i+1,len(array)):\n",
    "        if array[min_index]>array[j]:\n",
    "            min_index=j\n",
    "    array[i], array[min_index]=array[min_index], array[i] # 스와프\n",
    "\n",
    "print(array)\n"
   ]
  },
  {
   "cell_type": "markdown",
   "metadata": {},
   "source": [
    "### - 선택 정렬의 시간 복잡도\n",
    "- 선택 정렬은 N번 만큼 가장 작은 수를 찾아서 맨 앞으로 보내야 합니다.\n",
    "- 구현 방식에 따라서 사소한 오차는 있을 쑤 있지만, 전체 연산 횟수는 다음과 같습니다.\n",
    "- N + (N-1) + (n-2) + ... + 2\n",
    "- 이는 빅오 표기법에 따라서 O(N^2)"
   ]
  },
  {
   "cell_type": "markdown",
   "metadata": {},
   "source": [
    "## 삽입 정렬\n",
    "- 처리되지 않은 데이터를 하나씩 골라 적절한 위치에 삽입\n",
    "- 선택 정렬에 비해 구현 난이도가 높은 편이지만, 일반적으로 더 효율적으로 동작"
   ]
  },
  {
   "cell_type": "code",
   "execution_count": 3,
   "metadata": {},
   "outputs": [
    {
     "name": "stdout",
     "output_type": "stream",
     "text": [
      "[0, 1, 2, 3, 4, 5, 6, 7, 8, 9]\n"
     ]
    }
   ],
   "source": [
    "# 삽입 정렬 소스코드\n",
    "array=[7,5,9,0,3,1,6,2,4,8]\n",
    "\n",
    "for i in range(1, len(array)):\n",
    "    for j in range(i,0,-1): # 인덱스 i부터 1까지 1씩 감소하며 반복하는 문법\n",
    "        if array[j]<array[j-1]: # 한 칸씩 왼쪽으로 이동\n",
    "            array[j], array[j-1]=array[j-1],array[j]\n",
    "        else:\n",
    "            break\n",
    "    \n",
    "print(array)"
   ]
  },
  {
   "cell_type": "markdown",
   "metadata": {},
   "source": [
    "### - 삽입 정렬의 시간 복잡도\n",
    "- 삽입 정렬의 시간 복잡도는 O(n^2), 반복문이 두 번 중첩\n",
    "- 삽입 정렬은 현재 리스트의 데이터가 거의 정렬되어 있는 상태라면 매우 빠르게 동작\n",
    "- 최선의 경우 O(N)의 시간 복잡도를 가짐"
   ]
  },
  {
   "cell_type": "markdown",
   "metadata": {},
   "source": [
    "## 퀵 정렬\n",
    "- 기준 데이터를 설정하고 그 기준보다 큰 데이터와 작은 데이터의 위치를 바꾸는 방법\n",
    "- 일반적인 상황에서 가장 많이 사용되는 정렬 알고리즘 중 하나\n",
    "- 병합 정렬과 더불어 대부분의 프로그래밍 언어의 정렬 라이브러리의 근간\n",
    "- 가장 기본적인 퀵 정렬은 첫 번째 데이터를 기준 데이터 (Pivot)로 설정"
   ]
  }
 ],
 "metadata": {
  "kernelspec": {
   "display_name": "Python 3.8.9 64-bit",
   "language": "python",
   "name": "python3"
  },
  "language_info": {
   "codemirror_mode": {
    "name": "ipython",
    "version": 3
   },
   "file_extension": ".py",
   "mimetype": "text/x-python",
   "name": "python",
   "nbconvert_exporter": "python",
   "pygments_lexer": "ipython3",
   "version": "3.8.9"
  },
  "orig_nbformat": 4,
  "vscode": {
   "interpreter": {
    "hash": "31f2aee4e71d21fbe5cf8b01ff0e069b9275f58929596ceb00d14d90e3e16cd6"
   }
  }
 },
 "nbformat": 4,
 "nbformat_minor": 2
}
