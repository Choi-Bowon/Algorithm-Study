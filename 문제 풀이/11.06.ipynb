{
 "cells": [
  {
   "cell_type": "markdown",
   "metadata": {},
   "source": [
    "### <2주차> 코딩 테스트 특강 복습"
   ]
  },
  {
   "cell_type": "markdown",
   "metadata": {},
   "source": [
    "##### 1. 스택\n",
    "- 스택 자료구조의 특징 알기\n",
    "- 스택의 매서드 구현하기\n",
    "- 선입후출"
   ]
  },
  {
   "cell_type": "code",
   "execution_count": 6,
   "metadata": {},
   "outputs": [
    {
     "name": "stdout",
     "output_type": "stream",
     "text": [
      "2\n",
      "2\n",
      "0\n",
      "-1\n",
      "0\n",
      "1\n",
      "-1\n",
      "0\n",
      "3\n"
     ]
    }
   ],
   "source": [
    "n=int(input())\n",
    "stack=[]\n",
    "for i in range(n):\n",
    "    a=input().split()\n",
    "\n",
    "    if a[0]=='push':\n",
    "        stack.append(a[1])\n",
    "    elif a[0]=='pop':\n",
    "        try:\n",
    "            print(stack.pop())\n",
    "        except:\n",
    "            print(-1)\n",
    "    elif a[0]=='size':\n",
    "        print(len(stack))\n",
    "    elif a[0]=='empty':\n",
    "        if len(stack)==0:\n",
    "            print(1)\n",
    "        else:\n",
    "            print(0)\n",
    "    elif a[0]=='top':\n",
    "        if len(stack)==0:\n",
    "            print(-1)\n",
    "        else:\n",
    "            print(stack[-1])\n"
   ]
  },
  {
   "cell_type": "markdown",
   "metadata": {},
   "source": [
    "##### 2. 괄호(스택 응용 문제)"
   ]
  },
  {
   "cell_type": "code",
   "execution_count": null,
   "metadata": {},
   "outputs": [],
   "source": [
    "n=int(input())\n",
    "\n",
    "for i in range(n):\n",
    "    vps=input()\n",
    "    if vps[0]==')' or vps[-1]=='(':\n",
    "        print('NO')\n",
    "    else:\n",
    "        \n",
    "\n"
   ]
  },
  {
   "cell_type": "markdown",
   "metadata": {},
   "source": [
    "##### 3. 단어 공부 (백준 - 1157번)\n",
    "- https://www.acmicpc.net/problem/1157"
   ]
  },
  {
   "cell_type": "code",
   "execution_count": null,
   "metadata": {},
   "outputs": [],
   "source": [
    "words = input().upper()\n",
    "unique_words = list(set(words))  # 입력받은 문자열에서 중복값을 제거\n",
    "\n",
    "cnt_list = []\n",
    "for x in unique_words :\n",
    "    cnt = words.count(x)\n",
    "    cnt_list.append(cnt)  # count 숫자를 리스트에 append\n",
    "\n",
    "if cnt_list.count(max(cnt_list)) > 1 :  # count 숫자 최대값이 중복되면\n",
    "    print('?')\n",
    "else :\n",
    "    max_index = cnt_list.index(max(cnt_list))  # count 숫자 최대값 인덱스(위치)\n",
    "    print(unique_words[max_index])"
   ]
  },
  {
   "cell_type": "markdown",
   "metadata": {},
   "source": []
  }
 ],
 "metadata": {
  "kernelspec": {
   "display_name": "Python 3.8.9 64-bit",
   "language": "python",
   "name": "python3"
  },
  "language_info": {
   "codemirror_mode": {
    "name": "ipython",
    "version": 3
   },
   "file_extension": ".py",
   "mimetype": "text/x-python",
   "name": "python",
   "nbconvert_exporter": "python",
   "pygments_lexer": "ipython3",
   "version": "3.8.9"
  },
  "orig_nbformat": 4,
  "vscode": {
   "interpreter": {
    "hash": "31f2aee4e71d21fbe5cf8b01ff0e069b9275f58929596ceb00d14d90e3e16cd6"
   }
  }
 },
 "nbformat": 4,
 "nbformat_minor": 2
}
