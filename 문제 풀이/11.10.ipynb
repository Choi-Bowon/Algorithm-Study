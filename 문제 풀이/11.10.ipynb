{
 "cells": [
  {
   "cell_type": "markdown",
   "metadata": {},
   "source": [
    "##### 1. 외계행성의 나이 (Lv.0 코딩테스트 입문)\n",
    "- https://school.programmers.co.kr/learn/courses/30/lessons/120834"
   ]
  },
  {
   "cell_type": "code",
   "execution_count": 6,
   "metadata": {},
   "outputs": [],
   "source": [
    "def solution(age):\n",
    "    answer = ''\n",
    "    new_age='abcdefghij'\n",
    "\n",
    "    for i in str(age):\n",
    "        answer+=new_age[int(i)]\n",
    "    return answer"
   ]
  },
  {
   "cell_type": "markdown",
   "metadata": {},
   "source": [
    "##### 2. 암호 해독 (Lv.0 코딩테스트 입문)\n",
    "- https://school.programmers.co.kr/learn/courses/30/lessons/120892"
   ]
  },
  {
   "cell_type": "code",
   "execution_count": 13,
   "metadata": {},
   "outputs": [],
   "source": [
    "def solution(cipher, code):\n",
    "    answer = ''\n",
    "    \n",
    "    for i in range(1,len(cipher)+1):\n",
    "        try:\n",
    "            answer+=cipher[code*i-1]\n",
    "        except:\n",
    "            pass\n",
    "    return answer"
   ]
  },
  {
   "cell_type": "markdown",
   "metadata": {},
   "source": [
    "##### 3. 숫자 찾기 (Lv.0 코딩테스트 입문)\n",
    "- https://school.programmers.co.kr/learn/courses/30/lessons/120904"
   ]
  },
  {
   "cell_type": "code",
   "execution_count": 31,
   "metadata": {},
   "outputs": [],
   "source": [
    "def solution(num, k):\n",
    "\n",
    "    for s in str(num):\n",
    "        if s==str(k):\n",
    "            return str(num).index(s)+1\n",
    " \n",
    "    return -1\n",
    "    "
   ]
  }
 ],
 "metadata": {
  "kernelspec": {
   "display_name": "Python 3.10.4 ('study')",
   "language": "python",
   "name": "python3"
  },
  "language_info": {
   "codemirror_mode": {
    "name": "ipython",
    "version": 3
   },
   "file_extension": ".py",
   "mimetype": "text/x-python",
   "name": "python",
   "nbconvert_exporter": "python",
   "pygments_lexer": "ipython3",
   "version": "3.10.4"
  },
  "orig_nbformat": 4,
  "vscode": {
   "interpreter": {
    "hash": "6d3adedfb80ee571769eb11502afa6f60a6eb52bcaed4a1ba6c74a4ec7405124"
   }
  }
 },
 "nbformat": 4,
 "nbformat_minor": 2
}
