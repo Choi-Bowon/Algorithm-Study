{
 "cells": [
  {
   "cell_type": "markdown",
   "metadata": {},
   "source": [
    "##### 1. 가위 바위 보 (Lv.0 코딩테스트 입문)\n",
    "- https://school.programmers.co.kr/learn/courses/30/lessons/120839"
   ]
  },
  {
   "cell_type": "code",
   "execution_count": 1,
   "metadata": {},
   "outputs": [],
   "source": [
    "def solution(rsp):\n",
    "    answer = ''\n",
    "    for i in rsp:\n",
    "        if i=='2':\n",
    "            answer+='0'\n",
    "        elif i=='0':\n",
    "            answer+='5'\n",
    "        else:\n",
    "            answer+='2'\n",
    "    return answer"
   ]
  },
  {
   "cell_type": "markdown",
   "metadata": {},
   "source": [
    "##### 2. 주사위의 개수 (Lv.0 코딩테스트 입문)\n",
    "- https://school.programmers.co.kr/learn/courses/30/lessons/120845"
   ]
  },
  {
   "cell_type": "code",
   "execution_count": 11,
   "metadata": {},
   "outputs": [],
   "source": [
    "def solution(box, n):\n",
    "    answer = 1\n",
    "    for i in box:\n",
    "        answer*=i//n\n",
    "\n",
    "    return answer"
   ]
  },
  {
   "cell_type": "markdown",
   "metadata": {},
   "source": [
    "##### 3. 문자열 정렬하기 (2) (Lv.0 코딩테스트 입문)\n",
    "- https://school.programmers.co.kr/learn/courses/30/lessons/120911"
   ]
  },
  {
   "cell_type": "code",
   "execution_count": 13,
   "metadata": {},
   "outputs": [
    {
     "data": {
      "text/plain": [
       "1"
      ]
     },
     "execution_count": 13,
     "metadata": {},
     "output_type": "execute_result"
    }
   ],
   "source": [
    "def solution(my_string):\n",
    "    answer=''\n",
    "    for i in sorted(my_string.lower()):\n",
    "        answer+=i\n",
    "    return answer"
   ]
  },
  {
   "cell_type": "markdown",
   "metadata": {},
   "source": [
    "##### 4. 피자 나눠 먹기 (2) (Lv.0 코딩테스트 입문)\n",
    "- https://school.programmers.co.kr/learn/courses/30/lessons/120815"
   ]
  },
  {
   "cell_type": "code",
   "execution_count": 3,
   "metadata": {},
   "outputs": [],
   "source": [
    "def solution(n):\n",
    "    answer = 0\n",
    "    for i in range(1,601):\n",
    "        if n*i%6==0:\n",
    "            answer=i*n/6\n",
    "            break\n",
    "    return answer"
   ]
  },
  {
   "cell_type": "markdown",
   "metadata": {},
   "source": [
    "##### 5. 대표값2  (백준 - 2587번)\n",
    "- https://www.acmicpc.net/problem/2587"
   ]
  },
  {
   "cell_type": "code",
   "execution_count": null,
   "metadata": {},
   "outputs": [],
   "source": [
    "n=[]\n",
    "for i in range(5):\n",
    "    n.append(int(input()))\n",
    "print(int(sum(n)/5))\n",
    "print(sorted(n)[2])"
   ]
  },
  {
   "cell_type": "code",
   "execution_count": null,
   "metadata": {},
   "outputs": [],
   "source": []
  }
 ],
 "metadata": {
  "kernelspec": {
   "display_name": "Python 3.8.9 64-bit",
   "language": "python",
   "name": "python3"
  },
  "language_info": {
   "codemirror_mode": {
    "name": "ipython",
    "version": 3
   },
   "file_extension": ".py",
   "mimetype": "text/x-python",
   "name": "python",
   "nbconvert_exporter": "python",
   "pygments_lexer": "ipython3",
   "version": "3.8.9"
  },
  "orig_nbformat": 4,
  "vscode": {
   "interpreter": {
    "hash": "31f2aee4e71d21fbe5cf8b01ff0e069b9275f58929596ceb00d14d90e3e16cd6"
   }
  }
 },
 "nbformat": 4,
 "nbformat_minor": 2
}
