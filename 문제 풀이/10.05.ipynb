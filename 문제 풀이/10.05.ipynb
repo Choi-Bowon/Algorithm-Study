{
 "cells": [
  {
   "cell_type": "markdown",
   "metadata": {},
   "source": [
    "##### 1. 나누어 떨어지는 숫자 배열\n",
    "- https://school.programmers.co.kr/learn/courses/30/lessons/12910"
   ]
  },
  {
   "cell_type": "code",
   "execution_count": null,
   "metadata": {},
   "outputs": [],
   "source": [
    "def solution(arr, divisor):\n",
    "    answer = []\n",
    "    arr.sort()\n",
    "    for i in arr:\n",
    "        if i%divisor==0:\n",
    "            answer.append(i)\n",
    "        else:\n",
    "            pass\n",
    "    if len(answer)==0:\n",
    "        return [-1]\n",
    "    else:\n",
    "        return answer"
   ]
  },
  {
   "cell_type": "markdown",
   "metadata": {},
   "source": [
    "##### 2. 제일 작은 수 제거하기\n",
    "- https://school.programmers.co.kr/learn/courses/30/lessons/12935"
   ]
  },
  {
   "cell_type": "markdown",
   "metadata": {},
   "source": [
    "def solution(arr):\n",
    "    answer = [-1]\n",
    "    copy_arr=[]\n",
    "    for i in arr:\n",
    "        copy_arr.append(i)\n",
    "\n",
    "    copy_arr.sort()\n",
    "    i=copy_arr[0]\n",
    "\n",
    "    if len(arr)==1:\n",
    "        return [-1]\n",
    "    else:\n",
    "        arr.remove(i)\n",
    "        return arr"
   ]
  },
  {
   "cell_type": "markdown",
   "metadata": {},
   "source": [
    "##### 3. 음양 더하기\n",
    "- https://school.programmers.co.kr/learn/courses/30/lessons/76501"
   ]
  },
  {
   "cell_type": "markdown",
   "metadata": {},
   "source": [
    "def solution(absolutes, signs):\n",
    "    answer=0\n",
    "    for i in range(len(signs)):\n",
    "        if signs[i]:\n",
    "            answer+=absolutes[i]\n",
    "        else:\n",
    "            answer-=absolutes[i]\n",
    "    \n",
    "    return answer"
   ]
  },
  {
   "cell_type": "markdown",
   "metadata": {},
   "source": [
    "##### 4. 없는 숫자 더하기\n",
    "- https://school.programmers.co.kr/learn/courses/30/lessons/86051"
   ]
  },
  {
   "cell_type": "code",
   "execution_count": null,
   "metadata": {},
   "outputs": [],
   "source": [
    "def solution(numbers):\n",
    "    answer = 0\n",
    "    for i in range(1,10):\n",
    "        if i not in numbers:\n",
    "            answer+=i\n",
    "    return answer"
   ]
  },
  {
   "cell_type": "code",
   "execution_count": null,
   "metadata": {},
   "outputs": [],
   "source": [
    "# sum() 내장 함수 사용해서 푸는 방법도 익혀두기\n",
    "def solution(numbers):\n",
    "    return sum([i for i in [1,2,3,4,5,6,7,8,9,0] if i not in numbers])"
   ]
  }
 ],
 "metadata": {
  "kernelspec": {
   "display_name": "Python 3.10.4 ('study')",
   "language": "python",
   "name": "python3"
  },
  "language_info": {
   "codemirror_mode": {
    "name": "ipython",
    "version": 3
   },
   "file_extension": ".py",
   "mimetype": "text/x-python",
   "name": "python",
   "nbconvert_exporter": "python",
   "pygments_lexer": "ipython3",
   "version": "3.10.4"
  },
  "orig_nbformat": 4,
  "vscode": {
   "interpreter": {
    "hash": "6d3adedfb80ee571769eb11502afa6f60a6eb52bcaed4a1ba6c74a4ec7405124"
   }
  }
 },
 "nbformat": 4,
 "nbformat_minor": 2
}
