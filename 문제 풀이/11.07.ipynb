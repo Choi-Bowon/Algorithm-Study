{
 "cells": [
  {
   "cell_type": "markdown",
   "metadata": {},
   "source": [
    "##### 1. 단어 공부 (백준 - 1157번)\n",
    "- https://www.acmicpc.net/problem/1157"
   ]
  },
  {
   "cell_type": "code",
   "execution_count": 16,
   "metadata": {},
   "outputs": [
    {
     "name": "stdout",
     "output_type": "stream",
     "text": [
      "Z\n"
     ]
    }
   ],
   "source": [
    "s=input().upper()\n",
    "s_list=list(set(s))\n",
    "n_list=[]\n",
    "\n",
    "for i in s_list:\n",
    "    cnt=s.count(i)\n",
    "    n_list.append(cnt)\n",
    "    \n",
    "if n_list.count(max(n_list))>1:\n",
    "    print('?')\n",
    "else:\n",
    "    print(s_list[n_list.index(max(n_list))])"
   ]
  },
  {
   "cell_type": "markdown",
   "metadata": {},
   "source": [
    "##### 2. 그룹 단어 체커 (백준 - 1316번)\n",
    "- https://www.acmicpc.net/problem/1316"
   ]
  },
  {
   "cell_type": "code",
   "execution_count": 20,
   "metadata": {},
   "outputs": [
    {
     "name": "stdout",
     "output_type": "stream",
     "text": [
      "1\n"
     ]
    }
   ],
   "source": [
    "# 단어의 개수 n\n",
    "n=int(input())\n",
    "cnt=0\n",
    "\n",
    "for _ in range(n):\n",
    "    word=input()\n",
    "    error=0\n",
    "    for i in range(len(word)-1):\n",
    "        if word[i] != word[i+1]:\n",
    "            new_word=word[i+1:]\n",
    "            if new_word.count(word[i])>0:\n",
    "                error+=1\n",
    "    if error ==0:\n",
    "        cnt+=1\n",
    "print(cnt)"
   ]
  },
  {
   "cell_type": "markdown",
   "metadata": {},
   "source": [
    "##### 3. 문자 반복 출력하기 (Lv.0 코딩테스트 입문)\n",
    "- https://school.programmers.co.kr/learn/courses/30/lessons/120825"
   ]
  },
  {
   "cell_type": "code",
   "execution_count": 22,
   "metadata": {},
   "outputs": [],
   "source": [
    "def solution(my_string, n):\n",
    "    answer = ''\n",
    "    for s in my_string:\n",
    "        answer+=s*n\n",
    "    return answer"
   ]
  },
  {
   "cell_type": "markdown",
   "metadata": {},
   "source": [
    "##### 4. 순서쌍의 개수 (Lv.0 코딩테스트 입문)\n",
    "- https://school.programmers.co.kr/learn/courses/30/lessons/120836"
   ]
  },
  {
   "cell_type": "code",
   "execution_count": 24,
   "metadata": {},
   "outputs": [],
   "source": [
    "def solution(n):\n",
    "    answer = 0\n",
    "    for i in range(1,n+1):\n",
    "        if n%i==0:\n",
    "            answer+=1\n",
    "    return answer"
   ]
  },
  {
   "cell_type": "markdown",
   "metadata": {},
   "source": [
    "##### 5. 세균 증식 (Lv.0 코딩테스트 입문)\n",
    "- https://school.programmers.co.kr/learn/courses/30/lessons/120910"
   ]
  },
  {
   "cell_type": "code",
   "execution_count": 33,
   "metadata": {},
   "outputs": [],
   "source": [
    "def solution(n, t):\n",
    "    for i in range(t):\n",
    "        n*=2\n",
    "    return n"
   ]
  },
  {
   "cell_type": "markdown",
   "metadata": {},
   "source": [
    "##### 6. 숨어있는 숫자의 덧셈 (1) (Lv.0 코딩테스트 입문)\n",
    "- https://school.programmers.co.kr/learn/courses/30/lessons/120851"
   ]
  },
  {
   "cell_type": "code",
   "execution_count": 36,
   "metadata": {},
   "outputs": [],
   "source": [
    "def solution(my_string):\n",
    "    answer = 0\n",
    "    for i in my_string:\n",
    "        try:\n",
    "            answer+=int(i)\n",
    "        except:\n",
    "            pass\n",
    "    return answer"
   ]
  },
  {
   "cell_type": "markdown",
   "metadata": {},
   "source": [
    "##### 7. 개미 군단 (Lv.0 코딩테스트 입문)\n",
    "- https://school.programmers.co.kr/learn/courses/30/lessons/120837"
   ]
  },
  {
   "cell_type": "code",
   "execution_count": 37,
   "metadata": {},
   "outputs": [],
   "source": [
    "# 탐욕법\n",
    "def solution(hp):\n",
    "    answer = 0\n",
    "    for i in [5,3,1]:\n",
    "        answer+=hp//i\n",
    "        hp=hp%i\n",
    "    return answer"
   ]
  },
  {
   "cell_type": "markdown",
   "metadata": {},
   "source": [
    "##### 8. 모음 제고 (Lv.0 코딩테스트 입문)\n",
    "- https://school.programmers.co.kr/learn/courses/30/lessons/120849"
   ]
  },
  {
   "cell_type": "code",
   "execution_count": 38,
   "metadata": {},
   "outputs": [],
   "source": [
    "def solution(my_string):\n",
    "    mo=['a', 'e', 'i', 'o', 'u']\n",
    "\n",
    "    for i in mo:\n",
    "        my_string=my_string.replace(i,'')\n",
    "    return my_string"
   ]
  },
  {
   "cell_type": "markdown",
   "metadata": {},
   "source": [
    "##### 9. 문자열 정렬하기 (Lv.0 코딩테스트 입문)\n",
    "- https://school.programmers.co.kr/learn/courses/30/lessons/120850"
   ]
  },
  {
   "cell_type": "code",
   "execution_count": null,
   "metadata": {},
   "outputs": [],
   "source": [
    "def solution(my_string):\n",
    "    answer = []\n",
    "    for i in my_string:\n",
    "        try:\n",
    "            answer.append(int(i))\n",
    "        except:\n",
    "            pass\n",
    "    \n",
    "    return sorted(answer)"
   ]
  },
  {
   "cell_type": "markdown",
   "metadata": {},
   "source": [
    "##### 10. n의 배수 고르기 (Lv.0 코딩테스트 입문)\n",
    "- https://school.programmers.co.kr/learn/courses/30/lessons/120905"
   ]
  },
  {
   "cell_type": "code",
   "execution_count": 1,
   "metadata": {},
   "outputs": [],
   "source": [
    "def solution(n, numlist):\n",
    "    return [i for i in numlist if i%n==0]\n"
   ]
  },
  {
   "cell_type": "markdown",
   "metadata": {},
   "source": [
    "##### 11. 약수 구하기 (Lv.0 코딩테스트 입문)\n",
    "- https://school.programmers.co.kr/learn/courses/30/lessons/120897"
   ]
  },
  {
   "cell_type": "code",
   "execution_count": null,
   "metadata": {},
   "outputs": [],
   "source": [
    "def solution(n):\n",
    "    return [i for i in range(1,n+1) if n%i==0]\n"
   ]
  },
  {
   "cell_type": "markdown",
   "metadata": {},
   "source": [
    "##### 12. 가장 큰 수 찾기 (Lv.0 코딩테스트 입문)\n",
    "- https://school.programmers.co.kr/learn/courses/30/lessons/120899"
   ]
  },
  {
   "cell_type": "code",
   "execution_count": null,
   "metadata": {},
   "outputs": [],
   "source": [
    "def solution(array):\n",
    "    max_val=max(array)\n",
    "    index=array.index(max_val)\n",
    "    return [max_val,index]"
   ]
  },
  {
   "cell_type": "markdown",
   "metadata": {},
   "source": [
    "##### 13. 대문자와 소문자 (Lv.0 코딩테스트 입문)\n",
    "- https://school.programmers.co.kr/learn/courses/30/lessons/120893"
   ]
  },
  {
   "cell_type": "code",
   "execution_count": null,
   "metadata": {},
   "outputs": [],
   "source": [
    "def solution(my_string):\n",
    "    answer = ''\n",
    "    for i in my_string:\n",
    "        if i.isupper():\n",
    "            answer+=i.lower()\n",
    "        else:\n",
    "            answer+=i.upper()\n",
    "    return answer"
   ]
  },
  {
   "cell_type": "markdown",
   "metadata": {},
   "source": [
    "##### 14. 중앙값 구하기 (Lv.0 코딩테스트 입문)\n",
    "- https://school.programmers.co.kr/learn/courses/30/lessons/120811"
   ]
  },
  {
   "cell_type": "code",
   "execution_count": 3,
   "metadata": {},
   "outputs": [],
   "source": [
    "def solution(array):   \n",
    "    array=sorted(array)\n",
    "    return array[len(array)//2]"
   ]
  },
  {
   "cell_type": "markdown",
   "metadata": {},
   "source": [
    "##### 15. 직각사각형 출력하기 (Lv.0 코딩테스트 입문)\n",
    "- https://school.programmers.co.kr/learn/courses/30/lessons/120823"
   ]
  },
  {
   "cell_type": "code",
   "execution_count": 4,
   "metadata": {},
   "outputs": [
    {
     "name": "stdout",
     "output_type": "stream",
     "text": [
      "*\n",
      "**\n",
      "***\n"
     ]
    }
   ],
   "source": [
    "n = int(input())\n",
    "for i in range(1,n+1):\n",
    "    print('*'*i)"
   ]
  },
  {
   "cell_type": "markdown",
   "metadata": {},
   "source": [
    "##### 16. 가위 바위 보 (Lv.0 코딩테스트 입문)\n",
    "- https://school.programmers.co.kr/learn/courses/30/lessons/120839"
   ]
  },
  {
   "cell_type": "code",
   "execution_count": null,
   "metadata": {},
   "outputs": [],
   "source": [
    "def solution(rsp):\n",
    "    answer = ''\n",
    "    return answer"
   ]
  },
  {
   "cell_type": "markdown",
   "metadata": {},
   "source": [
    "##### 17. [1차] 뉴스 클러스터링 (Lv.2 2018 KAKAO BLIND RECRUITMENT)\n",
    "- https://school.programmers.co.kr/learn/courses/30/lessons/17677"
   ]
  },
  {
   "cell_type": "code",
   "execution_count": 33,
   "metadata": {},
   "outputs": [],
   "source": [
    "def solution(str1, str2):\n",
    "    str1, str2=str1.upper(),str2.upper()\n",
    "\n",
    "    new_str1_list=[]\n",
    "    new_str2_list=[]\n",
    "    \n",
    "    # 두 글짜씩 다중집합 만들기\n",
    "    for i in range(len(str1)-1):\n",
    "        new_str1_list.append(str1[i:i+2])\n",
    "    for i in range(len(str2)-1):\n",
    "        new_str2_list.append(str2[i:i+2])\n",
    "\n",
    "    # 공백, 숫자, 특수문자 여부 파악하기\n",
    "    result_str1=[]\n",
    "    result_str2=[]\n",
    "\n",
    "    # 조건에 맞는 문자열만 다중집합의 원소로 포함\n",
    "    for i in new_str1_list:\n",
    "        if i[0].isupper() and i[1].isupper():\n",
    "            result_str1.append(i)\n",
    "    for i in new_str2_list:\n",
    "        if i[0].isupper() and i[1].isupper():\n",
    "            result_str2.append(i)\n",
    "\n",
    "    str1_copy=result_str1.copy()\n",
    "    str2_copy=result_str2.copy()\n",
    "\n",
    "    inter=[] # 교집합\n",
    "    for i in result_str1:\n",
    "        if i in str2_copy:\n",
    "            inter.append(i)\n",
    "            str1_copy.remove(i)\n",
    "            str2_copy.remove(i)\n",
    "    \n",
    "    # 합집합\n",
    "    hap=inter+str1_copy+str2_copy\n",
    "\n",
    "    if len(hap)==0:\n",
    "        answer=65536\n",
    "    else:\n",
    "        answer=int(len(inter)/len(hap)*65536)\n",
    "    return answer"
   ]
  }
 ],
 "metadata": {
  "kernelspec": {
   "display_name": "Python 3.10.4 ('study')",
   "language": "python",
   "name": "python3"
  },
  "language_info": {
   "codemirror_mode": {
    "name": "ipython",
    "version": 3
   },
   "file_extension": ".py",
   "mimetype": "text/x-python",
   "name": "python",
   "nbconvert_exporter": "python",
   "pygments_lexer": "ipython3",
   "version": "3.10.4"
  },
  "orig_nbformat": 4,
  "vscode": {
   "interpreter": {
    "hash": "6d3adedfb80ee571769eb11502afa6f60a6eb52bcaed4a1ba6c74a4ec7405124"
   }
  }
 },
 "nbformat": 4,
 "nbformat_minor": 2
}
