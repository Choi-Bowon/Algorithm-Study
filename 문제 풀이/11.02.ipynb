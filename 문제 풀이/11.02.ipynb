{
 "cells": [
  {
   "cell_type": "markdown",
   "metadata": {},
   "source": [
    "##### 1. 사분면 고르기 (백준 - 14681번)\n",
    "- https://www.acmicpc.net/problem/14681"
   ]
  },
  {
   "cell_type": "code",
   "execution_count": 3,
   "metadata": {},
   "outputs": [
    {
     "name": "stdout",
     "output_type": "stream",
     "text": [
      "4\n"
     ]
    }
   ],
   "source": [
    "x=int(input())\n",
    "y=int(input()) \n",
    "\n",
    "if x>0 and y>0: \n",
    "    print(1)\n",
    "elif x>0 and y<0:\n",
    "    print(4)\n",
    "elif x<0 and y<0:\n",
    "    print(3)\n",
    "else:\n",
    "    print(2)"
   ]
  },
  {
   "cell_type": "markdown",
   "metadata": {},
   "source": [
    "##### 2. 알람 시계 (백준 - 2884번)\n",
    "- https://www.acmicpc.net/problem/2884"
   ]
  },
  {
   "cell_type": "code",
   "execution_count": 11,
   "metadata": {},
   "outputs": [
    {
     "name": "stdout",
     "output_type": "stream",
     "text": [
      "22 55\n"
     ]
    }
   ],
   "source": [
    "H, M = map(int,input().split())\n",
    "\n",
    "if M>=45:\n",
    "    print(H,M-45)\n",
    "elif H>=1:\n",
    "    print(H-1,15+M)\n",
    "elif H==0:\n",
    "    print(23,15+M)"
   ]
  },
  {
   "cell_type": "markdown",
   "metadata": {},
   "source": [
    "##### 3. 오븐 시계 (백준 - 2525번)\n",
    "- https://www.acmicpc.net/problem/2525"
   ]
  },
  {
   "cell_type": "code",
   "execution_count": 15,
   "metadata": {},
   "outputs": [
    {
     "name": "stdout",
     "output_type": "stream",
     "text": [
      "0 13\n"
     ]
    }
   ],
   "source": [
    "A, B = map(int,input().split())\n",
    "C=int(input())\n",
    "\n",
    "if B+C<60:\n",
    "    print(A,B+C)\n",
    "else:\n",
    "    if A+(B+C)//60>=24:\n",
    "        print(A+(B+C)//60-24,(B+C)%60)\n",
    "    else:\n",
    "        print(A+(B+C)//60,(B+C)%60)\n"
   ]
  },
  {
   "cell_type": "markdown",
   "metadata": {},
   "source": [
    "##### 4. 주사위 세개 (백준 -2480번)\n",
    "- https://www.acmicpc.net/problem/2480"
   ]
  },
  {
   "cell_type": "code",
   "execution_count": 21,
   "metadata": {},
   "outputs": [
    {
     "name": "stdout",
     "output_type": "stream",
     "text": [
      "600\n"
     ]
    }
   ],
   "source": [
    "a, b, c = map(int,input().split())\n",
    "\n",
    "if len(set([a,b,c]))==1:\n",
    "    print(10000+a*1000)\n",
    "elif len(set([a,b,c]))==2:\n",
    "    if a==b or a==c:\n",
    "        print(1000+a*100)\n",
    "    else:\n",
    "        print(1000+b*100)\n",
    "else:\n",
    "    print(max(a,b,c)*100)"
   ]
  },
  {
   "cell_type": "markdown",
   "metadata": {},
   "source": [
    "##### 5. 구구단 (백준 - 2739번)\n",
    "- https://www.acmicpc.net/problem/2739"
   ]
  },
  {
   "cell_type": "code",
   "execution_count": 23,
   "metadata": {},
   "outputs": [
    {
     "name": "stdout",
     "output_type": "stream",
     "text": [
      "2 * 1 = 2\n",
      "2 * 2 = 4\n",
      "2 * 3 = 6\n",
      "2 * 4 = 8\n",
      "2 * 5 = 10\n",
      "2 * 6 = 12\n",
      "2 * 7 = 14\n",
      "2 * 8 = 16\n",
      "2 * 9 = 18\n"
     ]
    }
   ],
   "source": [
    "N=int(input())\n",
    "\n",
    "for i in range(1,10):\n",
    "    print(N,'*',i,'=',N*i)"
   ]
  },
  {
   "cell_type": "markdown",
   "metadata": {},
   "source": [
    "##### 6. 영수증 (백준 - 25304번)\n",
    "- https://www.acmicpc.net/problem/25304"
   ]
  },
  {
   "cell_type": "code",
   "execution_count": 26,
   "metadata": {},
   "outputs": [
    {
     "name": "stdout",
     "output_type": "stream",
     "text": [
      "No\n"
     ]
    }
   ],
   "source": [
    "X=int(input())\n",
    "N=int(input())\n",
    "total=0\n",
    "for i in range(N):\n",
    "    price, cnt=map(int,input().split())\n",
    "    total+=price*cnt\n",
    "if X==total:\n",
    "    print('Yes')\n",
    "else:\n",
    "    print('No')"
   ]
  },
  {
   "cell_type": "markdown",
   "metadata": {},
   "source": [
    "##### 7. 빠른 A+B (백준 - 15552번)\n",
    "- https://www.acmicpc.net/problem/15552"
   ]
  },
  {
   "cell_type": "code",
   "execution_count": null,
   "metadata": {},
   "outputs": [],
   "source": [
    "import sys\n",
    "\n",
    "T=int(sys.stdin.readline())\n",
    "\n",
    "for i in range(T):\n",
    "    A, B=map(int,sys.stdin.readline().split())\n",
    "    print(A+B)"
   ]
  },
  {
   "cell_type": "markdown",
   "metadata": {},
   "source": [
    "##### 8. A+B - 7 (백준 - 11021번)\n",
    "- https://www.acmicpc.net/problem/11021"
   ]
  },
  {
   "cell_type": "code",
   "execution_count": null,
   "metadata": {},
   "outputs": [],
   "source": [
    "import sys\n",
    "\n",
    "T=int(sys.stdin.readline())\n",
    "\n",
    "for i in range(1,T+1):\n",
    "    A, B=map(int,sys.stdin.readline().split())\n",
    "    print(f\"Case #{i}:\",A+B)"
   ]
  },
  {
   "cell_type": "markdown",
   "metadata": {},
   "source": [
    "##### 9. A+B - 8 (백준 - 11022번)\n",
    "- https://www.acmicpc.net/problem/11022"
   ]
  },
  {
   "cell_type": "code",
   "execution_count": null,
   "metadata": {},
   "outputs": [],
   "source": [
    "import sys\n",
    "\n",
    "T=int(sys.stdin.readline())\n",
    "\n",
    "for i in range(1,T+1):\n",
    "    A, B=map(int,sys.stdin.readline().split())\n",
    "    print(f\"Case #{i}:\",A,'+',B,'=',A+B)"
   ]
  },
  {
   "cell_type": "markdown",
   "metadata": {},
   "source": [
    "##### 10. 별 찍기 - 1 (백준 - 2438번)\n",
    "- https://www.acmicpc.net/problem/2438"
   ]
  },
  {
   "cell_type": "code",
   "execution_count": 5,
   "metadata": {},
   "outputs": [
    {
     "name": "stdout",
     "output_type": "stream",
     "text": [
      "*\n",
      "**\n",
      "***\n",
      "****\n",
      "*****\n"
     ]
    }
   ],
   "source": [
    "N=int(input())\n",
    "\n",
    "for i in range(N):\n",
    "    print('*'*(i+1))"
   ]
  },
  {
   "cell_type": "markdown",
   "metadata": {},
   "source": [
    "##### 11. 별 찍기 - 2 (백준 - 2439번)\n",
    "- https://www.acmicpc.net/problem/2439"
   ]
  },
  {
   "cell_type": "code",
   "execution_count": 7,
   "metadata": {},
   "outputs": [
    {
     "name": "stdout",
     "output_type": "stream",
     "text": [
      "  *\n",
      " **\n",
      "***\n"
     ]
    }
   ],
   "source": [
    "N=int(input())\n",
    "\n",
    "for i in range(N):\n",
    "    print(' '*(N-i-1),'*'*(i+1),sep='')"
   ]
  },
  {
   "cell_type": "markdown",
   "metadata": {},
   "source": [
    "##### 12. A+B - 5 (백준 - 10952번)\n",
    "- https://www.acmicpc.net/problem/10952"
   ]
  },
  {
   "cell_type": "code",
   "execution_count": 8,
   "metadata": {},
   "outputs": [
    {
     "name": "stdout",
     "output_type": "stream",
     "text": [
      "2\n",
      "5\n",
      "7\n",
      "17\n",
      "7\n"
     ]
    }
   ],
   "source": [
    "while True:\n",
    "    A, B = map(int,input().split())\n",
    "    if A == 0 and B == 0:\n",
    "        break\n",
    "    print(A+B)"
   ]
  },
  {
   "cell_type": "markdown",
   "metadata": {},
   "source": [
    "##### 13. A+B - 4 (백준 - 10951번)\n",
    "- https://www.acmicpc.net/problem/10951"
   ]
  },
  {
   "cell_type": "code",
   "execution_count": null,
   "metadata": {},
   "outputs": [],
   "source": [
    "while True:\n",
    "    try:\n",
    "        A, B = map(int,input().split())\n",
    "        print(A+B)\n",
    "    except:\n",
    "        break\n",
    "    "
   ]
  },
  {
   "cell_type": "markdown",
   "metadata": {},
   "source": [
    "##### 14. 삼각형의 완성조건 (1) (Lv.0 코딩테스트 입문)\n",
    "- https://school.programmers.co.kr/learn/courses/30/lessons/120889"
   ]
  },
  {
   "cell_type": "code",
   "execution_count": 11,
   "metadata": {},
   "outputs": [],
   "source": [
    "def solution(sides):\n",
    "    if sorted(sides)[0]+sorted(sides)[1] > sorted(sides)[2]:\n",
    "        return 1\n",
    "    else:\n",
    "        return 2"
   ]
  },
  {
   "cell_type": "markdown",
   "metadata": {},
   "source": [
    "##### 15. 특정 문자 제거하기 (Lv.0 코딩테스트 입문)\n",
    "- https://school.programmers.co.kr/learn/courses/30/lessons/120826"
   ]
  },
  {
   "cell_type": "code",
   "execution_count": null,
   "metadata": {},
   "outputs": [],
   "source": [
    "def solution(my_string, letter):\n",
    "    answer=''\n",
    "    for i in my_string:\n",
    "        if i == letter:\n",
    "            pass\n",
    "        else:\n",
    "            answer+=i\n",
    "    \n",
    "    return answer"
   ]
  }
 ],
 "metadata": {
  "kernelspec": {
   "display_name": "Python 3.8.9 64-bit",
   "language": "python",
   "name": "python3"
  },
  "language_info": {
   "codemirror_mode": {
    "name": "ipython",
    "version": 3
   },
   "file_extension": ".py",
   "mimetype": "text/x-python",
   "name": "python",
   "nbconvert_exporter": "python",
   "pygments_lexer": "ipython3",
   "version": "3.8.9"
  },
  "orig_nbformat": 4,
  "vscode": {
   "interpreter": {
    "hash": "31f2aee4e71d21fbe5cf8b01ff0e069b9275f58929596ceb00d14d90e3e16cd6"
   }
  }
 },
 "nbformat": 4,
 "nbformat_minor": 2
}
