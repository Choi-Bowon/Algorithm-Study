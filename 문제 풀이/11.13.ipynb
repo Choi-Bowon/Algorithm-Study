{
 "cells": [
  {
   "cell_type": "markdown",
   "metadata": {},
   "source": [
    "##### 1. 전화번호 수수께끼 (Large) (백준 - 14370번)\n",
    "- https://www.acmicpc.net/problem/14370"
   ]
  },
  {
   "cell_type": "code",
   "execution_count": 99,
   "metadata": {},
   "outputs": [
    {
     "name": "stdout",
     "output_type": "stream",
     "text": [
      "Case #1: 012\n",
      "Case #2: 2468\n",
      "Case #3: 114\n",
      "Case #4: 3\n"
     ]
    }
   ],
   "source": [
    "import sys\n",
    "input=sys.stdin.readline\n",
    "\n",
    "t=int(input())\n",
    "# 숫자 문자열 별 유일한 알파벳을 기준으로 포함 여부를 확인\n",
    "s_dict={'Z':'ZERO', 'X':'SIX','G':'EIGHT','S':'SEVEN','V':'FIVE','F':'FOUR','I':'NINE', 'W':'TWO', 'R':'THREE', 'O':'ONE'}\n",
    "num_dict={'Z':'0','X':'6','G':'8','S':'7','V':'5','F':'4','I':'9','W':'2','R':'3','O':'1'}\n",
    "\n",
    "for i in range(t):\n",
    "    s=input()\n",
    "    string=''\n",
    "    result=''\n",
    "    for j in s_dict:\n",
    "        if j in s:\n",
    "            for n in range(s.count(j)):\n",
    "                string+=num_dict.get(j)\n",
    "                for k in s_dict.get(j):\n",
    "                    s=s.replace(k,'',1)\n",
    "\n",
    "    for k in sorted(string):\n",
    "        result+=k\n",
    "    print(f'Case #{i+1}: {result}')"
   ]
  },
  {
   "cell_type": "markdown",
   "metadata": {},
   "source": [
    "##### 9. PPAP (백준 - 16120번)\n",
    "- https://www.acmicpc.net/problem/16120"
   ]
  },
  {
   "cell_type": "code",
   "execution_count": 8,
   "metadata": {},
   "outputs": [
    {
     "name": "stdout",
     "output_type": "stream",
     "text": [
      "NP\n"
     ]
    }
   ],
   "source": [
    "# import sys\n",
    "# input=sys.stdin.readline\n",
    "\n",
    "s=input()\n",
    "\n",
    "if s=='P' or s =='PPAP':\n",
    "    print('PPAP')\n",
    "else:\n",
    "    while s != 'PPAP':\n",
    "        if 'PPAP' in s:\n",
    "            s=s.replace('PPAP','P')\n",
    "            if s=='PPAP' or s=='P':\n",
    "                print('PPAP')\n",
    "        else:\n",
    "            print('NP')\n",
    "            break\n"
   ]
  }
 ],
 "metadata": {
  "kernelspec": {
   "display_name": "Python 3.10.4 ('study')",
   "language": "python",
   "name": "python3"
  },
  "language_info": {
   "codemirror_mode": {
    "name": "ipython",
    "version": 3
   },
   "file_extension": ".py",
   "mimetype": "text/x-python",
   "name": "python",
   "nbconvert_exporter": "python",
   "pygments_lexer": "ipython3",
   "version": "3.10.4"
  },
  "orig_nbformat": 4,
  "vscode": {
   "interpreter": {
    "hash": "6d3adedfb80ee571769eb11502afa6f60a6eb52bcaed4a1ba6c74a4ec7405124"
   }
  }
 },
 "nbformat": 4,
 "nbformat_minor": 2
}
