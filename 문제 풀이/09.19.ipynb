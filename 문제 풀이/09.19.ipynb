{
 "cells": [
  {
   "cell_type": "markdown",
   "metadata": {},
   "source": [
    "### 1. 최소값 만들기 (Lv.2 연습문제)\n",
    "- https://school.programmers.co.kr/learn/courses/30/lessons/12941"
   ]
  },
  {
   "cell_type": "code",
   "execution_count": null,
   "metadata": {},
   "outputs": [],
   "source": [
    "def solution(A,B):\n",
    "    answer = 0\n",
    "\n",
    "    A.sort() # 1 2 4\n",
    "    B.sort(reverse=True) # 5 4 4\n",
    "    for i in range(len(A)):\n",
    "        answer+=A[i]*B[i]\n",
    "        \n",
    "    return answer"
   ]
  },
  {
   "cell_type": "markdown",
   "metadata": {},
   "source": [
    "### 2. 소수 찾기 (Lv.1 연습문제)\n",
    "- https://school.programmers.co.kr/learn/courses/30/lessons/12921"
   ]
  },
  {
   "cell_type": "code",
   "execution_count": null,
   "metadata": {},
   "outputs": [],
   "source": []
  },
  {
   "cell_type": "markdown",
   "metadata": {},
   "source": [
    "### 3. 콜라츠 추측 (Lv.1 연습문제)\n",
    "- https://school.programmers.co.kr/learn/courses/30/lessons/12943"
   ]
  },
  {
   "cell_type": "code",
   "execution_count": 5,
   "metadata": {},
   "outputs": [],
   "source": [
    "def solution(num):\n",
    "    answer = 0\n",
    "    while answer<501:\n",
    "        if num%2==0:\n",
    "            num=num/2\n",
    "            answer+=1\n",
    "        elif num%2:\n",
    "            num=num*3+1\n",
    "            answer+=1\n",
    "        elif answer>500:\n",
    "            return -1\n",
    "    return answer        "
   ]
  }
 ],
 "metadata": {
  "kernelspec": {
   "display_name": "Python 3.8.9 64-bit",
   "language": "python",
   "name": "python3"
  },
  "language_info": {
   "codemirror_mode": {
    "name": "ipython",
    "version": 3
   },
   "file_extension": ".py",
   "mimetype": "text/x-python",
   "name": "python",
   "nbconvert_exporter": "python",
   "pygments_lexer": "ipython3",
   "version": "3.8.9"
  },
  "orig_nbformat": 4,
  "vscode": {
   "interpreter": {
    "hash": "31f2aee4e71d21fbe5cf8b01ff0e069b9275f58929596ceb00d14d90e3e16cd6"
   }
  }
 },
 "nbformat": 4,
 "nbformat_minor": 2
}
