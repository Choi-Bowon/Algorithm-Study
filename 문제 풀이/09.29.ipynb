{
 "cells": [
  {
   "cell_type": "code",
   "execution_count": 1,
   "metadata": {},
   "outputs": [],
   "source": [
    "from collections import deque\n",
    "def solution(people, limit):\n",
    "    answer = 0\n",
    "    deq = deque(sorted(people))\n",
    "    while deq:\n",
    "        if len(deq) == 1:\n",
    "            answer += 1\n",
    "            break\n",
    "        if deq[0] + deq[-1] <= limit:\n",
    "            deq.pop()\n",
    "            deq.popleft()\n",
    "        else:\n",
    "            deq.pop()\n",
    "        answer += 1\n",
    "    return answer"
   ]
  },
  {
   "cell_type": "code",
   "execution_count": null,
   "metadata": {},
   "outputs": [],
   "source": [
    "# people을 내림차순으로 정렬한 후에 무거운 사람부터 새 보트에 집어넣습니다. \n",
    "# limit/2보다 초과하는 사람은 다 넣어요.(어차피 이들끼리는 같이 보트를 탈 수 없기때문)\n",
    "# 그리고나서 남은 사람들 중 가장 무거운 사람과 마지막 보트만 체크합니다. \n",
    "# 왜냐하면 현재 있는 타고 있는 보트 중에서 마지막에 집어넣은 보트가 가장 여유가 클 것이기 때문에 \n",
    "# 거기에 못들어가면 어차피 다른 보트에도 못 들어가요. limit보다 작다면 그 보트에 넣어주면 됩니다.\n",
    "\n",
    "def solution(people, limit):\n",
    "    answer = 0\n",
    "    new=[]\n",
    "    \n",
    "    people.sort(reverse=True)\n",
    "    for i in rnage(len(people)):\n",
    "        if people[i] >limit/2:\n",
    "            new.append(people[i])\n",
    "            answer+=1\n",
    "        elif people[i]+people[-1]<limit:\n",
    "                answer+1\n",
    "        \n",
    "         \n",
    "    return answer"
   ]
  }
 ],
 "metadata": {
  "kernelspec": {
   "display_name": "Python 3.8.9 64-bit",
   "language": "python",
   "name": "python3"
  },
  "language_info": {
   "codemirror_mode": {
    "name": "ipython",
    "version": 3
   },
   "file_extension": ".py",
   "mimetype": "text/x-python",
   "name": "python",
   "nbconvert_exporter": "python",
   "pygments_lexer": "ipython3",
   "version": "3.8.9"
  },
  "orig_nbformat": 4,
  "vscode": {
   "interpreter": {
    "hash": "31f2aee4e71d21fbe5cf8b01ff0e069b9275f58929596ceb00d14d90e3e16cd6"
   }
  }
 },
 "nbformat": 4,
 "nbformat_minor": 2
}
