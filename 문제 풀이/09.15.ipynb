{
 "cells": [
  {
   "cell_type": "code",
<<<<<<< HEAD
   "execution_count": 50,
=======
   "execution_count": 12,
>>>>>>> 8e62c3dc2f698d96af5d84b932c11ca7639fa83e
   "metadata": {},
   "outputs": [],
   "source": [
    "def solution(board, moves):\n",
    "    answer = 0\n",
<<<<<<< HEAD
    "    result=[]\n",
    "\n",
    "    for i in moves:\n",
    "        result.append(board[i-1][-1])\n",
    "        board.remove(board[i-1][-1])\n",
    "\n",
    "    for j in range(len(result)):\n",
    "        try:\n",
    "            if result[j]==result[j+1]:\n",
    "                result.pop(j)\n",
    "                result.pop(j+1)\n",
    "                answer+=2\n",
    "        except:\n",
    "            break\n",
    "        \n",
=======
    "    stack=[]\n",
    "    \n",
    "    for i in moves:\n",
    "        for j in range(len(board)):\n",
    "            if board[j][i-1]==0:\n",
    "                continue\n",
    "            else:\n",
    "                stack.append(board[j][i-1])\n",
    "                board[j][i-1]=0\n",
    "                \n",
    "                if len(stack)<2:\n",
    "                    continue\n",
    "                elif stack[-1]==stack[-2]:\n",
    "                    stack.pop()\n",
    "                    stack.pop()\n",
    "                    answer+=2\n",
    "                break\n",
    "    \n",
>>>>>>> 8e62c3dc2f698d96af5d84b932c11ca7639fa83e
    "    return answer"
   ]
  },
  {
   "cell_type": "code",
<<<<<<< HEAD
   "execution_count": 51,
   "metadata": {},
   "outputs": [
    {
     "ename": "ValueError",
     "evalue": "list.remove(x): x not in list",
     "output_type": "error",
     "traceback": [
      "\u001b[0;31m---------------------------------------------------------------------------\u001b[0m",
      "\u001b[0;31mValueError\u001b[0m                                Traceback (most recent call last)",
      "\u001b[1;32m/Users/choibowon/Desktop/Algorithm_Study/문제 풀이/09.15.ipynb 셀 2\u001b[0m in \u001b[0;36m<cell line: 4>\u001b[0;34m()\u001b[0m\n\u001b[1;32m      <a href='vscode-notebook-cell:/Users/choibowon/Desktop/Algorithm_Study/%EB%AC%B8%EC%A0%9C%20%ED%92%80%EC%9D%B4/09.15.ipynb#W1sZmlsZQ%3D%3D?line=0'>1</a>\u001b[0m board\u001b[39m=\u001b[39m[[\u001b[39m0\u001b[39m,\u001b[39m0\u001b[39m,\u001b[39m0\u001b[39m,\u001b[39m0\u001b[39m,\u001b[39m0\u001b[39m],[\u001b[39m0\u001b[39m,\u001b[39m0\u001b[39m,\u001b[39m1\u001b[39m,\u001b[39m0\u001b[39m,\u001b[39m3\u001b[39m],[\u001b[39m0\u001b[39m,\u001b[39m2\u001b[39m,\u001b[39m5\u001b[39m,\u001b[39m0\u001b[39m,\u001b[39m1\u001b[39m],[\u001b[39m4\u001b[39m,\u001b[39m2\u001b[39m,\u001b[39m4\u001b[39m,\u001b[39m4\u001b[39m,\u001b[39m2\u001b[39m],[\u001b[39m3\u001b[39m,\u001b[39m5\u001b[39m,\u001b[39m1\u001b[39m,\u001b[39m3\u001b[39m,\u001b[39m1\u001b[39m]]\t\n\u001b[1;32m      <a href='vscode-notebook-cell:/Users/choibowon/Desktop/Algorithm_Study/%EB%AC%B8%EC%A0%9C%20%ED%92%80%EC%9D%B4/09.15.ipynb#W1sZmlsZQ%3D%3D?line=1'>2</a>\u001b[0m moves\u001b[39m=\u001b[39m[\u001b[39m1\u001b[39m,\u001b[39m5\u001b[39m,\u001b[39m3\u001b[39m,\u001b[39m5\u001b[39m,\u001b[39m1\u001b[39m,\u001b[39m2\u001b[39m,\u001b[39m1\u001b[39m,\u001b[39m4\u001b[39m]\n\u001b[0;32m----> <a href='vscode-notebook-cell:/Users/choibowon/Desktop/Algorithm_Study/%EB%AC%B8%EC%A0%9C%20%ED%92%80%EC%9D%B4/09.15.ipynb#W1sZmlsZQ%3D%3D?line=3'>4</a>\u001b[0m solution(board, moves)\n",
      "\u001b[1;32m/Users/choibowon/Desktop/Algorithm_Study/문제 풀이/09.15.ipynb 셀 2\u001b[0m in \u001b[0;36msolution\u001b[0;34m(board, moves)\u001b[0m\n\u001b[1;32m      <a href='vscode-notebook-cell:/Users/choibowon/Desktop/Algorithm_Study/%EB%AC%B8%EC%A0%9C%20%ED%92%80%EC%9D%B4/09.15.ipynb#W1sZmlsZQ%3D%3D?line=4'>5</a>\u001b[0m \u001b[39mfor\u001b[39;00m i \u001b[39min\u001b[39;00m moves:\n\u001b[1;32m      <a href='vscode-notebook-cell:/Users/choibowon/Desktop/Algorithm_Study/%EB%AC%B8%EC%A0%9C%20%ED%92%80%EC%9D%B4/09.15.ipynb#W1sZmlsZQ%3D%3D?line=5'>6</a>\u001b[0m     result\u001b[39m.\u001b[39mappend(board[i\u001b[39m-\u001b[39m\u001b[39m1\u001b[39m][\u001b[39m-\u001b[39m\u001b[39m1\u001b[39m])\n\u001b[0;32m----> <a href='vscode-notebook-cell:/Users/choibowon/Desktop/Algorithm_Study/%EB%AC%B8%EC%A0%9C%20%ED%92%80%EC%9D%B4/09.15.ipynb#W1sZmlsZQ%3D%3D?line=6'>7</a>\u001b[0m     board\u001b[39m.\u001b[39;49mremove(board[i\u001b[39m-\u001b[39;49m\u001b[39m1\u001b[39;49m][\u001b[39m-\u001b[39;49m\u001b[39m1\u001b[39;49m])\n\u001b[1;32m      <a href='vscode-notebook-cell:/Users/choibowon/Desktop/Algorithm_Study/%EB%AC%B8%EC%A0%9C%20%ED%92%80%EC%9D%B4/09.15.ipynb#W1sZmlsZQ%3D%3D?line=8'>9</a>\u001b[0m \u001b[39mfor\u001b[39;00m j \u001b[39min\u001b[39;00m \u001b[39mrange\u001b[39m(\u001b[39mlen\u001b[39m(result)):\n\u001b[1;32m     <a href='vscode-notebook-cell:/Users/choibowon/Desktop/Algorithm_Study/%EB%AC%B8%EC%A0%9C%20%ED%92%80%EC%9D%B4/09.15.ipynb#W1sZmlsZQ%3D%3D?line=9'>10</a>\u001b[0m     \u001b[39mtry\u001b[39;00m:\n",
      "\u001b[0;31mValueError\u001b[0m: list.remove(x): x not in list"
     ]
    }
   ],
   "source": [
    "board=[[0,0,0,0,0],[0,0,1,0,3],[0,2,5,0,1],[4,2,4,4,2],[3,5,1,3,1]]\t\n",
    "moves=[1,5,3,5,1,2,1,4]\n",
    "\n",
    "solution(board, moves)"
   ]
  },
  {
   "cell_type": "code",
   "execution_count": 40,
   "metadata": {},
   "outputs": [
    {
     "ename": "ValueError",
     "evalue": "list.remove(x): x not in list",
     "output_type": "error",
     "traceback": [
      "\u001b[0;31m---------------------------------------------------------------------------\u001b[0m",
      "\u001b[0;31mValueError\u001b[0m                                Traceback (most recent call last)",
      "\u001b[1;32m/Users/choibowon/Desktop/Algorithm_Study/문제 풀이/09.15.ipynb 셀 3\u001b[0m in \u001b[0;36m<cell line: 1>\u001b[0;34m()\u001b[0m\n\u001b[0;32m----> <a href='vscode-notebook-cell:/Users/choibowon/Desktop/Algorithm_Study/%EB%AC%B8%EC%A0%9C%20%ED%92%80%EC%9D%B4/09.15.ipynb#W2sZmlsZQ%3D%3D?line=0'>1</a>\u001b[0m board\u001b[39m.\u001b[39;49mremove(board[\u001b[39m0\u001b[39;49m][\u001b[39m-\u001b[39;49m\u001b[39m1\u001b[39;49m])\n",
      "\u001b[0;31mValueError\u001b[0m: list.remove(x): x not in list"
     ]
    }
   ],
   "source": [
    "board.remove(board[0][-1])"
   ]
  },
  {
   "cell_type": "code",
   "execution_count": 44,
   "metadata": {},
   "outputs": [
    {
     "ename": "ValueError",
     "evalue": "list.remove(x): x not in list",
     "output_type": "error",
     "traceback": [
      "\u001b[0;31m---------------------------------------------------------------------------\u001b[0m",
      "\u001b[0;31mValueError\u001b[0m                                Traceback (most recent call last)",
      "\u001b[1;32m/Users/choibowon/Desktop/Algorithm_Study/문제 풀이/09.15.ipynb 셀 4\u001b[0m in \u001b[0;36m<cell line: 3>\u001b[0;34m()\u001b[0m\n\u001b[1;32m      <a href='vscode-notebook-cell:/Users/choibowon/Desktop/Algorithm_Study/%EB%AC%B8%EC%A0%9C%20%ED%92%80%EC%9D%B4/09.15.ipynb#W3sZmlsZQ%3D%3D?line=0'>1</a>\u001b[0m board\u001b[39m=\u001b[39m[[\u001b[39m0\u001b[39m,\u001b[39m0\u001b[39m,\u001b[39m0\u001b[39m,\u001b[39m0\u001b[39m,\u001b[39m0\u001b[39m],[\u001b[39m0\u001b[39m,\u001b[39m0\u001b[39m,\u001b[39m1\u001b[39m,\u001b[39m0\u001b[39m,\u001b[39m3\u001b[39m],[\u001b[39m0\u001b[39m,\u001b[39m2\u001b[39m,\u001b[39m5\u001b[39m,\u001b[39m0\u001b[39m,\u001b[39m1\u001b[39m],[\u001b[39m4\u001b[39m,\u001b[39m2\u001b[39m,\u001b[39m4\u001b[39m,\u001b[39m4\u001b[39m,\u001b[39m2\u001b[39m],[\u001b[39m3\u001b[39m,\u001b[39m5\u001b[39m,\u001b[39m1\u001b[39m,\u001b[39m3\u001b[39m,\u001b[39m1\u001b[39m]]\t\n\u001b[0;32m----> <a href='vscode-notebook-cell:/Users/choibowon/Desktop/Algorithm_Study/%EB%AC%B8%EC%A0%9C%20%ED%92%80%EC%9D%B4/09.15.ipynb#W3sZmlsZQ%3D%3D?line=2'>3</a>\u001b[0m board\u001b[39m.\u001b[39;49mremove(board[\u001b[39m0\u001b[39;49m][\u001b[39m-\u001b[39;49m\u001b[39m1\u001b[39;49m])\n",
      "\u001b[0;31mValueError\u001b[0m: list.remove(x): x not in list"
     ]
    }
   ],
   "source": [
    "board=[[0,0,0,0,0],[0,0,1,0,3],[0,2,5,0,1],[4,2,4,4,2],[3,5,1,3,1]]\t\n",
    "\n",
    "board.remove(board[0][-1])"
   ]
  },
  {
   "cell_type": "code",
   "execution_count": 45,
=======
   "execution_count": 13,
>>>>>>> 8e62c3dc2f698d96af5d84b932c11ca7639fa83e
   "metadata": {},
   "outputs": [
    {
     "data": {
      "text/plain": [
<<<<<<< HEAD
       "[1, 2]"
      ]
     },
     "execution_count": 45,
=======
       "4"
      ]
     },
     "execution_count": 13,
>>>>>>> 8e62c3dc2f698d96af5d84b932c11ca7639fa83e
     "metadata": {},
     "output_type": "execute_result"
    }
   ],
   "source": [
<<<<<<< HEAD
    "list=[1,2,3]\n",
    "list.pop()\n",
    "list"
=======
    "    board=[[0,0,0,0,0], # [0][]\n",
    "           [0,0,1,0,3], # [1][]\n",
    "           [0,2,5,0,1], # [2][]\n",
    "           [4,2,4,4,2], # [3][]\n",
    "           [3,5,1,3,1]]\t# [4][]\n",
    "    moves=[1,5,3,5,1,2,1,4]\n",
    "\n",
    "    solution(board,moves)"
>>>>>>> 8e62c3dc2f698d96af5d84b932c11ca7639fa83e
   ]
  },
  {
   "cell_type": "code",
   "execution_count": null,
   "metadata": {},
   "outputs": [],
   "source": []
  }
 ],
 "metadata": {
  "kernelspec": {
<<<<<<< HEAD
   "display_name": "Python 3.10.4 ('study')",
=======
   "display_name": "Python 3.9.2 64-bit",
>>>>>>> 8e62c3dc2f698d96af5d84b932c11ca7639fa83e
   "language": "python",
   "name": "python3"
  },
  "language_info": {
   "codemirror_mode": {
    "name": "ipython",
    "version": 3
   },
   "file_extension": ".py",
   "mimetype": "text/x-python",
   "name": "python",
   "nbconvert_exporter": "python",
   "pygments_lexer": "ipython3",
<<<<<<< HEAD
   "version": "3.10.4"
=======
   "version": "3.9.2"
>>>>>>> 8e62c3dc2f698d96af5d84b932c11ca7639fa83e
  },
  "orig_nbformat": 4,
  "vscode": {
   "interpreter": {
<<<<<<< HEAD
    "hash": "6d3adedfb80ee571769eb11502afa6f60a6eb52bcaed4a1ba6c74a4ec7405124"
=======
    "hash": "52634da84371cba311ea128a5ea7cdc41ff074b781779e754b270ff9f8153cee"
>>>>>>> 8e62c3dc2f698d96af5d84b932c11ca7639fa83e
   }
  }
 },
 "nbformat": 4,
 "nbformat_minor": 2
}
