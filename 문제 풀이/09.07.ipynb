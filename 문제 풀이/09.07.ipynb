{
 "cells": [
  {
   "cell_type": "code",
   "execution_count": 1,
   "metadata": {},
   "outputs": [],
   "source": [
    "def solution(sizes):\n",
    "    answer = 0\n",
    "    \n",
    "    sizes=[[60, 50], [30, 70], [60, 30], [80, 40]]\n",
    "    result=[]\n",
    "    \n",
    "    sizes.sort()\n",
    "    sizes\n",
    "    \n",
    "    return answer"
   ]
  },
  {
   "cell_type": "code",
   "execution_count": 4,
   "metadata": {},
   "outputs": [
    {
     "data": {
      "text/plain": [
       "[[1, 3], [2, 5], [4, 6], [23, 2]]"
      ]
     },
     "execution_count": 4,
     "metadata": {},
     "output_type": "execute_result"
    }
   ],
   "source": [
    "size=[[1,3],[23,2],[2,5],[4,6]]\n",
    "size.sort()\n",
    "size\n"
   ]
  },
  {
   "cell_type": "code",
   "execution_count": 22,
   "metadata": {},
   "outputs": [],
   "source": [
    "def solution(sizes):\n",
    "    answer = 0\n",
    "\n",
    "    for i in range(len(sizes)):\n",
    "        sizes[i].sort()\n",
    "\n",
    "\n",
    "    return sizes"
   ]
  },
  {
   "cell_type": "code",
   "execution_count": 33,
   "metadata": {},
   "outputs": [
    {
     "name": "stdout",
     "output_type": "stream",
     "text": [
      "[[50, 60], [30, 70], [30, 60], [40, 80]]\n"
     ]
    }
   ],
   "source": [
    "w=0\n",
    "h=0\n",
    "\n",
    "sizes=[[60, 50], [30, 70], [60, 30], [80, 40]]\n",
    "for i in range(len(sizes)):\n",
    "    sizes[i].sort()\n",
    "\n",
    "if\n"
   ]
  },
  {
   "cell_type": "markdown",
   "metadata": {},
   "source": [
    "- Normal Mode\n",
    "### Lv.1 폰켓몬\n",
    "https://school.programmers.co.kr/learn/courses/30/lessons/1845"
   ]
  },
  {
   "cell_type": "code",
   "execution_count": 65,
   "metadata": {},
   "outputs": [],
   "source": [
    "def solution(nums):\n",
    "    answer = 0\n",
    "    nums1=nums\n",
    "    type=len(set(nums))\n",
    "    \n",
    "    if type<=len(nums1)/2:\n",
    "        answer=type\n",
    "    else:\n",
    "        answer=len(nums1)//2\n",
    "        \n",
    "    return answer"
   ]
  },
  {
   "cell_type": "markdown",
   "metadata": {},
   "source": [
    "### 풀이"
   ]
  },
  {
   "cell_type": "code",
   "execution_count": null,
   "metadata": {},
   "outputs": [],
   "source": [
    "def solution(nums):\n",
    "    answer=0\n",
    "    # 포켓몬 반만 가져가라\n",
    "    max_poketmon=len(nums)/2\n",
    "    # 종류가 얼마나 다양한지\n",
    "    unique_poketmon=set(nums)\n",
    "    unique_len=len(unique_poketmon)\n",
    "\n",
    "    # 최대한 다양한 종류의 포켓몬\n",
    "    if max_poketmon>unique_len:\n",
    "        # 내가 가져갈 때 최대 포켓몬 종류 수는,\n",
    "        # 유니크한 포켓몬 종류 수\n",
    "        answer= unique_len\n",
    "    else:\n",
    "        # 포켓몬 종류 수가 더 많으면,\n",
    "        # 내가 가져갈 수 있는 포켓몬 종류는 최대,\n",
    "        # 반만 가져감\n",
    "        answer= max_poketmon\n",
    "\n",
    "        return answer"
   ]
  },
  {
   "cell_type": "markdown",
   "metadata": {},
   "source": [
    "* Easy Mode\n",
    "### 반복문 연습\n",
    "Lv.1 직사각형 별찍기\n",
    "https://school.programmers.co.kr/learn/courses/30/lessons/12969"
   ]
  },
  {
   "cell_type": "code",
   "execution_count": 64,
   "metadata": {},
   "outputs": [
    {
     "name": "stdout",
     "output_type": "stream",
     "text": [
      "**\n",
      "**\n",
      "**\n"
     ]
    }
   ],
   "source": [
    "a, b = map(int, input().strip().split(' '))\n",
    "for i in range(b):\n",
    "    for i in range(a):\n",
    "        print('*',end='')\n",
    "    print()"
   ]
  },
  {
   "cell_type": "markdown",
   "metadata": {},
   "source": [
    "* Hard Mode\n",
    "### Lv.2 오픈채팅방\n",
    "https://school.programmers.co.kr/learn/courses/30/lessons/42888"
   ]
  },
  {
   "cell_type": "code",
   "execution_count": null,
   "metadata": {},
   "outputs": [],
   "source": []
  },
  {
   "cell_type": "markdown",
   "metadata": {},
   "source": [
    "* 폰켓몬을 이미 푸신 알고리즘 스터디 멤버들을 위한 문제\n",
    "### Lv.1 숫자 문자열과 영단어\n",
    "https://school.programmers.co.kr/learn/courses/30/lessons/81301"
   ]
  },
  {
   "cell_type": "code",
   "execution_count": 109,
   "metadata": {},
   "outputs": [],
   "source": [
    "def solution(s):\n",
    "    answer = []\n",
    "    dict={'one':'1','two':'2','three':'3','four':'4','five':'5','six':'6','seven':'7','eight':'8','nine':'9','zero':'0'}\n",
    "\n",
    "    for i in dict.items():\n",
    "        for j in i:\n",
    "            if j in s:\n",
    "                j=j.replace(j,dict[j])\n",
    "\n",
    "    full=''\n",
    "    for i in answer:\n",
    "        full+=i\n",
    "        \n",
    "    return int(full)"
   ]
  },
  {
   "cell_type": "code",
   "execution_count": 110,
   "metadata": {},
   "outputs": [
    {
     "ename": "KeyError",
     "evalue": "('one', '1')",
     "output_type": "error",
     "traceback": [
      "\u001b[0;31m---------------------------------------------------------------------------\u001b[0m",
      "\u001b[0;31mKeyError\u001b[0m                                  Traceback (most recent call last)",
      "\u001b[1;32m/Users/choibowon/Desktop/Algorithm_Study/Week3_test_2.ipynb 셀 15\u001b[0m in \u001b[0;36m<cell line: 3>\u001b[0;34m()\u001b[0m\n\u001b[1;32m      <a href='vscode-notebook-cell:/Users/choibowon/Desktop/Algorithm_Study/Week3_test_2.ipynb#X20sZmlsZQ%3D%3D?line=0'>1</a>\u001b[0m s\u001b[39m=\u001b[39m\u001b[39m\"\u001b[39m\u001b[39m123\u001b[39m\u001b[39m\"\u001b[39m\n\u001b[0;32m----> <a href='vscode-notebook-cell:/Users/choibowon/Desktop/Algorithm_Study/Week3_test_2.ipynb#X20sZmlsZQ%3D%3D?line=2'>3</a>\u001b[0m solution(s)\n",
      "\u001b[1;32m/Users/choibowon/Desktop/Algorithm_Study/Week3_test_2.ipynb 셀 15\u001b[0m in \u001b[0;36msolution\u001b[0;34m(s)\u001b[0m\n\u001b[1;32m      <a href='vscode-notebook-cell:/Users/choibowon/Desktop/Algorithm_Study/Week3_test_2.ipynb#X20sZmlsZQ%3D%3D?line=5'>6</a>\u001b[0m     \u001b[39mfor\u001b[39;00m j \u001b[39min\u001b[39;00m i:\n\u001b[1;32m      <a href='vscode-notebook-cell:/Users/choibowon/Desktop/Algorithm_Study/Week3_test_2.ipynb#X20sZmlsZQ%3D%3D?line=6'>7</a>\u001b[0m         \u001b[39mif\u001b[39;00m j \u001b[39min\u001b[39;00m s:\n\u001b[0;32m----> <a href='vscode-notebook-cell:/Users/choibowon/Desktop/Algorithm_Study/Week3_test_2.ipynb#X20sZmlsZQ%3D%3D?line=7'>8</a>\u001b[0m             answer\u001b[39m.\u001b[39mappend(j\u001b[39m.\u001b[39mreplace(\u001b[39mdict\u001b[39;49m[i]))\n\u001b[1;32m     <a href='vscode-notebook-cell:/Users/choibowon/Desktop/Algorithm_Study/Week3_test_2.ipynb#X20sZmlsZQ%3D%3D?line=9'>10</a>\u001b[0m full\u001b[39m=\u001b[39m\u001b[39m'\u001b[39m\u001b[39m'\u001b[39m\n\u001b[1;32m     <a href='vscode-notebook-cell:/Users/choibowon/Desktop/Algorithm_Study/Week3_test_2.ipynb#X20sZmlsZQ%3D%3D?line=10'>11</a>\u001b[0m \u001b[39mfor\u001b[39;00m i \u001b[39min\u001b[39;00m answer:\n",
      "\u001b[0;31mKeyError\u001b[0m: ('one', '1')"
     ]
    }
   ],
   "source": [
    "s=\"123\"\n",
    "\n",
    "solution(s)"
   ]
  },
  {
   "cell_type": "code",
   "execution_count": 81,
   "metadata": {},
   "outputs": [
    {
     "name": "stdout",
     "output_type": "stream",
     "text": [
      "('zero', 0)\n",
      "('one', 1)\n",
      "('two', 2)\n",
      "('three', 3)\n",
      "('four', 4)\n",
      "('five', 5)\n",
      "('six', 6)\n",
      "('seven', 7)\n",
      "('eight', 8)\n",
      "('nine', 9)\n"
     ]
    }
   ],
   "source": [
    "dict={'zero':0,'one':1,'two':2,'three':3,'four':4,'five':5,'six':6,'seven':7,'eight':8,'nine':9}\n",
    "\n",
    "for i in dict.items():\n",
    "    print(i)"
   ]
  },
  {
   "cell_type": "code",
   "execution_count": 116,
   "metadata": {},
   "outputs": [],
   "source": [
    "a='hello'\n",
    "\n",
    "a=a.replace('he','me')"
   ]
  },
  {
   "cell_type": "code",
   "execution_count": 117,
   "metadata": {},
   "outputs": [
    {
     "data": {
      "text/plain": [
       "'mello'"
      ]
     },
     "execution_count": 117,
     "metadata": {},
     "output_type": "execute_result"
    }
   ],
   "source": [
    "a"
   ]
  },
  {
   "cell_type": "code",
   "execution_count": null,
   "metadata": {},
   "outputs": [],
   "source": []
  }
 ],
 "metadata": {
  "kernelspec": {
   "display_name": "Python 3.10.4 ('study')",
   "language": "python",
   "name": "python3"
  },
  "language_info": {
   "codemirror_mode": {
    "name": "ipython",
    "version": 3
   },
   "file_extension": ".py",
   "mimetype": "text/x-python",
   "name": "python",
   "nbconvert_exporter": "python",
   "pygments_lexer": "ipython3",
   "version": "3.10.4"
  },
  "orig_nbformat": 4,
  "vscode": {
   "interpreter": {
    "hash": "6d3adedfb80ee571769eb11502afa6f60a6eb52bcaed4a1ba6c74a4ec7405124"
   }
  }
 },
 "nbformat": 4,
 "nbformat_minor": 2
}
