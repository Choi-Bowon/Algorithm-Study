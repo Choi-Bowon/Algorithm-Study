{
 "cells": [
  {
   "cell_type": "markdown",
   "metadata": {},
   "source": [
    "##### 9. PPAP (백준 - 16120번)\n",
    "- https://www.acmicpc.net/problem/16120"
   ]
  },
  {
   "cell_type": "code",
   "execution_count": null,
   "metadata": {},
   "outputs": [],
   "source": [
    "import sys\n",
    "\n",
    "c = sys.stdin.readline()\n",
    "stack = []\n",
    "# 주어진 문자열이 P이거나 PPAP이면 PPAP 출력\n",
    "if c == \"P\" or c == \"PPAP\":\n",
    "    print(\"PPAP\")\n",
    "else:\n",
    "    # 문자열을 반복하여 문자를 확인\n",
    "    for i in c:\n",
    "        # 문자를 스택에 추가\n",
    "        stack.append(i)\n",
    "        \n",
    "        # 스택 리스트 뒤에서 4번째까지 문자가 [\"P\", \"P\", \"A\", \"P\"]일 경우 \n",
    "        # 첫 번째 P만 남기고 팝한다.\n",
    "        if stack[-4:] == [\"P\", \"P\", \"A\", \"P\"]:\n",
    "            stack.pop()\n",
    "            stack.pop()\n",
    "            stack.pop()\n",
    "    # 스택 리스트에 [\"P\", \"\\n\"]가 있으면 모든 PPAP를 P로 바꿔준 것으로 PPAP 출력 \n",
    "    if stack == [\"P\", \"\\n\"]:\n",
    "        print(\"PPAP\")\n",
    "        \n",
    "    # 그게 아니라면 PPAP가 아니므로 NP 출력\n",
    "    else:\n",
    "        print(\"NP\")"
   ]
  },
  {
   "cell_type": "markdown",
   "metadata": {},
   "source": [
    "### PPAP 문제 다시 보기!"
   ]
  }
 ],
 "metadata": {
  "kernelspec": {
   "display_name": "Python 3.8.9 64-bit",
   "language": "python",
   "name": "python3"
  },
  "language_info": {
   "name": "python",
   "version": "3.8.9"
  },
  "orig_nbformat": 4,
  "vscode": {
   "interpreter": {
    "hash": "31f2aee4e71d21fbe5cf8b01ff0e069b9275f58929596ceb00d14d90e3e16cd6"
   }
  }
 },
 "nbformat": 4,
 "nbformat_minor": 2
}
