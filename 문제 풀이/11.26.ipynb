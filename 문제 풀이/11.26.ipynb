{
 "cells": [
  {
   "cell_type": "markdown",
   "metadata": {},
   "source": [
    "##### 1."
   ]
  },
  {
   "cell_type": "code",
   "execution_count": 4,
   "metadata": {},
   "outputs": [
    {
     "name": "stdout",
     "output_type": "stream",
     "text": [
      "0\n"
     ]
    }
   ],
   "source": [
    "s=input()\n",
    "reversed_s = \"\".join(reversed(s))\n",
    "if s==reversed_s:\n",
    "    print(1)\n",
    "else:\n",
    "    print(0)"
   ]
  },
  {
   "cell_type": "markdown",
   "metadata": {},
   "source": [
    "##### 2."
   ]
  },
  {
   "cell_type": "code",
   "execution_count": 9,
   "metadata": {},
   "outputs": [
    {
     "name": "stdout",
     "output_type": "stream",
     "text": [
      "4\n"
     ]
    }
   ],
   "source": [
    "import sys\n",
    "\n",
    "input = sys.stdin.readline\n",
    "\n",
    "n = int(input())\n",
    "stack = []\n",
    "\n",
    "for _ in range(n):\n",
    "    stack.append(int(input()))\n",
    "\n",
    "last = stack[-1]\n",
    "cnt = 1\n",
    "\n",
    "for i in reversed(range(n)):\n",
    "    if stack[i] > last:\n",
    "        cnt += 1\n",
    "        last = stack[i]\n",
    "\n",
    "print(cnt)"
   ]
  },
  {
   "cell_type": "markdown",
   "metadata": {},
   "source": [
    "##### 3."
   ]
  },
  {
   "cell_type": "code",
   "execution_count": 20,
   "metadata": {},
   "outputs": [
    {
     "name": "stdout",
     "output_type": "stream",
     "text": [
      "3\n"
     ]
    }
   ],
   "source": [
    "nums=[str(i) for i in range(10)]\n",
    "nums.append('6')\n",
    "nums.append('9')\n",
    "s=input()\n",
    "origin=1\n",
    "for i in s:\n",
    "    if i in nums:\n",
    "        nums.remove(i)\n",
    "    else:\n",
    "        origin+=1\n",
    "print(origin)"
   ]
  },
  {
   "cell_type": "code",
   "execution_count": 21,
   "metadata": {},
   "outputs": [
    {
     "name": "stdout",
     "output_type": "stream",
     "text": [
      "2\n"
     ]
    }
   ],
   "source": [
    "s = input()\n",
    "ans = [0] * 10\n",
    "for i in range(len(s)):\n",
    "    num = int(s[i])\n",
    "    if num == 6 or num == 9:\n",
    "        if ans[6] <= ans[9]:\n",
    "            ans[6] += 1\n",
    "        else:\n",
    "            ans[9] += 1\n",
    "    else:\n",
    "        ans[num] += 1\n",
    " \n",
    "print(max(ans))"
   ]
  },
  {
   "cell_type": "markdown",
   "metadata": {},
   "source": [
    "##### 4. 좋은 단어 (백준 - 3986번)\n",
    "- https://www.acmicpc.net/problem/3986"
   ]
  },
  {
   "cell_type": "code",
   "execution_count": null,
   "metadata": {},
   "outputs": [],
   "source": []
  }
 ],
 "metadata": {
  "kernelspec": {
   "display_name": "Python 3.10.4 ('study')",
   "language": "python",
   "name": "python3"
  },
  "language_info": {
   "codemirror_mode": {
    "name": "ipython",
    "version": 3
   },
   "file_extension": ".py",
   "mimetype": "text/x-python",
   "name": "python",
   "nbconvert_exporter": "python",
   "pygments_lexer": "ipython3",
   "version": "3.10.4"
  },
  "orig_nbformat": 4,
  "vscode": {
   "interpreter": {
    "hash": "6d3adedfb80ee571769eb11502afa6f60a6eb52bcaed4a1ba6c74a4ec7405124"
   }
  }
 },
 "nbformat": 4,
 "nbformat_minor": 2
}
