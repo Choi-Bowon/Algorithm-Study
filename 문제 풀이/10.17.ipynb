{
 "cells": [
  {
   "cell_type": "markdown",
   "metadata": {},
   "source": [
    "### 1. OX퀴즈 (Lv.0 코딩테스트 입문)\n",
    "- https://school.programmers.co.kr/learn/courses/30/lessons/120907"
   ]
  },
  {
   "cell_type": "code",
   "execution_count": 1,
   "metadata": {},
   "outputs": [],
   "source": [
    "def solution(quiz):\n",
    "    answer = []\n",
    "    \n",
    "    for sik in quiz:\n",
    "        left, right=sik.split('=')\n",
    "        left=left.split()\n",
    "        if left[1]=='-' and (int(left[0])-int(left[-1])==int(right)):\n",
    "            answer.append('O')\n",
    "        elif left[1]=='+' and (int(left[0])+int(left[-1])==int(right)):\n",
    "            answer.append('O')\n",
    "        else:\n",
    "            answer.append('X')        \n",
    "\n",
    "    return answer"
   ]
  },
  {
   "cell_type": "markdown",
   "metadata": {},
   "source": [
    "### 2. 옹알이 (Lv.0 코딩테스트 입문)\n",
    "- https://school.programmers.co.kr/learn/courses/30/lessons/120956"
   ]
  },
  {
   "cell_type": "code",
   "execution_count": 2,
   "metadata": {},
   "outputs": [],
   "source": [
    "def solution(babbling):\n",
    "    answer = 0\n",
    "    can=[\"aya\", \"ye\", \"woo\",\"ma\"]\n",
    "\n",
    "    for i in babbling:\n",
    "        for j in can:\n",
    "            if j * 2 not in i: # 연속된 발음 제외\n",
    "                i = i.replace(j, ' ')\n",
    "        if len(i.strip()) == 0:\n",
    "            answer += 1\n",
    "    \n",
    "    return answer"
   ]
  },
  {
   "cell_type": "code",
   "execution_count": null,
   "metadata": {},
   "outputs": [],
   "source": []
  }
 ],
 "metadata": {
  "kernelspec": {
   "display_name": "Python 3.8.9 64-bit",
   "language": "python",
   "name": "python3"
  },
  "language_info": {
   "codemirror_mode": {
    "name": "ipython",
    "version": 3
   },
   "file_extension": ".py",
   "mimetype": "text/x-python",
   "name": "python",
   "nbconvert_exporter": "python",
   "pygments_lexer": "ipython3",
   "version": "3.8.9"
  },
  "orig_nbformat": 4,
  "vscode": {
   "interpreter": {
    "hash": "31f2aee4e71d21fbe5cf8b01ff0e069b9275f58929596ceb00d14d90e3e16cd6"
   }
  }
 },
 "nbformat": 4,
 "nbformat_minor": 2
}
