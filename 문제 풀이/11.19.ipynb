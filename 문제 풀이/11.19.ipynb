{
 "cells": [
  {
   "cell_type": "markdown",
   "metadata": {},
   "source": [
    "##### 1. 인덱스 바꾸기 (Lv.0 코딩테스트입문)\n",
    "- https://school.programmers.co.kr/learn/courses/30/lessons/120895"
   ]
  },
  {
   "cell_type": "code",
   "execution_count": 33,
   "metadata": {},
   "outputs": [
    {
     "data": {
      "text/plain": [
       "'hlelo'"
      ]
     },
     "execution_count": 33,
     "metadata": {},
     "output_type": "execute_result"
    }
   ],
   "source": [
    "def solution(my_string, num1, num2):\n",
    "    answer=''\n",
    "    my_string=list(my_string)\n",
    "    my_string[num1],my_string[num2]=my_string[num2],my_string[num1]\n",
    "    for i in my_string:\n",
    "        answer+=i\n",
    "    return answer\n",
    "\n",
    "my_string='hello'\n",
    "num1=1\n",
    "num2=2\n",
    "solution(my_string, num1, num2)"
   ]
  },
  {
   "cell_type": "code",
   "execution_count": 37,
   "metadata": {},
   "outputs": [
    {
     "data": {
      "text/plain": [
       "['I', ' ', 'l', ' ', 'v', 'e', 'o', 'y', 'o', 'u']"
      ]
     },
     "execution_count": 37,
     "metadata": {},
     "output_type": "execute_result"
    }
   ],
   "source": [
    "my_string='I love you'\n",
    "my_string=list(my_string)\n",
    "my_string[3],my_string[6]=my_string[6],my_string[3]\n",
    "my_string\n"
   ]
  },
  {
   "cell_type": "code",
   "execution_count": null,
   "metadata": {},
   "outputs": [],
   "source": []
  }
 ],
 "metadata": {
  "kernelspec": {
   "display_name": "Python 3.8.9 64-bit",
   "language": "python",
   "name": "python3"
  },
  "language_info": {
   "codemirror_mode": {
    "name": "ipython",
    "version": 3
   },
   "file_extension": ".py",
   "mimetype": "text/x-python",
   "name": "python",
   "nbconvert_exporter": "python",
   "pygments_lexer": "ipython3",
   "version": "3.8.9"
  },
  "orig_nbformat": 4,
  "vscode": {
   "interpreter": {
    "hash": "31f2aee4e71d21fbe5cf8b01ff0e069b9275f58929596ceb00d14d90e3e16cd6"
   }
  }
 },
 "nbformat": 4,
 "nbformat_minor": 2
}
