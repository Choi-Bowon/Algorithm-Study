{
 "cells": [
  {
   "cell_type": "markdown",
   "metadata": {},
   "source": [
    "##### 1. 벌집 (백준 - 2292번)\n",
    "- https://www.acmicpc.net/problem/2292"
   ]
  },
  {
   "cell_type": "code",
   "execution_count": 6,
   "metadata": {},
   "outputs": [
    {
     "name": "stdout",
     "output_type": "stream",
     "text": [
      "3\n"
     ]
    }
   ],
   "source": [
    "# 1 -> 7 -> 19 -> 37 -> 48\n",
    "#   6    12     18\n",
    "# 1  1+6*1 1+6*1+6*2 1+1+6*1+6*2+6*3\n",
    "cnt=1\n",
    "zip = 1\n",
    "n=int(input())\n",
    "while n > zip :\n",
    "    zip+=6*cnt\n",
    "    cnt+=1\n",
    "print(cnt)\n"
   ]
  },
  {
   "cell_type": "markdown",
   "metadata": {},
   "source": [
    "##### 2. 슈퍼 마리오 (백준 - 2851번)\n",
    "- https://www.acmicpc.net/problem/2851"
   ]
  },
  {
   "cell_type": "code",
   "execution_count": 27,
   "metadata": {},
   "outputs": [
    {
     "name": "stdout",
     "output_type": "stream",
     "text": [
      "100\n"
     ]
    }
   ],
   "source": [
    "# 10개의 버섯\n",
    "# 순서대로 집고 중단 가능\n",
    "# 중단 후 다시 먹는 거 불가\n",
    "nums=[]\n",
    "for i in range(10):\n",
    "    nums.append(int(input()))\n",
    "\n",
    "cha=100\n",
    "sum=0\n",
    "for i in nums:\n",
    "    sum+=i\n",
    "    if sum==100:\n",
    "        break\n",
    "    else:\n",
    "        if abs(100-sum)<=cha:\n",
    "            cha=abs(100-sum)\n",
    "        else:\n",
    "            sum-=i\n",
    "            break\n",
    "\n",
    "print(sum)"
   ]
  },
  {
   "cell_type": "markdown",
   "metadata": {},
   "source": [
    "##### 3. 제로 (백준 - 10773번)\n",
    "- https://www.acmicpc.net/problem/10773"
   ]
  },
  {
   "cell_type": "code",
   "execution_count": 44,
   "metadata": {},
   "outputs": [
    {
     "name": "stdout",
     "output_type": "stream",
     "text": [
      "0\n"
     ]
    }
   ],
   "source": [
    "import sys\n",
    "input=sys.stdin.readline\n",
    "\n",
    "k=int(input())\n",
    "result=[]\n",
    "sum=0\n",
    "for i in range(k):\n",
    "    n=int(input())\n",
    "    try:\n",
    "        if n==0:\n",
    "            result.pop()\n",
    "        else:\n",
    "            result.append(n)\n",
    "    except:\n",
    "        pass\n",
    "\n",
    "for i in result:\n",
    "    sum+=i\n",
    "print(sum)"
   ]
  },
  {
   "cell_type": "markdown",
   "metadata": {},
   "source": [
    "##### 4. ATM (백준 - 11399번)\n",
    "- https://www.acmicpc.net/problem/11399"
   ]
  },
  {
   "cell_type": "code",
   "execution_count": 53,
   "metadata": {},
   "outputs": [
    {
     "name": "stdout",
     "output_type": "stream",
     "text": [
      "32\n"
     ]
    }
   ],
   "source": [
    "n=int(input())\n",
    "p=list(map(int,input().split()))\n",
    "sum=0\n",
    "result=0\n",
    "for i in sorted(p):\n",
    "    sum+=i\n",
    "    result+=sum\n",
    "print(result)"
   ]
  },
  {
   "cell_type": "markdown",
   "metadata": {},
   "source": [
    "##### 5. 무한 문자열 (백준 - 12871번)\n",
    "- https://www.acmicpc.net/problem/12871"
   ]
  },
  {
   "cell_type": "code",
   "execution_count": 62,
   "metadata": {},
   "outputs": [
    {
     "name": "stdout",
     "output_type": "stream",
     "text": [
      "0\n"
     ]
    }
   ],
   "source": [
    "s = input()\n",
    "t = input()\n",
    "\n",
    "for i in range(len(s) * len(t)):\n",
    "    if s[i % len(s)] != t[i % len(t)]:\n",
    "        print(0)\n",
    "        break\n",
    "else:\n",
    "    print(1)"
   ]
  },
  {
   "cell_type": "code",
   "execution_count": null,
   "metadata": {},
   "outputs": [],
   "source": [
    "# 길이가 짧은 문자열을 약 500회 이하로 붙여서\n",
    "# 길이가 긴 문자열과 같아지는 순간이 생긴다면, True\n",
    "# 없다면, False\n"
   ]
  },
  {
   "cell_type": "markdown",
   "metadata": {},
   "source": [
    "##### 6. 구간 합 구하기 4 (백준 - 11659번)\n",
    "- https://www.acmicpc.net/problem/11659"
   ]
  },
  {
   "cell_type": "code",
   "execution_count": 71,
   "metadata": {},
   "outputs": [
    {
     "name": "stdout",
     "output_type": "stream",
     "text": [
      "12\n",
      "9\n",
      "1\n"
     ]
    }
   ],
   "source": [
    "# 누적합 이용해서 푸는 문제 -> 시간초과 오지게 남\n",
    "import sys\n",
    "input=sys.stdin.readline\n",
    "\n",
    "n, m=map(int,input().split())\n",
    "nums=list(map(int,input().split()))\n",
    "sum=[0]\n",
    "total=0\n",
    "for _ in nums:\n",
    "    total+=_\n",
    "    sum.append(total)\n",
    "\n",
    "for _ in range(m):\n",
    "    i, j = map(int,input().split())\n",
    "    print(sum[j]-sum[i-1])"
   ]
  },
  {
   "cell_type": "markdown",
   "metadata": {},
   "source": [
    "##### 7. 빗물 (백준 - 14719번)\n",
    "- https://www.acmicpc.net/problem/14719"
   ]
  },
  {
   "cell_type": "code",
   "execution_count": 85,
   "metadata": {},
   "outputs": [
    {
     "name": "stdout",
     "output_type": "stream",
     "text": [
      "8\n"
     ]
    }
   ],
   "source": [
    "# 2020 NHN 코딩테스트 문제\n",
    "# 구현, 시뮬레이션\n",
    "\n",
    "h, w = map(int, input().split())\n",
    "blocks=list(map(int,input().split()))\n",
    "\n",
    "ans = 0\n",
    "for i in range(1, w - 1):\n",
    "    # 좌우 최대값을 지정하는 것까진 생각함\n",
    "    # 슬라이싱 사용하는 거 생각 못 함\n",
    "    left_max = max(blocks[:i])\n",
    "    right_max = max(blocks[i+1:])\n",
    "\n",
    "    compare = min(left_max, right_max)\n",
    "\n",
    "    if blocks[i] < compare:\n",
    "        ans += compare - blocks[i]\n",
    "\n",
    "print(ans)"
   ]
  },
  {
   "cell_type": "markdown",
   "metadata": {},
   "source": [
    "##### 8. 문자열 폭발 (백준 - 9935번)\n",
    "- https://www.acmicpc.net/problem/9935"
   ]
  },
  {
   "cell_type": "code",
   "execution_count": 87,
   "metadata": {},
   "outputs": [
    {
     "name": "stdout",
     "output_type": "stream",
     "text": [
      "FRULA\n"
     ]
    }
   ],
   "source": [
    "# 틀린 답안\n",
    "s=input()\n",
    "b=input()\n",
    "\n",
    "while b in s:\n",
    "    s=s.replace(b,'',1)\n",
    "\n",
    "if s=='':\n",
    "    print('FRULA')\n",
    "else:\n",
    "    print(s)"
   ]
  },
  {
   "cell_type": "code",
   "execution_count": 90,
   "metadata": {},
   "outputs": [
    {
     "name": "stdout",
     "output_type": "stream",
     "text": [
      "FRULA\n"
     ]
    }
   ],
   "source": [
    "# 수정 답안\n",
    "s=input()\n",
    "b=input()\n",
    "\n",
    "stack=[]\n",
    "len_b=len(b)\n",
    "\n",
    "for i in range(len(s)):\n",
    "    stack.append(s[i])\n",
    "    if ''.join(stack[-len_b:]) == b:\n",
    "        for _ in range(len_b):\n",
    "            stack.pop()\n",
    "\n",
    "if stack:\n",
    "    print(''.join(stack))\n",
    "else:\n",
    "    print('FRULA')\n"
   ]
  },
  {
   "cell_type": "markdown",
   "metadata": {},
   "source": [
    "##### 9. 바이러스 (2606번)\n",
    "- https://www.acmicpc.net/problem/2606"
   ]
  },
  {
   "cell_type": "code",
   "execution_count": null,
   "metadata": {},
   "outputs": [],
   "source": [
    "# DFS\n",
    "n=int(input()) # 컴퓨터 개수\n",
    "v=int(input()) # 연결선 개수\n",
    "\n",
    "graph = [[] for i in range(n+1)] # 그래프 초기화\n",
    "visited=[0]*(n+1) # 방문한 컴퓨터인지 표시\n",
    "\n",
    "for i in range(v): # 그래프 생성\n",
    "    a,b=map(int,input().split())\n",
    "    graph[a]+=[b] # a에 b 연결\n",
    "    graph[b]+=[a] # b에 a 연결 -> 양방향\n",
    "\n",
    "def dfs(v):\n",
    "    visited[v]=1\n",
    "    for nx in graph[v]:\n",
    "        if visited[nx]==0:\n",
    "            dfs(nx)\n",
    "dfs(1)\n",
    "print(sum(visited)-1)"
   ]
  },
  {
   "cell_type": "code",
   "execution_count": null,
   "metadata": {},
   "outputs": [],
   "source": [
    "#include <bits/stdc++.h>\n",
    "\n",
    "using namespace std;\n",
    "\n",
    "// 해당 정점까지의 거리를 기록하는 배열\n",
    "int dist[11];\n",
    "\n",
    "// 그래프를 표현하는 벡터\n",
    "vector<int> v[10];\n",
    "int main(){\n",
    "    // 그래프 모델링\n",
    "    v[1].push_back(4);\n",
    "    v[4].push_back(1);\n",
    "    v[4].push_back(5);\n",
    "    v[5].push_back(4);\n",
    "    v[4].push_back(2);\n",
    "    v[2].push_back(4);\n",
    "    v[2].push_back(3);\n",
    "    v[3].push_back(2);\n",
    "    v[6].push_back(7);\n",
    "    v[7].push_back(6);\n",
    "    \n",
    "    // 기본값으로 -1로 초기화\n",
    "    for(int i=1; i<=10; i++){\n",
    "        dist[i] = -1;\n",
    "    }\n",
    "    \n",
    "    // 큐에 시작점 정점을 삽입\n",
    "    queue<int> q;\n",
    "    q.push(1);\n",
    "    \n",
    "    // 1번부터 시작하니 시작점은 거리가 0이라 기록.\n",
    "    dist[1] = 0;\n",
    "    while(q.size()){\n",
    "        // 내가 지금 보고있는 정점\n",
    "        int here = q.front();\n",
    "        q.pop();\n",
    "        \n",
    "        // 보고있는 정점에서 연결되어있는 정점을 모두 순회\n",
    "        for(int i=0; i<v[here].size(); i++){\n",
    "            \n",
    "            // 다음으로 이동할 정점\n",
    "            int next = v[here][i];\n",
    "            \n",
    "            // 다음 정점까지의 거리가 초기값 그대로인 경우 (방문한적이 없음)\n",
    "            if(dist[next] == -1){\n",
    "                // 다음 정점의 거리는 현재 정점까지의 거리 + 1\n",
    "                dist[next] = dist[here] + 1;\n",
    "                \n",
    "                // 큐에 다음 정점을 삽입\n",
    "                q.push(next);\n",
    "            }\n",
    "        }\n",
    "    }\n",
    "    \n",
    "    for(int i=1; i<=7; i++){\n",
    "        cout << dist[i] << ' ';\n",
    "    }\n",
    "}\n"
   ]
  }
 ],
 "metadata": {
  "kernelspec": {
   "display_name": "Python 3.8.9 64-bit",
   "language": "python",
   "name": "python3"
  },
  "language_info": {
   "codemirror_mode": {
    "name": "ipython",
    "version": 3
   },
   "file_extension": ".py",
   "mimetype": "text/x-python",
   "name": "python",
   "nbconvert_exporter": "python",
   "pygments_lexer": "ipython3",
   "version": "3.8.9"
  },
  "orig_nbformat": 4,
  "vscode": {
   "interpreter": {
    "hash": "31f2aee4e71d21fbe5cf8b01ff0e069b9275f58929596ceb00d14d90e3e16cd6"
   }
  }
 },
 "nbformat": 4,
 "nbformat_minor": 2
}
