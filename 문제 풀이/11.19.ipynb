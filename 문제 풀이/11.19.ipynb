{
 "cells": [
  {
   "cell_type": "markdown",
   "metadata": {},
   "source": [
    "##### 1. 벌집 (백준 - 2292번)\n",
    "- https://www.acmicpc.net/problem/2292"
   ]
  },
  {
   "cell_type": "code",
   "execution_count": 6,
   "metadata": {},
   "outputs": [
    {
     "name": "stdout",
     "output_type": "stream",
     "text": [
      "3\n"
     ]
    }
   ],
   "source": [
    "# 1 -> 7 -> 19 -> 37 -> 48\n",
    "#   6    12     18\n",
    "# 1  1+6*1 1+6*1+6*2 1+1+6*1+6*2+6*3\n",
    "cnt=1\n",
    "zip = 1\n",
    "n=int(input())\n",
    "while n > zip :\n",
    "    zip+=6*cnt\n",
    "    cnt+=1\n",
    "print(cnt)\n"
   ]
  },
  {
   "cell_type": "markdown",
   "metadata": {},
   "source": [
    "##### 2. 슈퍼 마리오 (백준 - 2851번)\n",
    "- https://www.acmicpc.net/problem/2851"
   ]
  },
  {
   "cell_type": "code",
   "execution_count": 27,
   "metadata": {},
   "outputs": [
    {
     "name": "stdout",
     "output_type": "stream",
     "text": [
      "100\n"
     ]
    }
   ],
   "source": [
    "# 10개의 버섯\n",
    "# 순서대로 집고 중단 가능\n",
    "# 중단 후 다시 먹는 거 불가\n",
    "nums=[]\n",
    "for i in range(10):\n",
    "    nums.append(int(input()))\n",
    "\n",
    "cha=100\n",
    "sum=0\n",
    "for i in nums:\n",
    "    sum+=i\n",
    "    if sum==100:\n",
    "        break\n",
    "    else:\n",
    "        if abs(100-sum)<=cha:\n",
    "            cha=abs(100-sum)\n",
    "        else:\n",
    "            sum-=i\n",
    "            break\n",
    "\n",
    "print(sum)"
   ]
  },
  {
   "cell_type": "markdown",
   "metadata": {},
   "source": [
    "##### 3. 제로 (백준 - 10773번)\n",
    "- https://www.acmicpc.net/problem/10773"
   ]
  },
  {
   "cell_type": "code",
   "execution_count": 44,
   "metadata": {},
   "outputs": [
    {
     "name": "stdout",
     "output_type": "stream",
     "text": [
      "0\n"
     ]
    }
   ],
   "source": [
    "import sys\n",
    "input=sys.stdin.readline\n",
    "\n",
    "k=int(input())\n",
    "result=[]\n",
    "sum=0\n",
    "for i in range(k):\n",
    "    n=int(input())\n",
    "    try:\n",
    "        if n==0:\n",
    "            result.pop()\n",
    "        else:\n",
    "            result.append(n)\n",
    "    except:\n",
    "        pass\n",
    "\n",
    "for i in result:\n",
    "    sum+=i\n",
    "print(sum)"
   ]
  },
  {
   "cell_type": "markdown",
   "metadata": {},
   "source": [
    "##### 4. ATM (백준 - 11399번)\n",
    "- https://www.acmicpc.net/problem/11399"
   ]
  },
  {
   "cell_type": "code",
   "execution_count": 53,
   "metadata": {},
   "outputs": [
    {
     "name": "stdout",
     "output_type": "stream",
     "text": [
      "32\n"
     ]
    }
   ],
   "source": [
    "n=int(input())\n",
    "p=list(map(int,input().split()))\n",
    "sum=0\n",
    "result=0\n",
    "for i in sorted(p):\n",
    "    sum+=i\n",
    "    result+=sum\n",
    "print(result)"
   ]
  },
  {
   "cell_type": "markdown",
   "metadata": {},
   "source": [
    "##### 5. 무한 문자열 (백준 - 12871번)\n",
    "- https://www.acmicpc.net/problem/12871"
   ]
  },
  {
   "cell_type": "code",
   "execution_count": 62,
   "metadata": {},
   "outputs": [
    {
     "name": "stdout",
     "output_type": "stream",
     "text": [
      "0\n"
     ]
    }
   ],
   "source": [
    "s = input()\n",
    "t = input()\n",
    "\n",
    "for i in range(len(s) * len(t)):\n",
    "    if s[i % len(s)] != t[i % len(t)]:\n",
    "        print(0)\n",
    "        break\n",
    "else:\n",
    "    print(1)"
   ]
  },
  {
   "cell_type": "code",
   "execution_count": null,
   "metadata": {},
   "outputs": [],
   "source": [
    "# 길이가 짧은 문자열을 약 500회 이하로 붙여서\n",
    "# 길이가 긴 문자열과 같아지는 순간이 생긴다면, True\n",
    "# 없다면, False\n"
   ]
  },
  {
   "cell_type": "markdown",
   "metadata": {},
   "source": [
    "##### 6. 구간 합 구하기 4 (백준 - 11659번)\n",
    "- https://www.acmicpc.net/problem/11659"
   ]
  },
  {
   "cell_type": "code",
   "execution_count": 71,
   "metadata": {},
   "outputs": [
    {
     "name": "stdout",
     "output_type": "stream",
     "text": [
      "12\n",
      "9\n",
      "1\n"
     ]
    }
   ],
   "source": [
    "# 누적합 이용해서 푸는 문제 -> 시간초과 오지게 남\n",
    "import sys\n",
    "input=sys.stdin.readline\n",
    "\n",
    "n, m=map(int,input().split())\n",
    "nums=list(map(int,input().split()))\n",
    "sum=[0]\n",
    "total=0\n",
    "for _ in nums:\n",
    "    total+=_\n",
    "    sum.append(total)\n",
    "\n",
    "for _ in range(m):\n",
    "    i, j = map(int,input().split())\n",
    "    print(sum[j]-sum[i-1])"
   ]
  },
  {
   "cell_type": "markdown",
   "metadata": {},
   "source": [
    "##### 7. 빗물 (백준 - 14719번)\n",
    "- https://www.acmicpc.net/problem/14719"
   ]
  },
  {
   "cell_type": "code",
   "execution_count": 85,
   "metadata": {},
   "outputs": [
    {
     "name": "stdout",
     "output_type": "stream",
     "text": [
      "8\n"
     ]
    }
   ],
   "source": [
    "# 2020 NHN 코딩테스트 문제\n",
    "# 구현, 시뮬레이션\n",
    "\n",
    "h, w = map(int, input().split())\n",
    "blocks=list(map(int,input().split()))\n",
    "\n",
    "ans = 0\n",
    "for i in range(1, w - 1):\n",
    "    # 좌우 최대값을 지정하는 것까진 생각함\n",
    "    # 슬라이싱 사용하는 거 생각 못 함\n",
    "    left_max = max(blocks[:i])\n",
    "    right_max = max(blocks[i+1:])\n",
    "\n",
    "    compare = min(left_max, right_max)\n",
    "\n",
    "    if blocks[i] < compare:\n",
    "        ans += compare - blocks[i]\n",
    "\n",
    "print(ans)"
   ]
  },
  {
   "cell_type": "markdown",
   "metadata": {},
   "source": [
    "##### 8. 문자열 폭발 (백준 - 9935번)\n",
    "- https://www.acmicpc.net/problem/9935"
   ]
  },
  {
   "cell_type": "code",
   "execution_count": 87,
   "metadata": {},
   "outputs": [
    {
     "name": "stdout",
     "output_type": "stream",
     "text": [
      "FRULA\n"
     ]
    }
   ],
   "source": [
    "# 틀린 답안\n",
    "s=input()\n",
    "b=input()\n",
    "\n",
    "while b in s:\n",
    "    s=s.replace(b,'',1)\n",
    "\n",
    "if s=='':\n",
    "    print('FRULA')\n",
    "else:\n",
    "    print(s)"
   ]
  },
  {
   "cell_type": "code",
   "execution_count": 90,
   "metadata": {},
   "outputs": [
    {
     "name": "stdout",
     "output_type": "stream",
     "text": [
      "FRULA\n"
     ]
    }
   ],
   "source": [
    "# 수정 답안\n",
    "s=input()\n",
    "b=input()\n",
    "\n",
    "stack=[]\n",
    "len_b=len(b)\n",
    "\n",
    "for i in range(len(s)):\n",
    "    stack.append(s[i])\n",
    "    if ''.join(stack[-len_b:]) == b:\n",
    "        for _ in range(len_b):\n",
    "            stack.pop()\n",
    "\n",
    "if stack:\n",
    "    print(''.join(stack))\n",
    "else:\n",
    "    print('FRULA')\n"
   ]
  },
  {
   "cell_type": "markdown",
   "metadata": {},
   "source": [
    "##### 9. 바이러스 (2606번)\n",
    "- https://www.acmicpc.net/problem/2606"
   ]
  },
  {
   "cell_type": "code",
   "execution_count": 3,
   "metadata": {},
   "outputs": [
    {
     "name": "stdout",
     "output_type": "stream",
     "text": [
      "[0, 0, 0, 0, 0, 0, 0, 0]\n",
      "[0, 1, 1, 1, 0, 1, 1, 0]\n",
      "4\n"
     ]
    }
   ],
   "source": [
    "from collections import deque\n",
    "\n",
    "n=int(input())\n",
    "m=int(input())\n",
    "\n",
    "graph=[[0]*(n+1) for _ in range(n+1)]\n",
    "for _ in range(m):\n",
    "    a,b=map(int,input().split())\n",
    "    graph[a][b]=1\n",
    "    graph[b][a]=1\n",
    "# print(graph)\n",
    "visited=[0]*(n+1)\n",
    "# print(visited)\n",
    "q=deque()\n",
    "q.append(1)\n",
    "visited[1]=1\n",
    "\n",
    "cnt=0\n",
    "while q:\n",
    "    now=q.popleft()\n",
    "    for i in range(1,n+1):\n",
    "        if graph[now][i]==1 and visited[i]==0:  #연결되어있고 방문한적없으면\n",
    "            visited[i]=1\n",
    "            q.append(i)\n",
    "            cnt+=1\n",
    "# print(visited)\n",
    "print(cnt)"
   ]
  },
  {
   "cell_type": "markdown",
   "metadata": {},
   "source": [
    "##### 10. 연결 요소의 개수 (백준 - 11724번)\n",
    "- https://www.acmicpc.net/problem/11724"
   ]
  },
  {
   "cell_type": "code",
   "execution_count": 5,
   "metadata": {},
   "outputs": [
    {
     "name": "stdout",
     "output_type": "stream",
     "text": [
      "[[], [2, 5], [1, 5], [4], [3, 6], [2, 1], [4]]\n",
      "2\n"
     ]
    }
   ],
   "source": [
    "# import sys\n",
    "# sys.setrecursionlimit(10**7)\n",
    "\n",
    "# input = sys.stdin.readline\n",
    "\n",
    "n,m=map(int,input().split()) \n",
    "\n",
    "graph = [[] for i in range(n+1)] # 그래프 초기화\n",
    "visited=[0]*(n+1) \n",
    "\n",
    "for i in range(m): # 그래프 생성\n",
    "    a,b=map(int,input().split())\n",
    "    graph[a]+=[b] # a에 b 연결\n",
    "    graph[b]+=[a] # b에 a 연결 -> 양방향\n",
    "\n",
    "def bfs(v):\n",
    "    visited[v]=1\n",
    "    for nx in graph[v]:\n",
    "        if visited[nx]==0:\n",
    "            visited[nx]=1\n",
    "            bfs(nx)\n",
    "count=0\n",
    "\n",
    "for i in range(1,n+1):\n",
    "    if visited[i]==0:\n",
    "        count+=1\n",
    "        bfs(i)\n",
    "\n",
    "print(count)"
   ]
  },
  {
   "cell_type": "markdown",
   "metadata": {},
   "source": [
    "##### 11. 정수 a를 k로 만들기 (백준 - 25418번)\n",
    "- https://www.acmicpc.net/problem/25418"
   ]
  },
  {
   "cell_type": "code",
   "execution_count": 13,
   "metadata": {},
   "outputs": [
    {
     "name": "stdout",
     "output_type": "stream",
     "text": [
      "850\n"
     ]
    }
   ],
   "source": [
    "a, k = map(int, input().split())\n",
    "cnt=0\n",
    "while 1:\n",
    "    if a==k:\n",
    "        print(cnt)\n",
    "        break\n",
    "    if k%2 == 0 and k >= a*2:\n",
    "        k=int(k/2)\n",
    "    else:\n",
    "        k-=1\n",
    "    cnt+=1\n"
   ]
  },
  {
   "cell_type": "markdown",
   "metadata": {},
   "source": [
    "##### 12. 숨바꼭질 (백준 - 1697번)\n",
    "- https://www.acmicpc.net/problem/1697"
   ]
  },
  {
   "cell_type": "code",
   "execution_count": null,
   "metadata": {},
   "outputs": [],
   "source": [
    "from collections import deque\n",
    "\n",
    "def bfs():\n",
    "    q=deque()    \n",
    "    q.append(n)\n",
    "    while q:\n",
    "        x=q.popleft()\n",
    "        if x==k:\n",
    "            print(dist[x])\n",
    "            break\n",
    "        for nx in (x-1,x+1,x*2):\n",
    "            if 0 <= nx <= MAX and not dist[nx]:\n",
    "                dist[nx]=dist[x]+1\n",
    "                q.append(nx)\n",
    "MAX=10**5\n",
    "dist=[0]*(MAX+1)\n",
    "\n",
    "n, k = map(int, input().split())\n",
    "bfs()"
   ]
  },
  {
   "cell_type": "markdown",
   "metadata": {},
   "source": [
    "##### 13. A → B (백준 - 16953번)\n",
    "- https://www.acmicpc.net/problem/16953"
   ]
  },
  {
   "cell_type": "code",
   "execution_count": null,
   "metadata": {},
   "outputs": [],
   "source": [
    "from collections import deque\n",
    "\n",
    "def bfs():\n",
    "    q=deque()    \n",
    "    q.append(n)\n",
    "    while q:\n",
    "        x=q.popleft()\n",
    "        if x>k:\n",
    "            continue\n",
    "        if x==k:\n",
    "            print(dist[x])\n",
    "            break\n",
    "        for nx in (x*10+1,x*2):\n",
    "            if 0 <= nx <= MAX and not dist[nx]:\n",
    "                dist[nx]=dist[x]+1\n",
    "                q.append(nx)\n",
    "MAX=10**4\n",
    "dist=[0]*(MAX+1)\n",
    "\n",
    "n, k = map(int, input().split())\n",
    "bfs()"
   ]
  },
  {
   "cell_type": "code",
   "execution_count": 24,
   "metadata": {},
   "outputs": [
    {
     "name": "stdout",
     "output_type": "stream",
     "text": [
      "5\n"
     ]
    }
   ],
   "source": [
    "# 구선생 풀이\n",
    "from collections import deque\n",
    "a,b = map(int,input().split())\n",
    "q = deque()\n",
    "q.append((a,1))\n",
    "r = 0\n",
    "\n",
    "while(q):\n",
    "    n,t = q.popleft()\n",
    "    if n > b:\n",
    "        continue\n",
    "    if n == b:\n",
    "        print(t)\n",
    "        break\n",
    "    q.append((n*10+1,t+1))\n",
    "    q.append((n*2,t+1))\n",
    "else:\n",
    "    print(-1)"
   ]
  },
  {
   "cell_type": "markdown",
   "metadata": {},
   "source": [
    "##### 14. 미로 탐색 (백준 - 2178번)\n",
    "- https://www.acmicpc.net/problem/2178"
   ]
  },
  {
   "cell_type": "code",
   "execution_count": 35,
   "metadata": {},
   "outputs": [
    {
     "data": {
      "text/plain": [
       "[[['1'], ['0'], ['1'], ['1'], ['1'], ['1']],\n",
       " [['1'], ['0'], ['1'], ['0'], ['1'], ['0']],\n",
       " [['1'], ['0'], ['1'], ['0'], ['1'], ['1']],\n",
       " [['1'], ['1'], ['1'], ['0'], ['1'], ['1']]]"
      ]
     },
     "execution_count": 35,
     "metadata": {},
     "output_type": "execute_result"
    }
   ],
   "source": [
    "n, m = map(int,input().split())\n",
    "miro=[]\n",
    "cnt=0\n",
    "for i in range(n):\n",
    "    miro.append(list(map(list,input())))\n",
    "for i in miro:\n",
    "    for j in i:\n",
    "        if j==0:\n",
    "            break\n",
    "        else:\n",
    "            cnt+=1\n",
    "    \n",
    "miro"
   ]
  },
  {
   "cell_type": "code",
   "execution_count": null,
   "metadata": {},
   "outputs": [],
   "source": []
  }
 ],
 "metadata": {
  "kernelspec": {
   "display_name": "Python 3.8.9 64-bit",
   "language": "python",
   "name": "python3"
  },
  "language_info": {
   "codemirror_mode": {
    "name": "ipython",
    "version": 3
   },
   "file_extension": ".py",
   "mimetype": "text/x-python",
   "name": "python",
   "nbconvert_exporter": "python",
   "pygments_lexer": "ipython3",
   "version": "3.8.9"
  },
  "orig_nbformat": 4,
  "vscode": {
   "interpreter": {
    "hash": "31f2aee4e71d21fbe5cf8b01ff0e069b9275f58929596ceb00d14d90e3e16cd6"
   }
  }
 },
 "nbformat": 4,
 "nbformat_minor": 2
}
