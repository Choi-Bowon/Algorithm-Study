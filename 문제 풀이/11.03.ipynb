{
 "cells": [
  {
   "cell_type": "markdown",
   "metadata": {},
   "source": [
    "##### 1. 더하기 사이클 (백준 - 1110번)\n",
    "- https://www.acmicpc.net/problem/1110"
   ]
  },
  {
   "cell_type": "code",
   "execution_count": 6,
   "metadata": {},
   "outputs": [
    {
     "name": "stdout",
     "output_type": "stream",
     "text": [
      "4\n"
     ]
    }
   ],
   "source": [
    "N=input()\n",
    "s=N\n",
    "cnt=0\n",
    "\n",
    "while True:\n",
    "    if len(s)==1:\n",
    "        num='0'+s\n",
    "    plus=str(int(s[0])+int(s[1]))\n",
    "    s=s[-1]+plus[-1]\n",
    "    cnt+=1\n",
    "    if s==N:\n",
    "        print(cnt)\n",
    "        break"
   ]
  },
  {
   "cell_type": "code",
   "execution_count": 7,
   "metadata": {},
   "outputs": [
    {
     "name": "stdout",
     "output_type": "stream",
     "text": [
      "4\n"
     ]
    }
   ],
   "source": [
    "n=input()\n",
    "if int(n)<10:\n",
    "    n='0'+n\n",
    "calnum=n[1]+str(int(n[0]) + int(n[1]))[-1]\n",
    "count=1\n",
    "\n",
    "while calnum!=n:\n",
    "    calnum=calnum[1] + str(int(calnum[0])+\n",
    "    int(calnum[1]))[-1]\n",
    "    count+=1\n",
    "print(count)"
   ]
  },
  {
   "cell_type": "markdown",
   "metadata": {},
   "source": [
    "##### 2. 개수 세기 (백준 = 10807번)\n",
    "- https://www.acmicpc.net/problem/10807"
   ]
  },
  {
   "cell_type": "code",
   "execution_count": 7,
   "metadata": {},
   "outputs": [
    {
     "name": "stdout",
     "output_type": "stream",
     "text": [
      "2\n"
     ]
    }
   ],
   "source": [
    "N= int(input())\n",
    "num=list(map(int, input().split()))\n",
    "v=int(input())\n",
    "\n",
    "print(num.count(v))"
   ]
  },
  {
   "cell_type": "markdown",
   "metadata": {},
   "source": [
    "##### 3. X보다 작은 수 (백준 - 10871번)\n",
    "- https://www.acmicpc.net/problem/10871"
   ]
  },
  {
   "cell_type": "code",
   "execution_count": 11,
   "metadata": {},
   "outputs": [
    {
     "name": "stdout",
     "output_type": "stream",
     "text": [
      "1\n",
      "1\n",
      "1\n",
      "1\n",
      "1\n"
     ]
    }
   ],
   "source": [
    "N, X=map(int, input().split())\n",
    "A=list(map(int,input().split()))\n",
    "\n",
    "for i in A:\n",
    "    if i<X:\n",
    "        print(i,end=' ')"
   ]
  },
  {
   "cell_type": "markdown",
   "metadata": {},
   "source": [
    "##### 4. 최댓값 (백준 - 2562번)\n",
    "- https://www.acmicpc.net/problem/2562"
   ]
  },
  {
   "cell_type": "code",
   "execution_count": 15,
   "metadata": {},
   "outputs": [
    {
     "name": "stdout",
     "output_type": "stream",
     "text": [
      "9\n",
      "7\n"
     ]
    }
   ],
   "source": [
    "num_list=[]\n",
    "for i in range(1,9+1):\n",
    "    num=int(input())\n",
    "    num_list.append(num)\n",
    "max_val=max(num_list)\n",
    "print(max_val)\n",
    "print(num_list.index(max_val)+1)"
   ]
  },
  {
   "cell_type": "markdown",
   "metadata": {},
   "source": [
    "##### 5. 과제 안 내신 분..? (백준 - 5597번)\n",
    "- https://www.acmicpc.net/problem/5597"
   ]
  },
  {
   "cell_type": "code",
   "execution_count": 18,
   "metadata": {},
   "outputs": [],
   "source": [
    "student=[]\n",
    "\n",
    "for j in range(28):\n",
    "    student.append(int(input()))\n",
    "\n",
    "for i in range(1,31):\n",
    "    if i in student:\n",
    "        pass\n",
    "    else:\n",
    "        print(i)"
   ]
  },
  {
   "cell_type": "markdown",
   "metadata": {},
   "source": [
    "##### 6. 나머지 (백준 - 3052번)\n",
    "- https://www.acmicpc.net/problem/3052"
   ]
  },
  {
   "cell_type": "code",
   "execution_count": 21,
   "metadata": {},
   "outputs": [
    {
     "name": "stdout",
     "output_type": "stream",
     "text": [
      "6\n"
     ]
    }
   ],
   "source": [
    "result=[]\n",
    "for i in range(10):\n",
    "    result.append(int(input())%42)\n",
    "print(len(set(result)))"
   ]
  },
  {
   "cell_type": "markdown",
   "metadata": {},
   "source": [
    "##### 7. 평균 (백준 - 1546번)\n",
    "- https://www.acmicpc.net/problem/1546"
   ]
  },
  {
   "cell_type": "code",
   "execution_count": 35,
   "metadata": {},
   "outputs": [
    {
     "name": "stdout",
     "output_type": "stream",
     "text": [
      "66.66666666666667\n"
     ]
    }
   ],
   "source": [
    "N=int(input())\n",
    "sum=0\n",
    "\n",
    "score=list(map(int, input().split()))\n",
    "M=max(score)\n",
    "\n",
    "for i in score:\n",
    "    sum+=i/M*100\n",
    "\n",
    "print(sum/N)"
   ]
  },
  {
   "cell_type": "markdown",
   "metadata": {},
   "source": [
    "##### 8. 평균은 넘겠지 (백준 - 4344번)\n",
    "- https://www.acmicpc.net/problem/4344"
   ]
  },
  {
   "cell_type": "code",
   "execution_count": 66,
   "metadata": {},
   "outputs": [
    {
     "name": "stdout",
     "output_type": "stream",
     "text": [
      "0.000%\n",
      "0.000%\n",
      "0.000%\n"
     ]
    }
   ],
   "source": [
    "C=int(input())\n",
    "result=[]\n",
    "\n",
    "for i in range(C):\n",
    "    result.append(list(map(int,input().split())))\n",
    "\n",
    "for re in result:\n",
    "    cnt=0\n",
    "    for r in re[1:]:\n",
    "        cnt+=r\n",
    "    mean=cnt/re[0]\n",
    "    cnt=0\n",
    "    for r in re[1:]:\n",
    "        if r<=mean:\n",
    "            pass\n",
    "        else:\n",
    "            cnt+=1\n",
    "    print('{:.3f}'.format(round(cnt/re[0]*100,3)),'%',sep='')\n"
   ]
  },
  {
   "cell_type": "markdown",
   "metadata": {},
   "source": [
    "##### 9. 최댓값 (백준 - 2566번)\n",
    "- https://www.acmicpc.net/problem/2566"
   ]
  },
  {
   "cell_type": "code",
   "execution_count": 76,
   "metadata": {},
   "outputs": [
    {
     "name": "stdout",
     "output_type": "stream",
     "text": [
      "90\n",
      "5 7\n"
     ]
    }
   ],
   "source": [
    "# pan=[]\n",
    "# for i in range(9):\n",
    "#     pan.append(list(map(int,input().split())))\n",
    "\n",
    "# max_val=[]\n",
    "# for i in pan:\n",
    "#     max_val.append(max(i))\n",
    "\n",
    "# for i in pan:\n",
    "#     for j in i:\n",
    "#         if j==max(max_val):\n",
    "#             max_index=i.index(j)\n",
    "# print(max(max_val))\n",
    "# print(max_val.index(max(max_val))+1,max_index+1)"
   ]
  },
  {
   "cell_type": "code",
   "execution_count": null,
   "metadata": {},
   "outputs": [],
   "source": [
    "import sys\n",
    "\n",
    "pan=[]\n",
    "for _ in range(9):\n",
    "    pan.append(list(map(int,sys.stdin.readline().split())))\n",
    "x=0\n",
    "y=0\n",
    "max=-1\n",
    "\n",
    "for i in range(9):\n",
    "    for j in range(9):\n",
    "        if pan[i][j]>max:\n",
    "            max=pan[i][j]\n",
    "            x=i+1\n",
    "            y=j+1\n",
    "\n",
    "print(max)\n",
    "print(x,y)"
   ]
  },
  {
   "cell_type": "markdown",
   "metadata": {},
   "source": [
    "10. 정수 N개의 합 (백준 - 15596번)\n",
    "- https://www.acmicpc.net/problem/15596"
   ]
  },
  {
   "cell_type": "code",
   "execution_count": 89,
   "metadata": {},
   "outputs": [],
   "source": [
    "def solve(a):\n",
    "    ans = 0\n",
    "    for i in a:\n",
    "        ans+=i\n",
    "    return ans"
   ]
  },
  {
   "cell_type": "markdown",
   "metadata": {},
   "source": [
    "##### 11. 숫자의 합 (백준 - 11720번)\n",
    "- https://www.acmicpc.net/problem/11720"
   ]
  },
  {
   "cell_type": "code",
   "execution_count": 4,
   "metadata": {},
   "outputs": [
    {
     "name": "stdout",
     "output_type": "stream",
     "text": [
      "15\n"
     ]
    }
   ],
   "source": [
    "N=int(input())\n",
    "string=input()\n",
    "sum=0\n",
    "\n",
    "for i in string:\n",
    "    sum+=int(i)\n",
    "print(sum)"
   ]
  },
  {
   "cell_type": "markdown",
   "metadata": {},
   "source": [
    "##### 12. 알파벳 찾기 (백준 - 10809번)\n",
    "- https://www.acmicpc.net/problem/10809"
   ]
  },
  {
   "cell_type": "code",
   "execution_count": 6,
   "metadata": {},
   "outputs": [
    {
     "name": "stdout",
     "output_type": "stream",
     "text": [
      "0 1 2 3 4 -1 -1 -1 -1 -1 -1 -1 -1 -1 -1 -1 -1 -1 -1 -1 -1 -1 -1 -1 -1 -1 "
     ]
    }
   ],
   "source": [
    "S=input()\n",
    "alph_list = ['a', 'b', 'c', 'd', 'e', 'f', 'g', 'h', 'i', 'j', 'k', 'l',\n",
    "    'm', 'n', 'o', 'p', 'q', 'r', 's', 't', 'u', 'v', 'w', 'x', 'y', 'z']\n",
    "for i in alph_list:\n",
    "    if i in S:\n",
    "        print(S.index(i),end=' ')\n",
    "    else:\n",
    "        print(-1, end=' ')\n",
    "        "
   ]
  },
  {
   "cell_type": "markdown",
   "metadata": {},
   "source": [
    "##### 13. 단어 공부 (백준 - 1157번)\n",
    "- https://www.acmicpc.net/problem/1157"
   ]
  },
  {
   "cell_type": "code",
   "execution_count": null,
   "metadata": {},
   "outputs": [],
   "source": [
    "string=list(input().lower())\n",
    "only=list(set(string))\n",
    "cnt=[]\n",
    "\n",
    "max='?'\n",
    "\n",
    "for i in only:\n",
    "    cnt.append()\n",
    "\n",
    "print(max)"
   ]
  },
  {
   "cell_type": "markdown",
   "metadata": {},
   "source": [
    "##### 14. 행렬 덧셈 (백준 - 2738번)\n",
    "- https://www.acmicpc.net/problem/2738"
   ]
  },
  {
   "cell_type": "code",
   "execution_count": null,
   "metadata": {},
   "outputs": [],
   "source": [
    "### 수정 필요 ###\n",
    "\n",
    "import sys\n",
    "\n",
    "N, M=map(int,sys.stdin.readline().split())\n",
    "result1=[]\n",
    "result2=[]\n",
    "\n",
    "for i in range(N):\n",
    "    result1.append(list(map(int,sys.stdin.readline().split())))\n",
    "\n",
    "for i in range(M):\n",
    "    result2.append(list(map(int,sys.stdin.readline().split())))\n",
    "\n",
    "for i in range(len(result1)):\n",
    "    for j in range(len(result1[0])):\n",
    "        result1[i][j] += result2[i][j]\n",
    "\n",
    "for i in result1:\n",
    "    for j in i:\n",
    "        print(j,end=' ')\n",
    "    print()"
   ]
  },
  {
   "cell_type": "markdown",
   "metadata": {},
   "source": [
    "##### 15. 수 정렬하기 (백준 - 2750번)\n",
    "- https://www.acmicpc.net/problem/2750"
   ]
  },
  {
   "cell_type": "code",
   "execution_count": 16,
   "metadata": {},
   "outputs": [
    {
     "name": "stdout",
     "output_type": "stream",
     "text": [
      "1\n",
      "2\n",
      "3\n",
      "4\n",
      "5\n"
     ]
    }
   ],
   "source": [
    "N=int(input())\n",
    "result=[]\n",
    "\n",
    "for i in range(N):\n",
    "    result.append(int(input()))\n",
    "\n",
    "for i in sorted(result):\n",
    "    print(i)"
   ]
  },
  {
   "cell_type": "code",
   "execution_count": null,
   "metadata": {},
   "outputs": [],
   "source": []
  }
 ],
 "metadata": {
  "kernelspec": {
   "display_name": "Python 3.8.9 64-bit",
   "language": "python",
   "name": "python3"
  },
  "language_info": {
   "codemirror_mode": {
    "name": "ipython",
    "version": 3
   },
   "file_extension": ".py",
   "mimetype": "text/x-python",
   "name": "python",
   "nbconvert_exporter": "python",
   "pygments_lexer": "ipython3",
   "version": "3.8.9"
  },
  "orig_nbformat": 4,
  "vscode": {
   "interpreter": {
    "hash": "31f2aee4e71d21fbe5cf8b01ff0e069b9275f58929596ceb00d14d90e3e16cd6"
   }
  }
 },
 "nbformat": 4,
 "nbformat_minor": 2
}
