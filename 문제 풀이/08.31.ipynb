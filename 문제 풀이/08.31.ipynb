{
 "cells": [
  {
   "cell_type": "markdown",
   "metadata": {},
   "source": [
    "##### 1. 체육복 (Lv.1 코딩테스트 연습 - 탐욕법(Greedy)\n"
   ]
  },
  {
   "cell_type": "code",
   "execution_count": 2,
   "metadata": {},
   "outputs": [
    {
     "name": "stdout",
     "output_type": "stream",
     "text": [
      "5\n"
     ]
    }
   ],
   "source": [
    "# 처음 생각한 코드\n",
    "def solution(n, lost, reserve):\n",
    "    answer = 0\n",
    "    if len(lost)>len(reserve):\n",
    "        for i in range(len(lost)):\n",
    "            for j in range(len(reserve)):\n",
    "                if (lost[i]-1)==reserve[j]:\n",
    "                    answer+=1\n",
    "\n",
    "                else:\n",
    "                    pass                     \n",
    "    return answer\n",
    "\n",
    "# 두 번째 생각한 코드\n",
    "def solution(n, lost, reserve):\n",
    "    \n",
    "\n",
    "    if n==len(lost)+len(reserve):\n",
    "        return n\n",
    "    elif n>len(lost)+len(reserve):\n",
    "        if len(lost) <= len(reserve):\n",
    "            return n//2+1\n",
    "        else:\n",
    "            return n//2           "
   ]
  },
  {
   "cell_type": "code",
   "execution_count": 4,
   "metadata": {},
   "outputs": [
    {
     "data": {
      "text/plain": [
       "2"
      ]
     },
     "execution_count": 4,
     "metadata": {},
     "output_type": "execute_result"
    }
   ],
   "source": [
    "n=5\n",
    "lost=[2,4]\n",
    "reserve=[3]\n",
    "answer = 0\n",
    "\n",
    "def solution(n, lost, reserve):\n",
    "    \n",
    "\n",
    "    if n==len(lost)+len(reserve):\n",
    "        return n\n",
    "    elif n>len(lost)+len(reserve):\n",
    "        if len(lost) <= len(reserve):\n",
    "            return n//2+1\n",
    "        else:\n",
    "            return n//2\n",
    "        \n",
    "               \n",
    "\n",
    "solution(n, lost, reserve)      "
   ]
  },
  {
   "cell_type": "markdown",
   "metadata": {},
   "source": [
    "#### 슬기언니 코드 (정답)"
   ]
  },
  {
   "cell_type": "code",
   "execution_count": 1,
   "metadata": {},
   "outputs": [],
   "source": [
    "def solution(n, lost, reserve):\n",
    "    answer = 0 \n",
    "    # 만약에 도난당한 학생들의 번호의 +-1로 학생이 있다면 1명 추가\n",
    "    # 둘 중 하나만 있어도 수업을 들을 수 있으니까 or\n",
    "    # 도난당한 학생들의 번호를 제외한 나머지는 체육복이 있으므로 그 학생들도 추가\n",
    "    \n",
    "    # reserve에 있는 학생이 lost에도 있을 경우 그걸 빼주고 새로 저장(여유분이 있는 학생들만 저장)\n",
    "    new_reserve = set(reserve) - set(lost)\n",
    "    new_lost = set(lost) - set(reserve)\n",
    "    \n",
    "    for nr in new_reserve:\n",
    "        if nr - 1 in new_lost:\n",
    "            new_lost.remove(nr-1)\n",
    "        elif nr + 1 in new_lost:\n",
    "            new_lost.remove(nr+1)\n",
    "            \n",
    "    answer = n - len(new_lost)\n",
    "\n",
    "    return answer"
   ]
  },
  {
   "cell_type": "markdown",
   "metadata": {},
   "source": [
    "#### 건이오빠 코드 (정답)"
   ]
  },
  {
   "cell_type": "code",
   "execution_count": 2,
   "metadata": {},
   "outputs": [],
   "source": [
    "def solution(n, lost, reserve):\n",
    "\n",
    "    # 학생의 번호를 담은 student_number 및 체육복의 수를 담을 uniform_number 리스트 초기화\n",
    "    student_number = list(range(1, n + 1))\n",
    "    uniform_number = [1] * n\n",
    "\n",
    "    # 반복문을 통해 도난당한 학생들의 체육복 수 조정\n",
    "    for student in student_number:\n",
    "        if student in lost:\n",
    "            uniform_number[student - 1] -= 1\n",
    "\n",
    "    # 반복문을 통해 여벌의 체육복을 가져온 학생들의 체육복 수 조정\n",
    "    for student in student_number:\n",
    "        if student in reserve:\n",
    "            uniform_number[student - 1] += 1\n",
    "\n",
    "    # 조건문을 통해 왼쪽 끝 번호의 체육복 수 조정\n",
    "    if uniform_number[0] == 2 and uniform_number[1] == 0:\n",
    "                uniform_number[0] -= 1\n",
    "                uniform_number[1] += 1\n",
    "\n",
    "    # 조건문을 통해 오른쪽 끝 번호의 체육복 수 조정\n",
    "    if uniform_number[-1] == 2 and uniform_number[-2] == 0:\n",
    "                uniform_number[-1] -= 1\n",
    "                uniform_number[-2] += 1\n",
    "\n",
    "    # 반복문을 통해 중간의 체육복 수 조정\n",
    "    for i in range(1, n - 1):\n",
    "        if uniform_number[i] == 2:\n",
    "            if uniform_number[i - 1] == 0:\n",
    "                uniform_number[i] -= 1\n",
    "                uniform_number[i - 1] += 1\n",
    "            elif uniform_number[i + 1] == 0:\n",
    "                uniform_number[i] -= 1\n",
    "                uniform_number[i + 1] += 1\n",
    "\n",
    "    # 체육복을 가지고 있는 학생 수 도출\n",
    "    answer = uniform_number.count(1) + uniform_number.count(2)\n",
    "\n",
    "    # 결과 값 반환\n",
    "    return answer"
   ]
  },
  {
   "cell_type": "markdown",
   "metadata": {},
   "source": [
    "#### 프로그래머스 정답 코드"
   ]
  },
  {
   "cell_type": "code",
   "execution_count": 4,
   "metadata": {},
   "outputs": [],
   "source": [
    "def another_solution(n, lost, reserve):\n",
    "\n",
    "    # 체육복을 도난 당했지만, 여분의 체육복이 있었던 경우와 여분의 체육복이 있었지만, 도난 당한 경우를 각각 제거한 새로운 리스트 생성\n",
    "    new_reserve = [r for r in reserve if r not in lost]\n",
    "    new_lost = [l for l in lost if l not in reserve]\n",
    "\n",
    "    # 반복문을 통해 new_lost 리스트에서 체육복을 받은 학생을 제거\n",
    "    for r in new_reserve:\n",
    "        f = r - 1\n",
    "        b = r + 1\n",
    "        if f in new_lost:\n",
    "            new_lost.remove(f)\n",
    "        elif b in new_lost:\n",
    "            new_lost.remove(b)\n",
    "    \n",
    "    # 전체 학생 수에서 체육복이 없는 학생의 수를 뺀 결과 값 반환\n",
    "    return n - len(new_lost)"
   ]
  },
  {
   "cell_type": "code",
   "execution_count": null,
   "metadata": {},
   "outputs": [],
   "source": []
  }
 ],
 "metadata": {
  "kernelspec": {
   "display_name": "Python 3.10.4 ('study')",
   "language": "python",
   "name": "python3"
  },
  "language_info": {
   "codemirror_mode": {
    "name": "ipython",
    "version": 3
   },
   "file_extension": ".py",
   "mimetype": "text/x-python",
   "name": "python",
   "nbconvert_exporter": "python",
   "pygments_lexer": "ipython3",
   "version": "3.10.4"
  },
  "orig_nbformat": 4,
  "vscode": {
   "interpreter": {
    "hash": "6d3adedfb80ee571769eb11502afa6f60a6eb52bcaed4a1ba6c74a4ec7405124"
   }
  }
 },
 "nbformat": 4,
 "nbformat_minor": 2
}
