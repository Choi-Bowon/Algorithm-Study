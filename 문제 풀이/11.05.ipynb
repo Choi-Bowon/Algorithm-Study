{
 "cells": [
  {
   "cell_type": "markdown",
   "metadata": {},
   "source": [
    "##### 1. 수 정렬하기 2 (백준 - 2751번)\n",
    "- https://www.acmicpc.net/problem/2751"
   ]
  },
  {
   "cell_type": "code",
   "execution_count": null,
   "metadata": {},
   "outputs": [],
   "source": [
    "import sys\n",
    "N=int(input())\n",
    "result=[]\n",
    "for i in range(N):\n",
    "    result.append(int(sys.stdin.readline()))\n",
    "result=sorted(result)\n",
    "for i in result:\n",
    "    print(i)"
   ]
  },
  {
   "cell_type": "markdown",
   "metadata": {},
   "source": [
    "##### 2. 소트인사이드 (백준 - 1427번)\n",
    "- https://www.acmicpc.net/problem/1427"
   ]
  },
  {
   "cell_type": "code",
   "execution_count": 20,
   "metadata": {},
   "outputs": [
    {
     "name": "stdout",
     "output_type": "stream",
     "text": [
      "\n"
     ]
    }
   ],
   "source": [
    "import sys\n",
    "N=input()\n",
    "result=[]\n",
    "re=''\n",
    "for i in N[::-1]:\n",
    "    result.append(i)\n",
    "sorted_result=sorted(result,reverse=True)\n",
    "for i in sorted_result:\n",
    "    re+=i\n",
    "print(re)"
   ]
  },
  {
   "cell_type": "markdown",
   "metadata": {},
   "source": [
    "##### 3. 수 찾기 (백준 - 1920번)\n",
    "- https://www.acmicpc.net/problem/1920"
   ]
  },
  {
   "cell_type": "code",
   "execution_count": 24,
   "metadata": {},
   "outputs": [
    {
     "name": "stdout",
     "output_type": "stream",
     "text": [
      "1\n",
      "1\n",
      "0\n",
      "0\n",
      "1\n"
     ]
    }
   ],
   "source": [
    "N= int(input())\n",
    "N_list=set(map(int, input().split()))\n",
    "M= int(input())\n",
    "M_list=list(map(int, input().split()))\n",
    "\n",
    "for i in M_list:\n",
    "    print(1) if i in N_list else print(0)"
   ]
  },
  {
   "cell_type": "code",
   "execution_count": null,
   "metadata": {},
   "outputs": [],
   "source": [
    "# 이진탐색 풀이\n",
    "n = int(input())\n",
    "n_arr = sorted(list(map(int, input().split())))\n",
    "m = int(input())\n",
    "m_arr = list(map(int, input().split()))\n",
    "\n",
    "def binary(i):\n",
    "    first = 0\n",
    "    end = n - 1\n",
    "\n",
    "    while first <= end:\n",
    "        mid = (first + end) // 2\n",
    "        if n_arr[mid] == i:\n",
    "            return True\n",
    "        if i < n_arr[mid]:\n",
    "            end = mid - 1\n",
    "        elif i > n_arr[mid]:\n",
    "            first = mid + 1\n",
    "\n",
    "\n",
    "for i in range(m):\n",
    "    if binary(m_arr[i]):\n",
    "        print(1)\n",
    "    else:\n",
    "        print(0)\n"
   ]
  },
  {
   "cell_type": "markdown",
   "metadata": {},
   "source": [
    "##### 4. 나무 자르기 (백준 - 2805번)\n",
    "- https://www.acmicpc.net/problem/2805"
   ]
  },
  {
   "cell_type": "code",
   "execution_count": 44,
   "metadata": {},
   "outputs": [
    {
     "name": "stdout",
     "output_type": "stream",
     "text": [
      "36\n"
     ]
    }
   ],
   "source": [
    "# 재귀 방식으로 풀어보기\n",
    "N, M= map(int,input().split())\n",
    "N_list=sorted(list(map(int,input().split())),reverse=True)\n",
    "\n",
    "h=N_list[0]\n",
    "for i in range(1,h+1)[::-1]:\n",
    "    sum=0\n",
    "    for j in N_list:\n",
    "        if j>=i:\n",
    "            sum+=j-i    \n",
    "    if sum>=M:\n",
    "        print(i)\n",
    "        break\n",
    "    else:\n",
    "        pass"
   ]
  },
  {
   "cell_type": "code",
   "execution_count": 40,
   "metadata": {},
   "outputs": [
    {
     "name": "stdout",
     "output_type": "stream",
     "text": [
      "15\n"
     ]
    }
   ],
   "source": [
    "N, M= map(int,input().split())\n",
    "N_list=list(map(int,input().split()))\n",
    "start,max_h=1, max(N_list)\n",
    "\n",
    "# 절단기의 높이를 조절해가며 이진탐색\n",
    "while start <= max_h:\n",
    "    mid = (start + max_h) // 2\n",
    "    log=0\n",
    "\n",
    "    # 이거까진 생각했음\n",
    "    for i in N_list:\n",
    "        if i >=mid:\n",
    "            log+=i-mid\n",
    "        \n",
    "    if log>=M:\n",
    "        start=mid+1\n",
    "    else:\n",
    "        max_h=mid-1\n",
    "print(max_h)"
   ]
  },
  {
   "cell_type": "markdown",
   "metadata": {},
   "source": [
    "##### 5. 랜선 자르기 (백준 - 1654번)\n",
    "- https://www.acmicpc.net/problem/1654"
   ]
  },
  {
   "cell_type": "code",
   "execution_count": 50,
   "metadata": {},
   "outputs": [
    {
     "name": "stdout",
     "output_type": "stream",
     "text": [
      "200\n"
     ]
    }
   ],
   "source": [
    "# K는 가지고 있는 랜선의 수\n",
    "# N은 필요한 랜선의 개수\n",
    "K, N=map(int, input().split()) \n",
    "line_list=[]\n",
    "for i in range(K):\n",
    "    line_list.append(int(input()))\n",
    "\n",
    "a,z = 1,max(line_list)\n",
    "\n",
    "while a<=z:\n",
    "    mid=(a+z)//2\n",
    "    line=0\n",
    "    for i in line_list:\n",
    "        line+=i//mid     \n",
    "    if line>=N:\n",
    "        a=mid+1\n",
    "    else:\n",
    "        z=mid-1\n",
    "print(z)"
   ]
  },
  {
   "cell_type": "markdown",
   "metadata": {},
   "source": [
    "##### 6. 예산 (백준 - 2512번)\n",
    "- https://www.acmicpc.net/problem/2512"
   ]
  },
  {
   "cell_type": "code",
   "execution_count": 69,
   "metadata": {},
   "outputs": [
    {
     "name": "stdout",
     "output_type": "stream",
     "text": [
      "127\n"
     ]
    }
   ],
   "source": [
    "# 출력하고자 하는 값 : 최대로 배정해줄 수 있는 예산이 얼마인지?\n",
    "N=int(input())\n",
    "budget=list(map(int, input().split()))\n",
    "M=int(input())\n",
    "\n",
    "start, end = 0, max(budget)\n",
    "\n",
    "while start<=end:\n",
    "    middle=(start+end)//2\n",
    "    cnt=0\n",
    "\n",
    "    # f 함수 부분(난 빼기로 접근하려 했었음)\n",
    "    for i in budget:\n",
    "        if i > middle:\n",
    "            cnt += middle\n",
    "        else:\n",
    "            cnt += i\n",
    "        \n",
    "    if cnt <= M:\n",
    "        start=middle+1\n",
    "    else:\n",
    "        end=middle-1\n",
    "print(end)"
   ]
  },
  {
   "cell_type": "markdown",
   "metadata": {},
   "source": [
    "##### 7. 입국심사 (백준 - 3079번)\n",
    "- https://www.acmicpc.net/problem/3079"
   ]
  },
  {
   "cell_type": "code",
   "execution_count": 78,
   "metadata": {},
   "outputs": [
    {
     "name": "stdout",
     "output_type": "stream",
     "text": [
      "8\n"
     ]
    }
   ],
   "source": [
    "import sys\n",
    "input=sys.stdin.readline\n",
    "\n",
    "N, M = map(int, input().split())\n",
    "time=[]\n",
    "for i in range(N):\n",
    "    time.append(int(input()))\n",
    "left=min(time)\n",
    "answer=right=max(time)*M\n",
    "\n",
    "while left<=right:\n",
    "    total=0\n",
    "    mid=(left+right)//2\n",
    "    for i in range(N):\n",
    "        total+=mid//time[i]\n",
    "        \n",
    "    if total>=M:\n",
    "        right=mid-1\n",
    "        answer=min(answer,mid)\n",
    "    else:\n",
    "        left=mid+1\n",
    "print(answer)"
   ]
  },
  {
   "cell_type": "markdown",
   "metadata": {},
   "source": [
    "##### 8. 좋다 (백준 - 1253번)\n",
    "- https://www.acmicpc.net/problem/1253"
   ]
  },
  {
   "cell_type": "code",
   "execution_count": 1,
   "metadata": {},
   "outputs": [
    {
     "name": "stdout",
     "output_type": "stream",
     "text": [
      "0\n"
     ]
    }
   ],
   "source": [
    "# import sys\n",
    "# input=sys.stdin.readline\n",
    "\n",
    "#  구하고자 하는 것? 좋다의 개수\n",
    "N=int(input())\n",
    "N_list=sorted(list(map(int, input().split())))\n",
    "\n",
    "cnt=0\n",
    "\n",
    "left=N_list[0]\n",
    "right=len(N_list)-1\n",
    "\n",
    "while left<=right:\n",
    "    mid=(left+right)//2\n",
    "\n",
    "    if N_list[left]+N_list[right] in N_list:\n",
    "        cnt+=1\n",
    "    elif N_list[left]+N_list[right]<mid:\n",
    "        right-=1\n",
    "    else:\n",
    "        left+=1\n",
    "print(cnt)\n"
   ]
  },
  {
   "cell_type": "markdown",
   "metadata": {},
   "source": [
    "##### 9. 백설 공주와 일곱 난쟁이 (백준 - 3040번)\n",
    "- https://www.acmicpc.net/problem/3040"
   ]
  },
  {
   "cell_type": "code",
   "execution_count": 4,
   "metadata": {},
   "outputs": [
    {
     "name": "stdout",
     "output_type": "stream",
     "text": [
      "7\n",
      "8\n",
      "10\n",
      "13\n",
      "19\n",
      "20\n",
      "23\n"
     ]
    }
   ],
   "source": [
    "import sys\n",
    "input=sys.stdin.readline\n",
    "\n",
    "num=[]\n",
    "for i in range(9):\n",
    "    num.append(int(input()))\n",
    "for i in range(9):\n",
    "    for j in range(i+1,9):\n",
    "        if sum(num)-num[i]-num[j]==100:\n",
    "            x,y=i,j\n",
    "            break\n",
    "num.pop(x)\n",
    "num.pop(y-1)\n",
    "for i in num:\n",
    "    print(i)\n"
   ]
  },
  {
   "cell_type": "markdown",
   "metadata": {},
   "source": [
    "##### 10. 수면 장애 (백준 - 12755번)\n",
    "- https://www.acmicpc.net/problem/12755"
   ]
  },
  {
   "cell_type": "code",
   "execution_count": 6,
   "metadata": {},
   "outputs": [
    {
     "name": "stdout",
     "output_type": "stream",
     "text": [
      "3\n"
     ]
    }
   ],
   "source": [
    "# import sys\n",
    "# input=sys.stdin.readline\n",
    "# 0 ~ 9     9*1\n",
    "# 10 ~ 99   9*10-1\n",
    "# 100 ~ 999 9*10^2-1\n",
    "# 1000 ~ 9999   9*10^3-1\n",
    "\n",
    "N=int(input())\n",
    "\n",
    "digit = 1\n",
    "i = 2\n",
    "j = 1\n",
    "prev = 9\n",
    "maximum = 9\n",
    "\n",
    "if(N<10): # 한 자릿수 숫자는 N과 같다.\n",
    "    print(N)\n",
    "    exit(0)\n",
    "\n",
    "#N은 몇번째 자릿수인지? , 각 자릿수별 최소 범위를 찾아서 찾음, 자릿수별 범위는 이전 최대값~현재 최대값\n",
    "while(1):\n",
    "    maximum += 9*(10**j)*i\n",
    "    if(prev < N and maximum >= N):\n",
    "        # print(i)\n",
    "        break\n",
    "    i+=1\n",
    "    j+=1\n",
    "    prev=maximum\n",
    "# i=자릿수 / j=0붙여주기\n",
    "\n",
    "cnt = (N-(prev+1))//i  # 각 자릿수별 최소숫자(1,10,100)으로부터 몇 번째 숫자인지?\n",
    "num = (10**(i-1)) + cnt # 그럼 N이 가리키고 있는 숫자는 무엇인지?\n",
    "num = str(num) # 숫자를 인덱스로 접근하기 위한 캐스팅\n",
    "d = (N-(prev+1))%i # N은 숫자의 몇 번째인지? -> num=123 이면, 123의 몇번째 숫자인지?\n",
    "print(num[d]) # 답"
   ]
  },
  {
   "cell_type": "markdown",
   "metadata": {},
   "source": [
    "##### 11. 모든 순열 (백준 - 10974번)\n",
    "- https://www.acmicpc.net/problem/10974"
   ]
  },
  {
   "cell_type": "code",
   "execution_count": 8,
   "metadata": {},
   "outputs": [
    {
     "name": "stdout",
     "output_type": "stream",
     "text": [
      "1 2 3 \n",
      "1 3 2 \n",
      "2 1 3 \n",
      "2 3 1 \n",
      "3 1 2 \n",
      "3 2 1 \n"
     ]
    }
   ],
   "source": [
    "from itertools import permutations # 순열 함수\n",
    "\n",
    "n=int(input())\n",
    "temp=[i for i in range(1,n+1)]\n",
    "\n",
    "for i in list(permutations(temp)):\n",
    "    for j in i:\n",
    "        print(j,end=' ')\n",
    "    print()"
   ]
  },
  {
   "cell_type": "markdown",
   "metadata": {},
   "source": [
    "##### 12. 차이를 최대로 (백준 - 10819번)\n",
    "- https://www.acmicpc.net/problem/10819"
   ]
  },
  {
   "cell_type": "code",
   "execution_count": null,
   "metadata": {},
   "outputs": [],
   "source": [
    "import sys\n",
    "from itertools import permutations\n",
    "\n",
    "input = sys.stdin.readline\n",
    "N = int(input())\n",
    "A = list(map(int, input().split()))\n",
    "\n",
    "cases = list(permutations(A))\n",
    "\n",
    "answer = 0\n",
    "for case in cases:\n",
    "    mid_sum = 0\n",
    "    for i in range(N - 1):\n",
    "        mid_sum += abs(case[i] - case[i + 1])\n",
    "    answer = max(mid_sum, answer)\n",
    "\n",
    "print(answer)"
   ]
  },
  {
   "cell_type": "markdown",
   "metadata": {},
   "source": [
    "##### 13. 팩토리얼 (백준 - 10872번)\n",
    "- https://www.acmicpc.net/problem/10872"
   ]
  },
  {
   "cell_type": "code",
   "execution_count": 15,
   "metadata": {},
   "outputs": [
    {
     "name": "stdout",
     "output_type": "stream",
     "text": [
      "0\n"
     ]
    }
   ],
   "source": [
    "n=int(input())\n",
    "\n",
    "def factorial(n):\n",
    "    if (n<=1):\n",
    "        return 1\n",
    "    return factorial(n-1)*n\n",
    "print(factorial(n))"
   ]
  },
  {
   "cell_type": "markdown",
   "metadata": {},
   "source": [
    "##### 14. 피보나치 수 5 (백준 - 10870번)\n",
    "- https://www.acmicpc.net/problem/10870"
   ]
  },
  {
   "cell_type": "code",
   "execution_count": 13,
   "metadata": {},
   "outputs": [
    {
     "name": "stdout",
     "output_type": "stream",
     "text": [
      "55\n"
     ]
    }
   ],
   "source": [
    "n=int(input())\n",
    "\n",
    "def fibonacci(n):\n",
    "    if ( n <= 1 ):\n",
    "        return n\n",
    "    return fibonacci(n-1) + fibonacci(n-2)\n",
    "print(fibonacci(n))"
   ]
  },
  {
   "cell_type": "markdown",
   "metadata": {},
   "source": [
    "##### 15. 부분수열의 합 (백준 - 1182번)\n",
    "- https://www.acmicpc.net/problem/1182"
   ]
  },
  {
   "cell_type": "code",
   "execution_count": null,
   "metadata": {},
   "outputs": [],
   "source": [
    "# 모든 인덱스를 탐색했을 때가 종료 조건이 된다.\n",
    "n, s=map(int, input().split())\n",
    "\n",
    "num_list=list(map(int, input().split()))\n",
    "\n",
    "def sum_all(num_list):\n",
    "    if\n"
   ]
  },
  {
   "cell_type": "markdown",
   "metadata": {},
   "source": [
    "##### <도전 문제> 오목 (백준 - 2615번)\n",
    "- https://www.acmicpc.net/problem/2615"
   ]
  }
 ],
 "metadata": {
  "kernelspec": {
   "display_name": "Python 3.8.9 64-bit",
   "language": "python",
   "name": "python3"
  },
  "language_info": {
   "codemirror_mode": {
    "name": "ipython",
    "version": 3
   },
   "file_extension": ".py",
   "mimetype": "text/x-python",
   "name": "python",
   "nbconvert_exporter": "python",
   "pygments_lexer": "ipython3",
   "version": "3.8.9"
  },
  "orig_nbformat": 4,
  "vscode": {
   "interpreter": {
    "hash": "31f2aee4e71d21fbe5cf8b01ff0e069b9275f58929596ceb00d14d90e3e16cd6"
   }
  }
 },
 "nbformat": 4,
 "nbformat_minor": 2
}
