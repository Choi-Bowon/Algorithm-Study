{
 "cells": [
  {
   "cell_type": "markdown",
   "metadata": {},
   "source": [
    "##### 1. 수 정렬하기 2 (백준 - 2751번)\n",
    "- https://www.acmicpc.net/problem/2751"
   ]
  },
  {
   "cell_type": "code",
   "execution_count": null,
   "metadata": {},
   "outputs": [],
   "source": [
    "import sys\n",
    "N=int(input())\n",
    "result=[]\n",
    "for i in range(N):\n",
    "    result.append(int(sys.stdin.readline()))\n",
    "result=sorted(result)\n",
    "for i in result:\n",
    "    print(i)"
   ]
  },
  {
   "cell_type": "markdown",
   "metadata": {},
   "source": [
    "##### 2. 소트인사이드 (백준 - 1427번)\n",
    "- https://www.acmicpc.net/problem/1427"
   ]
  },
  {
   "cell_type": "code",
   "execution_count": 20,
   "metadata": {},
   "outputs": [
    {
     "name": "stdout",
     "output_type": "stream",
     "text": [
      "\n"
     ]
    }
   ],
   "source": [
    "import sys\n",
    "N=input()\n",
    "result=[]\n",
    "re=''\n",
    "for i in N[::-1]:\n",
    "    result.append(i)\n",
    "sorted_result=sorted(result,reverse=True)\n",
    "for i in sorted_result:\n",
    "    re+=i\n",
    "print(re)"
   ]
  },
  {
   "cell_type": "markdown",
   "metadata": {},
   "source": [
    "##### 3. 수 찾기 (백준 - 1920번)\n",
    "- https://www.acmicpc.net/problem/1920"
   ]
  },
  {
   "cell_type": "code",
   "execution_count": 24,
   "metadata": {},
   "outputs": [
    {
     "name": "stdout",
     "output_type": "stream",
     "text": [
      "1\n",
      "1\n",
      "0\n",
      "0\n",
      "1\n"
     ]
    }
   ],
   "source": [
    "N= int(input())\n",
    "N_list=set(map(int, input().split()))\n",
    "M= int(input())\n",
    "M_list=list(map(int, input().split()))\n",
    "\n",
    "for i in M_list:\n",
    "    print(1) if i in N_list else print(0)"
   ]
  },
  {
   "cell_type": "code",
   "execution_count": null,
   "metadata": {},
   "outputs": [],
   "source": [
    "# 이진탐색 풀이\n",
    "n = int(input())\n",
    "n_arr = sorted(list(map(int, input().split())))\n",
    "m = int(input())\n",
    "m_arr = list(map(int, input().split()))\n",
    "\n",
    "def binary(i):\n",
    "    first = 0\n",
    "    end = n - 1\n",
    "\n",
    "    while first <= end:\n",
    "        mid = (first + end) // 2\n",
    "        if n_arr[mid] == i:\n",
    "            return True\n",
    "        if i < n_arr[mid]:\n",
    "            end = mid - 1\n",
    "        elif i > n_arr[mid]:\n",
    "            first = mid + 1\n",
    "\n",
    "\n",
    "for i in range(m):\n",
    "    if binary(m_arr[i]):\n",
    "        print(1)\n",
    "    else:\n",
    "        print(0)\n"
   ]
  },
  {
   "cell_type": "markdown",
   "metadata": {},
   "source": [
    "##### 4. 나무 자르기 (백준 - 2805번)\n",
    "- https://www.acmicpc.net/problem/2805"
   ]
  },
  {
   "cell_type": "code",
   "execution_count": 42,
   "metadata": {},
   "outputs": [
    {
     "name": "stdout",
     "output_type": "stream",
     "text": [
      "3\n"
     ]
    }
   ],
   "source": [
    "# 재귀 방식으로 풀어보기\n",
    "N, M= map(int,input().split())\n",
    "N_list=sorted(list(map(int,input().split())),reverse=True)\n",
    "# h ???\n",
    "h=N_list[0]\n",
    "for i in range(1,h+1)[::-1]:\n",
    "    for j in N_list:\n",
    "        sum=0\n",
    "        if j>=i:\n",
    "            sum+=j-i    \n",
    "    if sum>=M:\n",
    "        print(i)\n",
    "        break\n",
    "    else:\n",
    "        pass"
   ]
  },
  {
   "cell_type": "code",
   "execution_count": 40,
   "metadata": {},
   "outputs": [
    {
     "name": "stdout",
     "output_type": "stream",
     "text": [
      "15\n"
     ]
    }
   ],
   "source": [
    "N, M= map(int,input().split())\n",
    "N_list=list(map(int,input().split()))\n",
    "start,max_h=1, max(N_list)\n",
    "\n",
    "# 절단기의 높이를 조절해가며 이진탐색\n",
    "while start <= max_h:\n",
    "    mid = (start + max_h) // 2\n",
    "    log=0\n",
    "\n",
    "    # 이거까진 생각했음\n",
    "    for i in N_list:\n",
    "        if i >=mid:\n",
    "            log+=i-mid\n",
    "        \n",
    "    if log>=M:\n",
    "        start=mid+1\n",
    "    else:\n",
    "        max_h=mid-1\n",
    "print(max_h)"
   ]
  },
  {
   "cell_type": "markdown",
   "metadata": {},
   "source": [
    "##### 5. 랜선 자르기 (백준 - 1654번)\n",
    "- https://www.acmicpc.net/problem/1654"
   ]
  },
  {
   "cell_type": "code",
   "execution_count": null,
   "metadata": {},
   "outputs": [],
   "source": [
    "# K는 가지고 있는 랜선의 수\n",
    "# N은 \n",
    "K, N=map(int, input().split()) \n",
    "line=[]\n",
    "for i in range(K):\n",
    "    line.append(int(input()))\n"
   ]
  },
  {
   "cell_type": "markdown",
   "metadata": {},
   "source": [
    "##### 오목 (백준 - 2615번)\n",
    "- https://www.acmicpc.net/problem/2615"
   ]
  },
  {
   "cell_type": "code",
   "execution_count": 38,
   "metadata": {},
   "outputs": [
    {
     "ename": "TypeError",
     "evalue": "unsupported operand type(s) for -: 'list' and 'int'",
     "output_type": "error",
     "traceback": [
      "\u001b[0;31m---------------------------------------------------------------------------\u001b[0m",
      "\u001b[0;31mTypeError\u001b[0m                                 Traceback (most recent call last)",
      "\u001b[1;32m/Users/choibowon/Desktop/Algorithm_Study/문제 풀이/11.05.ipynb 셀 12\u001b[0m in \u001b[0;36m<cell line: 2>\u001b[0;34m()\u001b[0m\n\u001b[1;32m      <a href='vscode-notebook-cell:/Users/choibowon/Desktop/Algorithm_Study/%EB%AC%B8%EC%A0%9C%20%ED%92%80%EC%9D%B4/11.05.ipynb#W3sZmlsZQ%3D%3D?line=0'>1</a>\u001b[0m a\u001b[39m=\u001b[39m[\u001b[39m1\u001b[39m,\u001b[39m2\u001b[39m,\u001b[39m3\u001b[39m,\u001b[39m4\u001b[39m]\n\u001b[0;32m----> <a href='vscode-notebook-cell:/Users/choibowon/Desktop/Algorithm_Study/%EB%AC%B8%EC%A0%9C%20%ED%92%80%EC%9D%B4/11.05.ipynb#W3sZmlsZQ%3D%3D?line=1'>2</a>\u001b[0m a\u001b[39m-\u001b[39;49m\u001b[39m1\u001b[39;49m\n",
      "\u001b[0;31mTypeError\u001b[0m: unsupported operand type(s) for -: 'list' and 'int'"
     ]
    }
   ],
   "source": []
  },
  {
   "cell_type": "code",
   "execution_count": null,
   "metadata": {},
   "outputs": [],
   "source": []
  }
 ],
 "metadata": {
  "kernelspec": {
   "display_name": "Python 3.8.9 64-bit",
   "language": "python",
   "name": "python3"
  },
  "language_info": {
   "codemirror_mode": {
    "name": "ipython",
    "version": 3
   },
   "file_extension": ".py",
   "mimetype": "text/x-python",
   "name": "python",
   "nbconvert_exporter": "python",
   "pygments_lexer": "ipython3",
   "version": "3.8.9"
  },
  "orig_nbformat": 4,
  "vscode": {
   "interpreter": {
    "hash": "31f2aee4e71d21fbe5cf8b01ff0e069b9275f58929596ceb00d14d90e3e16cd6"
   }
  }
 },
 "nbformat": 4,
 "nbformat_minor": 2
}
