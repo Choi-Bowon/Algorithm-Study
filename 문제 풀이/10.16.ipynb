{
 "cells": [
  {
   "cell_type": "markdown",
   "metadata": {},
   "source": [
    "### 1. 실패율 (아직 못 품)\n",
    "- https://school.programmers.co.kr/learn/courses/30/lessons/42889"
   ]
  },
  {
   "cell_type": "markdown",
   "metadata": {},
   "source": [
    "- N\t5\n",
    "- stages\t[2, 1, 2, 6, 2, 4, 3, 3]\n",
    "- result\t[3,4,2,1,5]"
   ]
  },
  {
   "cell_type": "code",
   "execution_count": 11,
   "metadata": {},
   "outputs": [],
   "source": [
    "def solution(N, stages):\n",
    "    answer = []\n",
    "    for i in range(1,N+1):\n",
    "        if i in stages:\n",
    "            answer.append(stages.count(i))\n",
    "        else:\n",
    "            answer.append(0)\n",
    "            \n",
    "    return answer"
   ]
  },
  {
   "cell_type": "code",
   "execution_count": 132,
   "metadata": {},
   "outputs": [],
   "source": [
    "def solution(N, stages):\n",
    "    result = []\n",
    "    answer=[]\n",
    "    count=len(stages)\n",
    "    for i in range(1,N+1):\n",
    "        try:\n",
    "            if i in stages:\n",
    "                answer.append(stages.count(i)/(count-stages.count(i)))\n",
    "                count-=stages.count(i)\n",
    "            else:\n",
    "                answer.append(0)\n",
    "        except:\n",
    "            answer.append(0)\n",
    "\n",
    "    index=[i for i in range(1,N+1)]  \n",
    "\n",
    "    diction=dict(zip(index, answer))\n",
    "    # print(diction)\n",
    "    reversed_diction=sorted(diction.values(),reverse=True)\n",
    "    # print(reversed_diction)\n",
    "    \n",
    "    for i in reversed_diction:\n",
    "        for k, v in diction.items():\n",
    "            if i==v:\n",
    "                result.append(k)\n",
    "                break\n",
    "            \n",
    "    return result"
   ]
  },
  {
   "cell_type": "code",
   "execution_count": 133,
   "metadata": {},
   "outputs": [
    {
     "data": {
      "text/plain": [
       "[3, 3, 2, 1, 5]"
      ]
     },
     "execution_count": 133,
     "metadata": {},
     "output_type": "execute_result"
    }
   ],
   "source": [
    "N=5\n",
    "stages=[2, 1, 2, 6, 2, 4, 3, 3]\n",
    "solution(N,stages)\n",
    "# result[3,4,2,1,5]"
   ]
  },
  {
   "cell_type": "code",
   "execution_count": null,
   "metadata": {},
   "outputs": [],
   "source": []
  }
 ],
 "metadata": {
  "kernelspec": {
   "display_name": "Python 3.8.9 64-bit",
   "language": "python",
   "name": "python3"
  },
  "language_info": {
   "codemirror_mode": {
    "name": "ipython",
    "version": 3
   },
   "file_extension": ".py",
   "mimetype": "text/x-python",
   "name": "python",
   "nbconvert_exporter": "python",
   "pygments_lexer": "ipython3",
   "version": "3.8.9"
  },
  "orig_nbformat": 4,
  "vscode": {
   "interpreter": {
    "hash": "31f2aee4e71d21fbe5cf8b01ff0e069b9275f58929596ceb00d14d90e3e16cd6"
   }
  }
 },
 "nbformat": 4,
 "nbformat_minor": 2
}
