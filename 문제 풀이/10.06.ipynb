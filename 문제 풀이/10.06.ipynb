{
 "cells": [
  {
   "cell_type": "code",
   "execution_count": null,
   "metadata": {},
   "outputs": [],
   "source": [
    "def solution(clothes):\n",
    "    answer = 0\n",
    "    re=[]\n",
    "    for i in clothes:\n",
    "        re.append(i[1])\n",
    "\n",
    "    if len(set(re))==1:\n",
    "        answer=len(clothes)\n",
    "    elif len(set(re))==2:\n",
    "        answer=len(clothes)+2*(len(clothes)-2)\n",
    "    elif len(set(re))==3:\n",
    "        answer=len(clothes)+3*(len(clothes)-3)\n",
    "    else:\n",
    "        answer=len(clothes)+4*(len(clothes)-4)\n",
    "        \n",
    "    return answer"
   ]
  },
  {
   "cell_type": "code",
   "execution_count": 10,
   "metadata": {},
   "outputs": [
    {
     "name": "stdout",
     "output_type": "stream",
     "text": [
      "1\n"
     ]
    }
   ],
   "source": [
    "clothes=[[\"yellow_hat\", \"headgear\"], [\"blue_sunglasses\", \"eyewear\"], [\"green_turban\", \"headgear\"]]\n",
    "re=[]\n",
    "\n",
    "for i in clothes:\n",
    "        re.append(i[1])\n",
    "print(re.count(re[1]))\n"
   ]
  },
  {
   "cell_type": "code",
   "execution_count": null,
   "metadata": {},
   "outputs": [],
   "source": [
    "re.count('headgear')\n",
    "re.count('headgear')"
   ]
  },
  {
   "cell_type": "code",
   "execution_count": 11,
   "metadata": {},
   "outputs": [],
   "source": [
    "import math\n",
    "def solution(clothes):\n",
    "    answer = 0\n",
    "    re=[]\n",
    "    for i in clothes:\n",
    "        re.append(i[1])\n",
    "\n",
    "    if len(set(re))==1:\n",
    "        answer=len(clothes)\n",
    "    elif len(set(re))==2:\n",
    "        answer=len(re)+math.factorial(re.count(re[0]))/math.factorial(re.count(re[0])-1)*(math.factorial(re.count(re[1]))/math.factorial(re.count(re[1])-1))\n",
    "    elif len(set(re))==3:\n",
    "        answer=len(re)+math.factorial(re.count(re[0]))/math.factorial(re.count(re[0])-1)*math.factorial(re.count(re[1]))/math.factorial(re.count(re[1])-1)*math.factorial(re.count(re[2]))/math.factorial(re.count(re[2])-1)\n",
    "    else:\n",
    "        answer=len(re)+math.factorial(re.count(re[0]))/math.factorial(re.count(re[0])-1)*math.factorial(re.count(re[1]))/math.factorial(re.count(re[1])-1)*math.factorial(re.count(re[2]))/math.factorial(re.count(re[2])-1)*math.factorial(re.count(re[3]))/math.factorial(re.count(re[3])-1)\n",
    "        \n",
    "    return answer"
   ]
  },
  {
   "cell_type": "code",
   "execution_count": null,
   "metadata": {},
   "outputs": [],
   "source": []
  }
 ],
 "metadata": {
  "kernelspec": {
   "display_name": "Python 3.8.9 64-bit",
   "language": "python",
   "name": "python3"
  },
  "language_info": {
   "codemirror_mode": {
    "name": "ipython",
    "version": 3
   },
   "file_extension": ".py",
   "mimetype": "text/x-python",
   "name": "python",
   "nbconvert_exporter": "python",
   "pygments_lexer": "ipython3",
   "version": "3.8.9"
  },
  "orig_nbformat": 4,
  "vscode": {
   "interpreter": {
    "hash": "31f2aee4e71d21fbe5cf8b01ff0e069b9275f58929596ceb00d14d90e3e16cd6"
   }
  }
 },
 "nbformat": 4,
 "nbformat_minor": 2
}
