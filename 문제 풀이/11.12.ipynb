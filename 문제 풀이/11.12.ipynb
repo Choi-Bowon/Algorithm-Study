{
 "cells": [
  {
   "cell_type": "markdown",
   "metadata": {},
   "source": [
    "##### 1. 직사각형에서 탈출"
   ]
  },
  {
   "cell_type": "code",
   "execution_count": 4,
   "metadata": {},
   "outputs": [
    {
     "name": "stdout",
     "output_type": "stream",
     "text": [
      "161\n"
     ]
    }
   ],
   "source": [
    "x, y, w, h = map(int,input().split())\n",
    "\n",
    "min_x=min(abs(x-w),abs(y-h))\n",
    "min_y=min(x,y,w,h)\n",
    "\n",
    "print(min(min_x,min_y))"
   ]
  },
  {
   "cell_type": "markdown",
   "metadata": {},
   "source": [
    "##### 2. 소수 찾기"
   ]
  },
  {
   "cell_type": "code",
   "execution_count": null,
   "metadata": {},
   "outputs": [
    {
     "name": "stdout",
     "output_type": "stream",
     "text": [
      "5\n"
     ]
    }
   ],
   "source": [
    "\n",
    "n=int(input())\n",
    "nums=list(map(int,input().split()))\n",
    "result=0\n",
    "\n",
    "for num in nums:\n",
    "    answer=0\n",
    "    for i in range(1,num+1):\n",
    "        if num%i==0:\n",
    "            answer+=1\n",
    "        else:\n",
    "            pass\n",
    "    if answer==2:\n",
    "        result+=1\n",
    "\n",
    "print(result)\n",
    "#2 3 4 5 6 7 7 -> 5개"
   ]
  },
  {
   "cell_type": "markdown",
   "metadata": {},
   "source": [
    "##### 3. 설탕 배달"
   ]
  },
  {
   "cell_type": "code",
   "execution_count": null,
   "metadata": {},
   "outputs": [
    {
     "name": "stdout",
     "output_type": "stream",
     "text": [
      "3\n"
     ]
    }
   ],
   "source": [
    "n=int(input())\n",
    "\n",
    "if (n==4) or (n==7):\n",
    "    print(-1)\n",
    "elif (n%5==0):\n",
    "    print(n//5)\n",
    "elif (n%5==1) or (n%5==3):\n",
    "    print(n//5+1)\n",
    "elif (n%5==2) or (n%5==4):\n",
    "    print(n//5+2)\n"
   ]
  },
  {
   "cell_type": "markdown",
   "metadata": {},
   "source": [
    "##### 4. 링"
   ]
  },
  {
   "cell_type": "code",
   "execution_count": null,
   "metadata": {},
   "outputs": [
    {
     "name": "stdout",
     "output_type": "stream",
     "text": [
      "300/1\n",
      "300/1\n",
      "1/1\n"
     ]
    }
   ],
   "source": [
    "from fractions import Fraction\n",
    "\n",
    "n=int(input())\n",
    "ring=list(map(int, input().split()))\n",
    "\n",
    "for i in range(1,len(ring)):\n",
    "    if ring[0]%ring[i]==0:\n",
    "        print(f'{ring[0]//ring[i]}/1')\n",
    "    else:\n",
    "        print(Fraction(ring[0],ring[i]))"
   ]
  },
  {
   "cell_type": "markdown",
   "metadata": {},
   "source": [
    "##### 5. 성적 통계"
   ]
  },
  {
   "cell_type": "code",
   "execution_count": null,
   "metadata": {},
   "outputs": [
    {
     "name": "stdout",
     "output_type": "stream",
     "text": [
      "Class 1\n",
      "Max 78, Min 23, Largest gap 46\n",
      "Class 2\n",
      "Max 99, Min 25, Largest gap 25\n"
     ]
    }
   ],
   "source": [
    "k=int(input())\n",
    "scores=[]\n",
    "for i in range(k):\n",
    "    scores.append(list(map(int,input().split())))\n",
    "    gap=sorted(scores[i][1:],reverse=True)\n",
    "    max_gap=0\n",
    "    for j in range(len(gap)+1):\n",
    "        try:\n",
    "            if gap[j]-gap[j+1]>max_gap:\n",
    "                max_gap=gap[j]-gap[j+1]\n",
    "        except:\n",
    "            pass\n",
    "    print(f'Class {i+1}')\n",
    "    print(f'Max {max(scores[i][1:])}, Min {min(scores[i][1:])}, Largest gap {max_gap}')"
   ]
  },
  {
   "cell_type": "markdown",
   "metadata": {},
   "source": [
    "##### 6. 좌표 압축 (백준 - 18870번/오늘 문제 중 난이도 상)\n",
    "- https://www.acmicpc.net/problem/18870"
   ]
  },
  {
   "cell_type": "code",
   "execution_count": null,
   "metadata": {},
   "outputs": [
    {
     "name": "stdout",
     "output_type": "stream",
     "text": [
      "1 0 1 0 1 0 "
     ]
    }
   ],
   "source": [
    "import sys\n",
    "input=sys.stdin.readline\n",
    "\n",
    "n=int(input())\n",
    "nums=list(map(int, input().split()))\n",
    "\n",
    "result=list(sorted(set(nums)))\n",
    "\n",
    "dic = {result[i]:i for i in range(len(result))}\n",
    "\n",
    "for i in nums:\n",
    "  print(dic[i],end=' ')"
   ]
  },
  {
   "cell_type": "markdown",
   "metadata": {},
   "source": [
    "##### 7. 용돈 관리 (백준 - 2839번/이진탐색)\n",
    "- https://www.acmicpc.net/problem/2839"
   ]
  },
  {
   "cell_type": "code",
   "execution_count": null,
   "metadata": {},
   "outputs": [],
   "source": [
    "n, m = int(input().split())\n",
    "money=[]\n",
    "\n",
    "for i in range(n):\n",
    "    money.append(int(input()))\n",
    "\n"
   ]
  },
  {
   "cell_type": "markdown",
   "metadata": {},
   "source": [
    "##### 8. 전화번호 수수께끼 (Large) (백준 - 14370번)\n",
    "- https://www.acmicpc.net/problem/14370"
   ]
  },
  {
   "cell_type": "code",
   "execution_count": null,
   "metadata": {},
   "outputs": [],
   "source": [
    "t=int(input())\n",
    "# 숫자 문자열 별 유일한 알파벳을 기준으로 포함 여부를 확인\n",
    "s_dict=['ZERO','ONE','TWO','THREE','FOUR','FIVE','SIX','SEVEN','EIGHT','NINE']\n",
    "# 0:Z, 2:W, 6:X, 8:G, 4:U, 5:F, 3:H, \n",
    "s=[]\n",
    "for i in range(t):\n",
    "    for j in s_dict:\n",
    "        s=input()\n",
    "        if j in s:\n",
    "            j.remove()\n",
    "    \n",
    "\n",
    "            print(f'Case #{i}: {}')"
   ]
  },
  {
   "cell_type": "markdown",
   "metadata": {},
   "source": [
    "##### 9. PPAP (백준 - 16120번)\n",
    "- https://www.acmicpc.net/problem/16120"
   ]
  },
  {
   "cell_type": "code",
   "execution_count": 23,
   "metadata": {},
   "outputs": [
    {
     "ename": "KeyboardInterrupt",
     "evalue": "",
     "output_type": "error",
     "traceback": [
      "\u001b[0;31m---------------------------------------------------------------------------\u001b[0m",
      "\u001b[0;31mKeyboardInterrupt\u001b[0m                         Traceback (most recent call last)",
      "\u001b[1;32m/Users/choibowon/Desktop/Algorithm_Study/문제 풀이/11.12.ipynb 셀 18\u001b[0m in \u001b[0;36m<cell line: 4>\u001b[0;34m()\u001b[0m\n\u001b[1;32m      <a href='vscode-notebook-cell:/Users/choibowon/Desktop/Algorithm_Study/%EB%AC%B8%EC%A0%9C%20%ED%92%80%EC%9D%B4/11.12.ipynb#X24sZmlsZQ%3D%3D?line=0'>1</a>\u001b[0m \u001b[39m# import sys\u001b[39;00m\n\u001b[1;32m      <a href='vscode-notebook-cell:/Users/choibowon/Desktop/Algorithm_Study/%EB%AC%B8%EC%A0%9C%20%ED%92%80%EC%9D%B4/11.12.ipynb#X24sZmlsZQ%3D%3D?line=1'>2</a>\u001b[0m \u001b[39m# input=sys.stdin.readline\u001b[39;00m\n\u001b[0;32m----> <a href='vscode-notebook-cell:/Users/choibowon/Desktop/Algorithm_Study/%EB%AC%B8%EC%A0%9C%20%ED%92%80%EC%9D%B4/11.12.ipynb#X24sZmlsZQ%3D%3D?line=3'>4</a>\u001b[0m s\u001b[39m=\u001b[39m\u001b[39minput\u001b[39;49m()\n\u001b[1;32m      <a href='vscode-notebook-cell:/Users/choibowon/Desktop/Algorithm_Study/%EB%AC%B8%EC%A0%9C%20%ED%92%80%EC%9D%B4/11.12.ipynb#X24sZmlsZQ%3D%3D?line=5'>6</a>\u001b[0m \u001b[39mwhile\u001b[39;00m s \u001b[39m!=\u001b[39m \u001b[39m'\u001b[39m\u001b[39mPPAP\u001b[39m\u001b[39m'\u001b[39m:\n\u001b[1;32m      <a href='vscode-notebook-cell:/Users/choibowon/Desktop/Algorithm_Study/%EB%AC%B8%EC%A0%9C%20%ED%92%80%EC%9D%B4/11.12.ipynb#X24sZmlsZQ%3D%3D?line=6'>7</a>\u001b[0m     \u001b[39mif\u001b[39;00m \u001b[39m'\u001b[39m\u001b[39mPPAP\u001b[39m\u001b[39m'\u001b[39m \u001b[39mnot\u001b[39;00m \u001b[39min\u001b[39;00m s:\n",
      "\u001b[0;31mKeyboardInterrupt\u001b[0m: "
     ]
    }
   ],
   "source": [
    "import sys\n",
    "input=sys.stdin.readline\n",
    "\n",
    "s=input()\n",
    "\n",
    "while s != 'PPAP':\n",
    "    if 'PPAP' not in s:\n",
    "        print('NP')\n",
    "        break\n",
    "    else:\n",
    "        s=s.replace('PPAP','P')\n",
    "\n",
    "if s=='P' or s =='PPAP':\n",
    "    print('PPAP')"
   ]
  },
  {
   "cell_type": "markdown",
   "metadata": {},
   "source": [
    "##### 10. 바이러스 (백준 - 2606번/DFS)\n",
    "- https://www.acmicpc.net/problem/2606\n",
    "\n",
    "![](https://img1.daumcdn.net/thumb/R1280x0/?scode=mtistory2&fname=https%3A%2F%2Fk.kakaocdn.net%2Fdn%2FbezKQt%2FbtrHpEI72Xi%2F0t3JF7FMse2fCAsq48YLv1%2Fimg.png)"
   ]
  },
  {
   "cell_type": "code",
   "execution_count": 5,
   "metadata": {},
   "outputs": [
    {
     "name": "stdout",
     "output_type": "stream",
     "text": [
      "4\n"
     ]
    }
   ],
   "source": [
    "n=int(input()) # 컴퓨터 개수\n",
    "v=int(input()) # 연결선 개수\n",
    "\n",
    "graph = [[] for i in range(n+1)] # 그래프 초기화\n",
    "visited=[0]*(n+1) # 방문한 컴퓨터인지 표시\n",
    "\n",
    "for i in range(v): # 그래프 생성\n",
    "    a,b=map(int,input().split())\n",
    "    graph[a]+=[b] # a에 b 연결\n",
    "    graph[b]+=[a] # b에 a 연결 -> 양방향\n",
    "\n",
    "def dfs(v):\n",
    "    visited[v]=1\n",
    "    for nx in graph[v]:\n",
    "        if visited[nx]==0:\n",
    "            dfs(nx)\n",
    "dfs(1)\n",
    "print(sum(visited)-1)"
   ]
  },
  {
   "cell_type": "markdown",
   "metadata": {},
   "source": [
    "##### 11. 연결 요소의 개수 (백준 - 11724개)\n",
    "- https://www.acmicpc.net/problem/11724"
   ]
  },
  {
   "cell_type": "code",
   "execution_count": 2,
   "metadata": {},
   "outputs": [
    {
     "name": "stdout",
     "output_type": "stream",
     "text": [
      "1\n"
     ]
    }
   ],
   "source": [
    "import sys\n",
    "sys.setrecursionlimit(10**7)\n",
    "input = sys.stdin.readline\n",
    "\n",
    "n,m=map(int,input().split()) \n",
    "\n",
    "graph = [[] for i in range(n+1)] # 그래프 초기화\n",
    "visited=[0]*(n+1) \n",
    "\n",
    "for i in range(m): # 그래프 생성\n",
    "    a,b=map(int,input().split())\n",
    "    graph[a]+=[b] # a에 b 연결\n",
    "    graph[b]+=[a] # b에 a 연결 -> 양방향\n",
    "\n",
    "def dfs(v):\n",
    "    visited[v]=1\n",
    "    for nx in graph[v]:\n",
    "        if visited[nx]==0:\n",
    "            visited[nx]=1\n",
    "            dfs(nx)\n",
    "count=0\n",
    "for i in range(1,n+1):\n",
    "    if visited[i]==0:\n",
    "        count+=1\n",
    "        dfs(i)\n",
    "\n",
    "print(count)"
   ]
  },
  {
   "cell_type": "markdown",
   "metadata": {},
   "source": [
    "##### 12. 이분 그래프 (백준 - 1707번)\n",
    "- https://www.acmicpc.net/problem/1707"
   ]
  },
  {
   "cell_type": "code",
   "execution_count": null,
   "metadata": {},
   "outputs": [],
   "source": [
    "# import sys\n",
    "# sys.setrecursionlimit(10**7)\n",
    "# input = sys.stdin.readline\n",
    "\n",
    "n=int(input())\n",
    "\n",
    "graph = [[] for i in range(n+1)] # 그래프 초기화\n",
    "visited=[0]*(n+1) \n",
    "\n",
    "for i in range(m): # 그래프 생성\n",
    "    a,b=map(int,input().split())\n",
    "    graph[a]+=[b] # a에 b 연결\n",
    "    graph[b]+=[a] # b에 a 연결 -> 양방향\n",
    "\n",
    "def dfs(v):\n",
    "    visited[v]=1\n",
    "    for nx in graph[v]:\n",
    "        if visited[nx]==0:\n",
    "            visited[nx]=1\n",
    "            dfs(nx)\n",
    "count=0\n",
    "for i in range(1,n+1):\n",
    "    if visited[i]==0:\n",
    "        count+=1\n",
    "        dfs(i)\n",
    "\n",
    "print(count)"
   ]
  },
  {
   "cell_type": "markdown",
   "metadata": {},
   "source": [
    "##### 13. 단지번호붙이기\n",
    "- https://www.acmicpc.net/problem/2667"
   ]
  },
  {
   "cell_type": "code",
   "execution_count": 7,
   "metadata": {},
   "outputs": [
    {
     "name": "stdout",
     "output_type": "stream",
     "text": [
      "['0110100', '0110101']\n"
     ]
    }
   ],
   "source": [
    "n=int(input())\n",
    "graph = []\n",
    "num=[]\n",
    "for i in range(n):\n",
    "    graph.append(list(map(int,(input()))))\n",
    "dx = [0, 0, 1, -1]\n",
    "dy = [1, -1, 0, 0]\n",
    "\n",
    "def DFS(x,y):\n",
    "    if x < 0 or x >= n or y < 0 or y >= n:\n",
    "        return False\n",
    "    if graph[x][y] == 1:\n",
    "        global count\n",
    "        count += 1\n",
    "        graph[x][y] = 0\n",
    "        for i in range(4):\n",
    "            nx = x + dx[i]\n",
    "            ny = y + dy[i]\n",
    "            DFS(nx, ny)\n",
    "        return True\n",
    "    return False\n",
    "\n",
    "count=0\n",
    "result=0\n",
    "\n",
    "for i in range(n):\n",
    "    for j in range(n):\n",
    "        if DFS(i,j) ==True:\n",
    "            num.append(count)\n",
    "            result+=1\n",
    "            count=0\n",
    "num.sort()\n",
    "print(result)\n",
    "for i in range(len(num)):\n",
    "    print(num[i])"
   ]
  },
  {
   "cell_type": "code",
   "execution_count": null,
   "metadata": {},
   "outputs": [],
   "source": []
  }
 ],
 "metadata": {
  "kernelspec": {
   "display_name": "Python 3.10.4 ('study')",
   "language": "python",
   "name": "python3"
  },
  "language_info": {
   "codemirror_mode": {
    "name": "ipython",
    "version": 3
   },
   "file_extension": ".py",
   "mimetype": "text/x-python",
   "name": "python",
   "nbconvert_exporter": "python",
   "pygments_lexer": "ipython3",
   "version": "3.10.4"
  },
  "orig_nbformat": 4,
  "vscode": {
   "interpreter": {
    "hash": "6d3adedfb80ee571769eb11502afa6f60a6eb52bcaed4a1ba6c74a4ec7405124"
   }
  }
 },
 "nbformat": 4,
 "nbformat_minor": 2
}
