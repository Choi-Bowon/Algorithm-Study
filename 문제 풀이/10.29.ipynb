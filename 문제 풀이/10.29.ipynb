{
 "cells": [
  {
   "cell_type": "markdown",
   "metadata": {},
   "source": [
    "##### 1. A+B (백준 - 1000번)\n",
    "- https://www.acmicpc.net/source/51076619"
   ]
  },
  {
   "cell_type": "code",
   "execution_count": 5,
   "metadata": {},
   "outputs": [
    {
     "data": {
      "text/plain": [
       "7"
      ]
     },
     "execution_count": 5,
     "metadata": {},
     "output_type": "execute_result"
    }
   ],
   "source": [
    "A, B=input().split() \n",
    "print(int(A)+int(B))"
   ]
  },
  {
   "cell_type": "markdown",
   "metadata": {},
   "source": [
    "##### 2. 두 수 비교하기 (백준 - 1330번)\n",
    "- https://www.acmicpc.net/problem/1330"
   ]
  },
  {
   "cell_type": "code",
   "execution_count": null,
   "metadata": {},
   "outputs": [],
   "source": [
    "A, B=input().split() \n",
    "\n",
    "if int(A)>int(B):\n",
    "    print('>')\n",
    "elif int(A)<int(B):\n",
    "    print('<')\n",
    "else:\n",
    "    print('==')"
   ]
  },
  {
   "cell_type": "markdown",
   "metadata": {},
   "source": [
    "##### 3. 시험성적 (백준 - 9498번)\n",
    " - https://www.acmicpc.net/problem/9498"
   ]
  },
  {
   "cell_type": "code",
   "execution_count": null,
   "metadata": {},
   "outputs": [],
   "source": [
    "score=int(input())\n",
    "\n",
    "if score>=90:\n",
    "    print('A')\n",
    "elif score>=80:\n",
    "    print('B')\n",
    "elif score>=70:\n",
    "    print('C')\n",
    "elif score>=60:\n",
    "    print('D')\n",
    "else:\n",
    "    print('F')"
   ]
  },
  {
   "cell_type": "markdown",
   "metadata": {},
   "source": [
    "##### 4. A+B - 3 (백준 - 10950번) \n",
    "- https://www.acmicpc.net/problem/10950"
   ]
  },
  {
   "cell_type": "code",
   "execution_count": 3,
   "metadata": {},
   "outputs": [
    {
     "name": "stdout",
     "output_type": "stream",
     "text": [
      "3\n",
      "3\n",
      "3\n",
      "3\n",
      "3\n"
     ]
    }
   ],
   "source": [
    "T=int(input()) \n",
    "\n",
    "for _ in range(T):\n",
    "    A, B=map(int,input().split())\n",
    "    print(A+B)"
   ]
  },
  {
   "cell_type": "markdown",
   "metadata": {},
   "source": [
    "##### 5. 합 (백준 - 8393번)\n",
    "- https://www.acmicpc.net/problem/8393"
   ]
  },
  {
   "cell_type": "code",
   "execution_count": null,
   "metadata": {},
   "outputs": [],
   "source": [
    "n=int(input())\n",
    "sum=0\n",
    "for i in range(1,n+1):\n",
    "    sum+=i\n",
    "print(sum)"
   ]
  },
  {
   "cell_type": "markdown",
   "metadata": {},
   "source": [
    "##### 6. OX퀴즈 (백준 - 5958번)\n",
    "- https://www.acmicpc.net/problem/8958"
   ]
  },
  {
   "cell_type": "code",
   "execution_count": 9,
   "metadata": {},
   "outputs": [
    {
     "name": "stdout",
     "output_type": "stream",
     "text": [
      "4\n",
      "1\n"
     ]
    }
   ],
   "source": [
    "n=int(input())\n",
    "\n",
    "for i in range(n):\n",
    "    string=input()\n",
    "    score=0\n",
    "    count=0\n",
    "    for s in list(string):\n",
    "        if s =='O':\n",
    "            count+=1\n",
    "            score+=count\n",
    "        else:\n",
    "            count=0\n",
    "    print(score)"
   ]
  },
  {
   "cell_type": "markdown",
   "metadata": {},
   "source": [
    "##### 7. 최소, 최대 (백준 - 10818번)\n",
    "- https://www.acmicpc.net/problem/10818"
   ]
  },
  {
   "cell_type": "code",
   "execution_count": 16,
   "metadata": {},
   "outputs": [
    {
     "name": "stdout",
     "output_type": "stream",
     "text": [
      " \n",
      "3\n"
     ]
    }
   ],
   "source": [
    "N=int(input())\n",
    "num=list(map(int,input().split()))\n",
    "\n",
    "print(min(num),max(num))"
   ]
  },
  {
   "cell_type": "markdown",
   "metadata": {},
   "source": [
    "##### 8. 스택 (백준 - 10828번)\n",
    "- https://www.acmicpc.net/problem/10828"
   ]
  },
  {
   "cell_type": "code",
   "execution_count": null,
   "metadata": {},
   "outputs": [],
   "source": [
    "import sys\n",
    "\n",
    "N=int(sys.stdin.readline())\n",
    "\n",
    "stack=[]\n",
    "for i in range(N):\n",
    "    order = sys.stdin.readline().split()\n",
    "\n",
    "    if order[0]=='push':\n",
    "        stack.append(order[-1])\n",
    "    \n",
    "    elif order[0]=='top':\n",
    "        if len(stack)==0:\n",
    "            print(-1)\n",
    "        else:\n",
    "            print(stack[-1])\n",
    "    elif order[0]=='pop':\n",
    "        if len(stack)==0:\n",
    "            print(-1) \n",
    "        else:\n",
    "            print(stack.pop())\n",
    "    elif order[0]=='size':\n",
    "        print(len(stack))\n",
    "    elif order[0]=='empty':\n",
    "        if len(stack)==0:\n",
    "            print(1)\n",
    "        else:\n",
    "            print(0)"
   ]
  },
  {
   "cell_type": "markdown",
   "metadata": {},
   "source": [
    "##### 9. 괄호 (백준 - 9012번)\n",
    "- https://www.acmicpc.net/problem/9012"
   ]
  },
  {
   "cell_type": "code",
   "execution_count": 27,
   "metadata": {},
   "outputs": [
    {
     "name": "stdout",
     "output_type": "stream",
     "text": [
      "YES\n",
      "YES\n",
      "NO\n"
     ]
    }
   ],
   "source": [
    "N=int(input())\n",
    "\n",
    "\n",
    "for i in range(N):\n",
    "    stack=[]\n",
    "    str=input()\n",
    "    for j in str:\n",
    "        if j=='(':\n",
    "            stack.append(j)\n",
    "        elif j==')':\n",
    "            if stack:\n",
    "                stack.pop()\n",
    "            else:\n",
    "                print('NO')\n",
    "                break\n",
    "    else:\n",
    "        if not stack:\n",
    "            print('YES')\n",
    "        else:\n",
    "            print('NO')"
   ]
  },
  {
   "cell_type": "markdown",
   "metadata": {},
   "source": [
    "----------------------------------------------\n",
    "# 요기 아래서부턴 다시 봐요"
   ]
  },
  {
   "cell_type": "markdown",
   "metadata": {},
   "source": [
    "##### 10. 큐 (백준 - 10845번)\n",
    "- https://www.acmicpc.net/problem/10845"
   ]
  },
  {
   "cell_type": "code",
   "execution_count": null,
   "metadata": {},
   "outputs": [],
   "source": [
    "import sys\n",
    "\n",
    "N=int(sys.stdin.readline())\n",
    "\n",
    "queue=[]\n",
    "\n",
    "for i in range(N):\n",
    "    order = sys.stdin.readline().split()\n",
    "\n",
    "    if order[0]=='push':\n",
    "        queue.insert(0, order[1])\n",
    "\n",
    "    elif order[0]=='pop':\n",
    "        if len(queue)!=0:\n",
    "            print(queue.pop()) \n",
    "        else:\n",
    "            print(-1)\n",
    "\n",
    "    elif order[0]=='size':\n",
    "        print(len(queue))    \n",
    "\n",
    "    elif order[0]=='empty':\n",
    "        if len(queue)==0:\n",
    "            print(1)\n",
    "        else:\n",
    "            print(0)\n",
    "\n",
    "    elif order[0]=='front':\n",
    "        if len(queue)==0:\n",
    "            print(-1)\n",
    "        else:\n",
    "            # 여기 이해 못했음\n",
    "            print(queue[len(queue) -1])\n",
    "            \n",
    "    elif order[0]=='back':\n",
    "        if len(queue)==0:\n",
    "            print(-1)\n",
    "        else:\n",
    "            print(queue[0])\n"
   ]
  },
  {
   "cell_type": "markdown",
   "metadata": {},
   "source": [
    "##### 11. 요세푸스 문제 (백준 - 1158번)\n",
    "- https://www.acmicpc.net/problem/1158"
   ]
  },
  {
   "cell_type": "code",
   "execution_count": 55,
   "metadata": {},
   "outputs": [],
   "source": [
    "### 아직 못 품 ###\n",
    "# N, K=map(int,input().split())\n",
    "\n",
    "# queue=[]\n",
    "\n",
    "# for i in range(1,N+1):\n",
    "#     queue.append(i)\n",
    "\n",
    "# for j in range(1,N):\n",
    "#     for k in range(1,K):\n",
    "#         queue.append(queue[0])\n",
    "#         queue.pop()\n",
    "#     queue.append(i)\n",
    "#     queue.pop()"
   ]
  },
  {
   "cell_type": "markdown",
   "metadata": {},
   "source": [
    "##### 12. 숫자 카드 2 (백준 - 10816)\n",
    "- https://www.acmicpc.net/problem/10816"
   ]
  },
  {
   "cell_type": "code",
   "execution_count": null,
   "metadata": {},
   "outputs": [],
   "source": [
    "N=int(input())\n",
    "li_1=list(map(int,input().split()))\n",
    "M=int(input())\n",
    "li_2=list(map(int,input().split()))\n",
    "\n",
    "\n",
    "for i in N:\n",
    "    cnt=0\n",
    "    diction[i]+=1\n",
    "for i in M:\n",
    "    c"
   ]
  },
  {
   "cell_type": "markdown",
   "metadata": {},
   "source": [
    "##### 13. 숫자 카드 (백준 - 10815)\n",
    "- https://www.acmicpc.net/problem/10815"
   ]
  },
  {
   "cell_type": "code",
   "execution_count": null,
   "metadata": {},
   "outputs": [],
   "source": [
    "import sys\n",
    "\n",
    "N=int(sys.stdin.readline())\n",
    "li_1=set(map(int,sys.stdin.readline().split()))\n",
    "M=int(sys.stdin.readline())\n",
    "li_2=list(map(int,sys.stdin.readline().split()))\n",
    "li=[]\n",
    "\n",
    "for i in li_2:\n",
    "    if i in li_1:\n",
    "        li.append(1)\n",
    "    else:\n",
    "        li.append(0)\n",
    "\n",
    "for i in li:\n",
    "    print(i,end=' ')"
   ]
  },
  {
   "cell_type": "markdown",
   "metadata": {},
   "source": [
    "##### 14. 크게 만들기 (백준 - 2812번)\n",
    "- https://www.acmicpc.net/problem/2812"
   ]
  },
  {
   "cell_type": "code",
   "execution_count": null,
   "metadata": {},
   "outputs": [],
   "source": [
    "N, K= map(int,input().split())\n",
    "n=input()\n",
    "\n",
    "for i in n:\n",
    "    \n"
   ]
  },
  {
   "cell_type": "markdown",
   "metadata": {},
   "source": [
    "##### 15. 최대힙 (백준 - 11279)\n",
    "- https://www.acmicpc.net/problem/11279"
   ]
  },
  {
   "cell_type": "code",
   "execution_count": null,
   "metadata": {},
   "outputs": [],
   "source": []
  },
  {
   "cell_type": "markdown",
   "metadata": {},
   "source": [
    "##### 16. 최소 힙 (백준 - 1927번)\n",
    "- https://www.acmicpc.net/problem/1927"
   ]
  },
  {
   "cell_type": "code",
   "execution_count": null,
   "metadata": {},
   "outputs": [],
   "source": []
  }
 ],
 "metadata": {
  "kernelspec": {
   "display_name": "Python 3.8.9 64-bit",
   "language": "python",
   "name": "python3"
  },
  "language_info": {
   "codemirror_mode": {
    "name": "ipython",
    "version": 3
   },
   "file_extension": ".py",
   "mimetype": "text/x-python",
   "name": "python",
   "nbconvert_exporter": "python",
   "pygments_lexer": "ipython3",
   "version": "3.8.9"
  },
  "orig_nbformat": 4,
  "vscode": {
   "interpreter": {
    "hash": "31f2aee4e71d21fbe5cf8b01ff0e069b9275f58929596ceb00d14d90e3e16cd6"
   }
  }
 },
 "nbformat": 4,
 "nbformat_minor": 2
}
