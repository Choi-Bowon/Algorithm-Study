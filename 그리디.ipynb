{
 "cells": [
  {
   "cell_type": "markdown",
   "metadata": {},
   "source": [
    "# <문제> 거스름돈"
   ]
  },
  {
   "cell_type": "code",
   "execution_count": 2,
   "metadata": {},
   "outputs": [
    {
     "name": "stdout",
     "output_type": "stream",
     "text": [
      "6\n"
     ]
    }
   ],
   "source": [
    "n=1260\n",
    "count=0\n",
    "\n",
    "# 큰 단위의 화폐부터 차례로 확인하기\n",
    "array=[500,100,50,10]\n",
    "\n",
    "for i in array:\n",
    "    count+=n//i\n",
    "    n=n%i   #n%=i\n",
    "\n",
    "# 2+2+1+1=6\n",
    "print(count)\n",
    "\n"
   ]
  },
  {
   "cell_type": "code",
   "execution_count": 22,
   "metadata": {},
   "outputs": [
    {
     "name": "stdout",
     "output_type": "stream",
     "text": [
      "2\n"
     ]
    }
   ],
   "source": [
    "\n",
    "\n",
    "result=0\n",
    "n,k=map(int,input().split())\n",
    "\n",
    "# (n k)\n",
    "for i in range(n):\n",
    "    if n==1:\n",
    "        break\n",
    "    elif n%k==0:\n",
    "        n//=k\n",
    "        result+=1\n",
    "    else:\n",
    "        n-=1\n",
    "        result+=1\n",
    "print(result)\n"
   ]
  },
  {
   "cell_type": "code",
   "execution_count": 24,
   "metadata": {},
   "outputs": [
    {
     "name": "stdout",
     "output_type": "stream",
     "text": [
      "2\n"
     ]
    }
   ],
   "source": [
    "# n, k를 공백을 기준으로 구분하여 입력 받기\n",
    "n, k= map(int,input().split())\n",
    "\n",
    "result=0\n",
    "\n",
    "while True:\n",
    "    # N이 K로 나누어 떨어지는 수가 될 때까지 빼기\n",
    "    target=(n//k)*k\n",
    "    result+=(n-target)\n",
    "    n=target \n",
    "    # N이 K보다 작을 때 (더 이상 나눌 수 없을 때) 반복문 탈출\n",
    "    if n<k:\n",
    "        break\n",
    "    # k로 나누기\n",
    "    result+=1\n",
    "    n//=k\n",
    "\n",
    "# 마지막으로 남은 수에 대하여 1씩 빼기\n",
    "result+=(n-1)\n",
    "print(result)"
   ]
  },
  {
   "cell_type": "code",
   "execution_count": 87,
   "metadata": {},
   "outputs": [
    {
     "name": "stdout",
     "output_type": "stream",
     "text": [
      "294\n"
     ]
    }
   ],
   "source": [
    "s='567'\n",
    "s=list(map(int,list(s)))\n",
    "\n",
    "for i in range(len(s)-1):\n",
    "    if s[i]+s[i-1]<=s[i]*s[i-1]:\n",
    "        s.pop(i)\n",
    "        s.insert(i,s[i]*s[i-1])\n",
    "    else:\n",
    "        s.pop(i)\n",
    "        s.insert(i,s[i]+s[i-1])\n",
    "        \n",
    "        \n",
    "print(s[i])"
   ]
  },
  {
   "cell_type": "code",
   "execution_count": 75,
   "metadata": {},
   "outputs": [
    {
     "name": "stdout",
     "output_type": "stream",
     "text": [
      "[0, 2, 9, 8, 4]\n"
     ]
    }
   ],
   "source": [
    "s='02984'\n",
    "s=list(map(int,list(s)))\n",
    "s.pop(0)\n",
    "s.insert(0,0)\n",
    "print(s)"
   ]
  },
  {
   "cell_type": "code",
   "execution_count": 66,
   "metadata": {},
   "outputs": [
    {
     "name": "stdout",
     "output_type": "stream",
     "text": [
      "0 0\n",
      "2 2\n"
     ]
    }
   ],
   "source": [
    "for i in range(10000):\n",
    "    for j in range(10000):\n",
    "        if i*j==i+j:\n",
    "            print(i,j)"
   ]
  },
  {
   "cell_type": "code",
   "execution_count": null,
   "metadata": {},
   "outputs": [],
   "source": []
  }
 ],
 "metadata": {
  "kernelspec": {
   "display_name": "Python 3.8.9 64-bit",
   "language": "python",
   "name": "python3"
  },
  "language_info": {
   "codemirror_mode": {
    "name": "ipython",
    "version": 3
   },
   "file_extension": ".py",
   "mimetype": "text/x-python",
   "name": "python",
   "nbconvert_exporter": "python",
   "pygments_lexer": "ipython3",
   "version": "3.8.9"
  },
  "orig_nbformat": 4,
  "vscode": {
   "interpreter": {
    "hash": "31f2aee4e71d21fbe5cf8b01ff0e069b9275f58929596ceb00d14d90e3e16cd6"
   }
  }
 },
 "nbformat": 4,
 "nbformat_minor": 2
}
